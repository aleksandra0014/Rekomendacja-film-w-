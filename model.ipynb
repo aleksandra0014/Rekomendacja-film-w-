{
  "cells": [
    {
      "cell_type": "markdown",
      "metadata": {
        "id": "view-in-github",
        "colab_type": "text"
      },
      "source": [
        "<a href=\"https://colab.research.google.com/github/aleksandra0014/Rekomendacja-film-w-/blob/main/model.ipynb\" target=\"_parent\"><img src=\"https://colab.research.google.com/assets/colab-badge.svg\" alt=\"Open In Colab\"/></a>"
      ]
    },
    {
      "cell_type": "code",
      "execution_count": null,
      "metadata": {
        "ExecuteTime": {
          "end_time": "2024-02-24T15:42:54.274118600Z",
          "start_time": "2024-02-24T15:42:53.332635300Z"
        },
        "id": "VabXU1RIEFMT"
      },
      "outputs": [],
      "source": [
        "import pandas as pd\n",
        "movies = pd.read_csv('C:\\\\Users\\\\HP\\\\Desktop\\\\projekty\\\\movie reccomender\\\\tmdb_5000_movies.csv')\n",
        "credits = pd.read_csv('C:\\\\Users\\\\HP\\\\Desktop\\\\projekty\\\\movie reccomender\\\\tmdb_5000_credits.csv')"
      ]
    },
    {
      "cell_type": "code",
      "execution_count": null,
      "metadata": {
        "ExecuteTime": {
          "end_time": "2024-02-24T15:42:54.335953800Z",
          "start_time": "2024-02-24T15:42:54.203321800Z"
        },
        "id": "4pAKCRMhEFMU",
        "outputId": "53e6dce3-6c6c-4705-9b25-d948a29331ac"
      },
      "outputs": [
        {
          "data": {
            "text/plain": "      movie_id                                     title  \\\n0        19995                                    Avatar   \n1          285  Pirates of the Caribbean: At World's End   \n2       206647                                   Spectre   \n3        49026                     The Dark Knight Rises   \n4        49529                               John Carter   \n...        ...                                       ...   \n4798      9367                               El Mariachi   \n4799     72766                                 Newlyweds   \n4800    231617                 Signed, Sealed, Delivered   \n4801    126186                          Shanghai Calling   \n4802     25975                         My Date with Drew   \n\n                                                   cast  \\\n0     [{\"cast_id\": 242, \"character\": \"Jake Sully\", \"...   \n1     [{\"cast_id\": 4, \"character\": \"Captain Jack Spa...   \n2     [{\"cast_id\": 1, \"character\": \"James Bond\", \"cr...   \n3     [{\"cast_id\": 2, \"character\": \"Bruce Wayne / Ba...   \n4     [{\"cast_id\": 5, \"character\": \"John Carter\", \"c...   \n...                                                 ...   \n4798  [{\"cast_id\": 1, \"character\": \"El Mariachi\", \"c...   \n4799  [{\"cast_id\": 1, \"character\": \"Buzzy\", \"credit_...   \n4800  [{\"cast_id\": 8, \"character\": \"Oliver O\\u2019To...   \n4801  [{\"cast_id\": 3, \"character\": \"Sam\", \"credit_id...   \n4802  [{\"cast_id\": 3, \"character\": \"Herself\", \"credi...   \n\n                                                   crew  \n0     [{\"credit_id\": \"52fe48009251416c750aca23\", \"de...  \n1     [{\"credit_id\": \"52fe4232c3a36847f800b579\", \"de...  \n2     [{\"credit_id\": \"54805967c3a36829b5002c41\", \"de...  \n3     [{\"credit_id\": \"52fe4781c3a36847f81398c3\", \"de...  \n4     [{\"credit_id\": \"52fe479ac3a36847f813eaa3\", \"de...  \n...                                                 ...  \n4798  [{\"credit_id\": \"52fe44eec3a36847f80b280b\", \"de...  \n4799  [{\"credit_id\": \"52fe487dc3a368484e0fb013\", \"de...  \n4800  [{\"credit_id\": \"52fe4df3c3a36847f8275ecf\", \"de...  \n4801  [{\"credit_id\": \"52fe4ad9c3a368484e16a36b\", \"de...  \n4802  [{\"credit_id\": \"58ce021b9251415a390165d9\", \"de...  \n\n[4803 rows x 4 columns]",
            "text/html": "<div>\n<style scoped>\n    .dataframe tbody tr th:only-of-type {\n        vertical-align: middle;\n    }\n\n    .dataframe tbody tr th {\n        vertical-align: top;\n    }\n\n    .dataframe thead th {\n        text-align: right;\n    }\n</style>\n<table border=\"1\" class=\"dataframe\">\n  <thead>\n    <tr style=\"text-align: right;\">\n      <th></th>\n      <th>movie_id</th>\n      <th>title</th>\n      <th>cast</th>\n      <th>crew</th>\n    </tr>\n  </thead>\n  <tbody>\n    <tr>\n      <th>0</th>\n      <td>19995</td>\n      <td>Avatar</td>\n      <td>[{\"cast_id\": 242, \"character\": \"Jake Sully\", \"...</td>\n      <td>[{\"credit_id\": \"52fe48009251416c750aca23\", \"de...</td>\n    </tr>\n    <tr>\n      <th>1</th>\n      <td>285</td>\n      <td>Pirates of the Caribbean: At World's End</td>\n      <td>[{\"cast_id\": 4, \"character\": \"Captain Jack Spa...</td>\n      <td>[{\"credit_id\": \"52fe4232c3a36847f800b579\", \"de...</td>\n    </tr>\n    <tr>\n      <th>2</th>\n      <td>206647</td>\n      <td>Spectre</td>\n      <td>[{\"cast_id\": 1, \"character\": \"James Bond\", \"cr...</td>\n      <td>[{\"credit_id\": \"54805967c3a36829b5002c41\", \"de...</td>\n    </tr>\n    <tr>\n      <th>3</th>\n      <td>49026</td>\n      <td>The Dark Knight Rises</td>\n      <td>[{\"cast_id\": 2, \"character\": \"Bruce Wayne / Ba...</td>\n      <td>[{\"credit_id\": \"52fe4781c3a36847f81398c3\", \"de...</td>\n    </tr>\n    <tr>\n      <th>4</th>\n      <td>49529</td>\n      <td>John Carter</td>\n      <td>[{\"cast_id\": 5, \"character\": \"John Carter\", \"c...</td>\n      <td>[{\"credit_id\": \"52fe479ac3a36847f813eaa3\", \"de...</td>\n    </tr>\n    <tr>\n      <th>...</th>\n      <td>...</td>\n      <td>...</td>\n      <td>...</td>\n      <td>...</td>\n    </tr>\n    <tr>\n      <th>4798</th>\n      <td>9367</td>\n      <td>El Mariachi</td>\n      <td>[{\"cast_id\": 1, \"character\": \"El Mariachi\", \"c...</td>\n      <td>[{\"credit_id\": \"52fe44eec3a36847f80b280b\", \"de...</td>\n    </tr>\n    <tr>\n      <th>4799</th>\n      <td>72766</td>\n      <td>Newlyweds</td>\n      <td>[{\"cast_id\": 1, \"character\": \"Buzzy\", \"credit_...</td>\n      <td>[{\"credit_id\": \"52fe487dc3a368484e0fb013\", \"de...</td>\n    </tr>\n    <tr>\n      <th>4800</th>\n      <td>231617</td>\n      <td>Signed, Sealed, Delivered</td>\n      <td>[{\"cast_id\": 8, \"character\": \"Oliver O\\u2019To...</td>\n      <td>[{\"credit_id\": \"52fe4df3c3a36847f8275ecf\", \"de...</td>\n    </tr>\n    <tr>\n      <th>4801</th>\n      <td>126186</td>\n      <td>Shanghai Calling</td>\n      <td>[{\"cast_id\": 3, \"character\": \"Sam\", \"credit_id...</td>\n      <td>[{\"credit_id\": \"52fe4ad9c3a368484e16a36b\", \"de...</td>\n    </tr>\n    <tr>\n      <th>4802</th>\n      <td>25975</td>\n      <td>My Date with Drew</td>\n      <td>[{\"cast_id\": 3, \"character\": \"Herself\", \"credi...</td>\n      <td>[{\"credit_id\": \"58ce021b9251415a390165d9\", \"de...</td>\n    </tr>\n  </tbody>\n</table>\n<p>4803 rows × 4 columns</p>\n</div>"
          },
          "execution_count": 221,
          "metadata": {},
          "output_type": "execute_result"
        }
      ],
      "source": [
        "credits"
      ]
    },
    {
      "cell_type": "code",
      "execution_count": null,
      "metadata": {
        "ExecuteTime": {
          "end_time": "2024-02-24T15:42:54.572322600Z",
          "start_time": "2024-02-24T15:42:54.248186800Z"
        },
        "id": "MV6GB1ESEFMW",
        "outputId": "fc56043b-a0ca-419c-c3bf-a0a01796985a"
      },
      "outputs": [
        {
          "data": {
            "text/plain": "         budget                                             genres  \\\n0     237000000  [{\"id\": 28, \"name\": \"Action\"}, {\"id\": 12, \"nam...   \n1     300000000  [{\"id\": 12, \"name\": \"Adventure\"}, {\"id\": 14, \"...   \n2     245000000  [{\"id\": 28, \"name\": \"Action\"}, {\"id\": 12, \"nam...   \n3     250000000  [{\"id\": 28, \"name\": \"Action\"}, {\"id\": 80, \"nam...   \n4     260000000  [{\"id\": 28, \"name\": \"Action\"}, {\"id\": 12, \"nam...   \n...         ...                                                ...   \n4798     220000  [{\"id\": 28, \"name\": \"Action\"}, {\"id\": 80, \"nam...   \n4799       9000  [{\"id\": 35, \"name\": \"Comedy\"}, {\"id\": 10749, \"...   \n4800          0  [{\"id\": 35, \"name\": \"Comedy\"}, {\"id\": 18, \"nam...   \n4801          0                                                 []   \n4802          0                [{\"id\": 99, \"name\": \"Documentary\"}]   \n\n                                               homepage      id  \\\n0                           http://www.avatarmovie.com/   19995   \n1          http://disney.go.com/disneypictures/pirates/     285   \n2           http://www.sonypictures.com/movies/spectre/  206647   \n3                    http://www.thedarkknightrises.com/   49026   \n4                  http://movies.disney.com/john-carter   49529   \n...                                                 ...     ...   \n4798                                                NaN    9367   \n4799                                                NaN   72766   \n4800  http://www.hallmarkchannel.com/signedsealeddel...  231617   \n4801                        http://shanghaicalling.com/  126186   \n4802                                                NaN   25975   \n\n                                               keywords original_language  \\\n0     [{\"id\": 1463, \"name\": \"culture clash\"}, {\"id\":...                en   \n1     [{\"id\": 270, \"name\": \"ocean\"}, {\"id\": 726, \"na...                en   \n2     [{\"id\": 470, \"name\": \"spy\"}, {\"id\": 818, \"name...                en   \n3     [{\"id\": 849, \"name\": \"dc comics\"}, {\"id\": 853,...                en   \n4     [{\"id\": 818, \"name\": \"based on novel\"}, {\"id\":...                en   \n...                                                 ...               ...   \n4798  [{\"id\": 5616, \"name\": \"united states\\u2013mexi...                es   \n4799                                                 []                en   \n4800  [{\"id\": 248, \"name\": \"date\"}, {\"id\": 699, \"nam...                en   \n4801                                                 []                en   \n4802  [{\"id\": 1523, \"name\": \"obsession\"}, {\"id\": 224...                en   \n\n                                original_title  \\\n0                                       Avatar   \n1     Pirates of the Caribbean: At World's End   \n2                                      Spectre   \n3                        The Dark Knight Rises   \n4                                  John Carter   \n...                                        ...   \n4798                               El Mariachi   \n4799                                 Newlyweds   \n4800                 Signed, Sealed, Delivered   \n4801                          Shanghai Calling   \n4802                         My Date with Drew   \n\n                                               overview  popularity  \\\n0     In the 22nd century, a paraplegic Marine is di...  150.437577   \n1     Captain Barbossa, long believed to be dead, ha...  139.082615   \n2     A cryptic message from Bond’s past sends him o...  107.376788   \n3     Following the death of District Attorney Harve...  112.312950   \n4     John Carter is a war-weary, former military ca...   43.926995   \n...                                                 ...         ...   \n4798  El Mariachi just wants to play his guitar and ...   14.269792   \n4799  A newlywed couple's honeymoon is upended by th...    0.642552   \n4800  \"Signed, Sealed, Delivered\" introduces a dedic...    1.444476   \n4801  When ambitious New York attorney Sam is sent t...    0.857008   \n4802  Ever since the second grade when he first saw ...    1.929883   \n\n                                   production_companies  \\\n0     [{\"name\": \"Ingenious Film Partners\", \"id\": 289...   \n1     [{\"name\": \"Walt Disney Pictures\", \"id\": 2}, {\"...   \n2     [{\"name\": \"Columbia Pictures\", \"id\": 5}, {\"nam...   \n3     [{\"name\": \"Legendary Pictures\", \"id\": 923}, {\"...   \n4           [{\"name\": \"Walt Disney Pictures\", \"id\": 2}]   \n...                                                 ...   \n4798           [{\"name\": \"Columbia Pictures\", \"id\": 5}]   \n4799                                                 []   \n4800  [{\"name\": \"Front Street Pictures\", \"id\": 3958}...   \n4801                                                 []   \n4802  [{\"name\": \"rusty bear entertainment\", \"id\": 87...   \n\n                                   production_countries release_date  \\\n0     [{\"iso_3166_1\": \"US\", \"name\": \"United States o...   2009-12-10   \n1     [{\"iso_3166_1\": \"US\", \"name\": \"United States o...   2007-05-19   \n2     [{\"iso_3166_1\": \"GB\", \"name\": \"United Kingdom\"...   2015-10-26   \n3     [{\"iso_3166_1\": \"US\", \"name\": \"United States o...   2012-07-16   \n4     [{\"iso_3166_1\": \"US\", \"name\": \"United States o...   2012-03-07   \n...                                                 ...          ...   \n4798  [{\"iso_3166_1\": \"MX\", \"name\": \"Mexico\"}, {\"iso...   1992-09-04   \n4799                                                 []   2011-12-26   \n4800  [{\"iso_3166_1\": \"US\", \"name\": \"United States o...   2013-10-13   \n4801  [{\"iso_3166_1\": \"US\", \"name\": \"United States o...   2012-05-03   \n4802  [{\"iso_3166_1\": \"US\", \"name\": \"United States o...   2005-08-05   \n\n         revenue  runtime                                   spoken_languages  \\\n0     2787965087    162.0  [{\"iso_639_1\": \"en\", \"name\": \"English\"}, {\"iso...   \n1      961000000    169.0           [{\"iso_639_1\": \"en\", \"name\": \"English\"}]   \n2      880674609    148.0  [{\"iso_639_1\": \"fr\", \"name\": \"Fran\\u00e7ais\"},...   \n3     1084939099    165.0           [{\"iso_639_1\": \"en\", \"name\": \"English\"}]   \n4      284139100    132.0           [{\"iso_639_1\": \"en\", \"name\": \"English\"}]   \n...          ...      ...                                                ...   \n4798     2040920     81.0      [{\"iso_639_1\": \"es\", \"name\": \"Espa\\u00f1ol\"}]   \n4799           0     85.0                                                 []   \n4800           0    120.0           [{\"iso_639_1\": \"en\", \"name\": \"English\"}]   \n4801           0     98.0           [{\"iso_639_1\": \"en\", \"name\": \"English\"}]   \n4802           0     90.0           [{\"iso_639_1\": \"en\", \"name\": \"English\"}]   \n\n        status                                            tagline  \\\n0     Released                        Enter the World of Pandora.   \n1     Released     At the end of the world, the adventure begins.   \n2     Released                              A Plan No One Escapes   \n3     Released                                    The Legend Ends   \n4     Released               Lost in our world, found in another.   \n...        ...                                                ...   \n4798  Released  He didn't come looking for trouble, but troubl...   \n4799  Released  A newlywed couple's honeymoon is upended by th...   \n4800  Released                                                NaN   \n4801  Released                           A New Yorker in Shanghai   \n4802  Released                                                NaN   \n\n                                         title  vote_average  vote_count  \n0                                       Avatar           7.2       11800  \n1     Pirates of the Caribbean: At World's End           6.9        4500  \n2                                      Spectre           6.3        4466  \n3                        The Dark Knight Rises           7.6        9106  \n4                                  John Carter           6.1        2124  \n...                                        ...           ...         ...  \n4798                               El Mariachi           6.6         238  \n4799                                 Newlyweds           5.9           5  \n4800                 Signed, Sealed, Delivered           7.0           6  \n4801                          Shanghai Calling           5.7           7  \n4802                         My Date with Drew           6.3          16  \n\n[4803 rows x 20 columns]",
            "text/html": "<div>\n<style scoped>\n    .dataframe tbody tr th:only-of-type {\n        vertical-align: middle;\n    }\n\n    .dataframe tbody tr th {\n        vertical-align: top;\n    }\n\n    .dataframe thead th {\n        text-align: right;\n    }\n</style>\n<table border=\"1\" class=\"dataframe\">\n  <thead>\n    <tr style=\"text-align: right;\">\n      <th></th>\n      <th>budget</th>\n      <th>genres</th>\n      <th>homepage</th>\n      <th>id</th>\n      <th>keywords</th>\n      <th>original_language</th>\n      <th>original_title</th>\n      <th>overview</th>\n      <th>popularity</th>\n      <th>production_companies</th>\n      <th>production_countries</th>\n      <th>release_date</th>\n      <th>revenue</th>\n      <th>runtime</th>\n      <th>spoken_languages</th>\n      <th>status</th>\n      <th>tagline</th>\n      <th>title</th>\n      <th>vote_average</th>\n      <th>vote_count</th>\n    </tr>\n  </thead>\n  <tbody>\n    <tr>\n      <th>0</th>\n      <td>237000000</td>\n      <td>[{\"id\": 28, \"name\": \"Action\"}, {\"id\": 12, \"nam...</td>\n      <td>http://www.avatarmovie.com/</td>\n      <td>19995</td>\n      <td>[{\"id\": 1463, \"name\": \"culture clash\"}, {\"id\":...</td>\n      <td>en</td>\n      <td>Avatar</td>\n      <td>In the 22nd century, a paraplegic Marine is di...</td>\n      <td>150.437577</td>\n      <td>[{\"name\": \"Ingenious Film Partners\", \"id\": 289...</td>\n      <td>[{\"iso_3166_1\": \"US\", \"name\": \"United States o...</td>\n      <td>2009-12-10</td>\n      <td>2787965087</td>\n      <td>162.0</td>\n      <td>[{\"iso_639_1\": \"en\", \"name\": \"English\"}, {\"iso...</td>\n      <td>Released</td>\n      <td>Enter the World of Pandora.</td>\n      <td>Avatar</td>\n      <td>7.2</td>\n      <td>11800</td>\n    </tr>\n    <tr>\n      <th>1</th>\n      <td>300000000</td>\n      <td>[{\"id\": 12, \"name\": \"Adventure\"}, {\"id\": 14, \"...</td>\n      <td>http://disney.go.com/disneypictures/pirates/</td>\n      <td>285</td>\n      <td>[{\"id\": 270, \"name\": \"ocean\"}, {\"id\": 726, \"na...</td>\n      <td>en</td>\n      <td>Pirates of the Caribbean: At World's End</td>\n      <td>Captain Barbossa, long believed to be dead, ha...</td>\n      <td>139.082615</td>\n      <td>[{\"name\": \"Walt Disney Pictures\", \"id\": 2}, {\"...</td>\n      <td>[{\"iso_3166_1\": \"US\", \"name\": \"United States o...</td>\n      <td>2007-05-19</td>\n      <td>961000000</td>\n      <td>169.0</td>\n      <td>[{\"iso_639_1\": \"en\", \"name\": \"English\"}]</td>\n      <td>Released</td>\n      <td>At the end of the world, the adventure begins.</td>\n      <td>Pirates of the Caribbean: At World's End</td>\n      <td>6.9</td>\n      <td>4500</td>\n    </tr>\n    <tr>\n      <th>2</th>\n      <td>245000000</td>\n      <td>[{\"id\": 28, \"name\": \"Action\"}, {\"id\": 12, \"nam...</td>\n      <td>http://www.sonypictures.com/movies/spectre/</td>\n      <td>206647</td>\n      <td>[{\"id\": 470, \"name\": \"spy\"}, {\"id\": 818, \"name...</td>\n      <td>en</td>\n      <td>Spectre</td>\n      <td>A cryptic message from Bond’s past sends him o...</td>\n      <td>107.376788</td>\n      <td>[{\"name\": \"Columbia Pictures\", \"id\": 5}, {\"nam...</td>\n      <td>[{\"iso_3166_1\": \"GB\", \"name\": \"United Kingdom\"...</td>\n      <td>2015-10-26</td>\n      <td>880674609</td>\n      <td>148.0</td>\n      <td>[{\"iso_639_1\": \"fr\", \"name\": \"Fran\\u00e7ais\"},...</td>\n      <td>Released</td>\n      <td>A Plan No One Escapes</td>\n      <td>Spectre</td>\n      <td>6.3</td>\n      <td>4466</td>\n    </tr>\n    <tr>\n      <th>3</th>\n      <td>250000000</td>\n      <td>[{\"id\": 28, \"name\": \"Action\"}, {\"id\": 80, \"nam...</td>\n      <td>http://www.thedarkknightrises.com/</td>\n      <td>49026</td>\n      <td>[{\"id\": 849, \"name\": \"dc comics\"}, {\"id\": 853,...</td>\n      <td>en</td>\n      <td>The Dark Knight Rises</td>\n      <td>Following the death of District Attorney Harve...</td>\n      <td>112.312950</td>\n      <td>[{\"name\": \"Legendary Pictures\", \"id\": 923}, {\"...</td>\n      <td>[{\"iso_3166_1\": \"US\", \"name\": \"United States o...</td>\n      <td>2012-07-16</td>\n      <td>1084939099</td>\n      <td>165.0</td>\n      <td>[{\"iso_639_1\": \"en\", \"name\": \"English\"}]</td>\n      <td>Released</td>\n      <td>The Legend Ends</td>\n      <td>The Dark Knight Rises</td>\n      <td>7.6</td>\n      <td>9106</td>\n    </tr>\n    <tr>\n      <th>4</th>\n      <td>260000000</td>\n      <td>[{\"id\": 28, \"name\": \"Action\"}, {\"id\": 12, \"nam...</td>\n      <td>http://movies.disney.com/john-carter</td>\n      <td>49529</td>\n      <td>[{\"id\": 818, \"name\": \"based on novel\"}, {\"id\":...</td>\n      <td>en</td>\n      <td>John Carter</td>\n      <td>John Carter is a war-weary, former military ca...</td>\n      <td>43.926995</td>\n      <td>[{\"name\": \"Walt Disney Pictures\", \"id\": 2}]</td>\n      <td>[{\"iso_3166_1\": \"US\", \"name\": \"United States o...</td>\n      <td>2012-03-07</td>\n      <td>284139100</td>\n      <td>132.0</td>\n      <td>[{\"iso_639_1\": \"en\", \"name\": \"English\"}]</td>\n      <td>Released</td>\n      <td>Lost in our world, found in another.</td>\n      <td>John Carter</td>\n      <td>6.1</td>\n      <td>2124</td>\n    </tr>\n    <tr>\n      <th>...</th>\n      <td>...</td>\n      <td>...</td>\n      <td>...</td>\n      <td>...</td>\n      <td>...</td>\n      <td>...</td>\n      <td>...</td>\n      <td>...</td>\n      <td>...</td>\n      <td>...</td>\n      <td>...</td>\n      <td>...</td>\n      <td>...</td>\n      <td>...</td>\n      <td>...</td>\n      <td>...</td>\n      <td>...</td>\n      <td>...</td>\n      <td>...</td>\n      <td>...</td>\n    </tr>\n    <tr>\n      <th>4798</th>\n      <td>220000</td>\n      <td>[{\"id\": 28, \"name\": \"Action\"}, {\"id\": 80, \"nam...</td>\n      <td>NaN</td>\n      <td>9367</td>\n      <td>[{\"id\": 5616, \"name\": \"united states\\u2013mexi...</td>\n      <td>es</td>\n      <td>El Mariachi</td>\n      <td>El Mariachi just wants to play his guitar and ...</td>\n      <td>14.269792</td>\n      <td>[{\"name\": \"Columbia Pictures\", \"id\": 5}]</td>\n      <td>[{\"iso_3166_1\": \"MX\", \"name\": \"Mexico\"}, {\"iso...</td>\n      <td>1992-09-04</td>\n      <td>2040920</td>\n      <td>81.0</td>\n      <td>[{\"iso_639_1\": \"es\", \"name\": \"Espa\\u00f1ol\"}]</td>\n      <td>Released</td>\n      <td>He didn't come looking for trouble, but troubl...</td>\n      <td>El Mariachi</td>\n      <td>6.6</td>\n      <td>238</td>\n    </tr>\n    <tr>\n      <th>4799</th>\n      <td>9000</td>\n      <td>[{\"id\": 35, \"name\": \"Comedy\"}, {\"id\": 10749, \"...</td>\n      <td>NaN</td>\n      <td>72766</td>\n      <td>[]</td>\n      <td>en</td>\n      <td>Newlyweds</td>\n      <td>A newlywed couple's honeymoon is upended by th...</td>\n      <td>0.642552</td>\n      <td>[]</td>\n      <td>[]</td>\n      <td>2011-12-26</td>\n      <td>0</td>\n      <td>85.0</td>\n      <td>[]</td>\n      <td>Released</td>\n      <td>A newlywed couple's honeymoon is upended by th...</td>\n      <td>Newlyweds</td>\n      <td>5.9</td>\n      <td>5</td>\n    </tr>\n    <tr>\n      <th>4800</th>\n      <td>0</td>\n      <td>[{\"id\": 35, \"name\": \"Comedy\"}, {\"id\": 18, \"nam...</td>\n      <td>http://www.hallmarkchannel.com/signedsealeddel...</td>\n      <td>231617</td>\n      <td>[{\"id\": 248, \"name\": \"date\"}, {\"id\": 699, \"nam...</td>\n      <td>en</td>\n      <td>Signed, Sealed, Delivered</td>\n      <td>\"Signed, Sealed, Delivered\" introduces a dedic...</td>\n      <td>1.444476</td>\n      <td>[{\"name\": \"Front Street Pictures\", \"id\": 3958}...</td>\n      <td>[{\"iso_3166_1\": \"US\", \"name\": \"United States o...</td>\n      <td>2013-10-13</td>\n      <td>0</td>\n      <td>120.0</td>\n      <td>[{\"iso_639_1\": \"en\", \"name\": \"English\"}]</td>\n      <td>Released</td>\n      <td>NaN</td>\n      <td>Signed, Sealed, Delivered</td>\n      <td>7.0</td>\n      <td>6</td>\n    </tr>\n    <tr>\n      <th>4801</th>\n      <td>0</td>\n      <td>[]</td>\n      <td>http://shanghaicalling.com/</td>\n      <td>126186</td>\n      <td>[]</td>\n      <td>en</td>\n      <td>Shanghai Calling</td>\n      <td>When ambitious New York attorney Sam is sent t...</td>\n      <td>0.857008</td>\n      <td>[]</td>\n      <td>[{\"iso_3166_1\": \"US\", \"name\": \"United States o...</td>\n      <td>2012-05-03</td>\n      <td>0</td>\n      <td>98.0</td>\n      <td>[{\"iso_639_1\": \"en\", \"name\": \"English\"}]</td>\n      <td>Released</td>\n      <td>A New Yorker in Shanghai</td>\n      <td>Shanghai Calling</td>\n      <td>5.7</td>\n      <td>7</td>\n    </tr>\n    <tr>\n      <th>4802</th>\n      <td>0</td>\n      <td>[{\"id\": 99, \"name\": \"Documentary\"}]</td>\n      <td>NaN</td>\n      <td>25975</td>\n      <td>[{\"id\": 1523, \"name\": \"obsession\"}, {\"id\": 224...</td>\n      <td>en</td>\n      <td>My Date with Drew</td>\n      <td>Ever since the second grade when he first saw ...</td>\n      <td>1.929883</td>\n      <td>[{\"name\": \"rusty bear entertainment\", \"id\": 87...</td>\n      <td>[{\"iso_3166_1\": \"US\", \"name\": \"United States o...</td>\n      <td>2005-08-05</td>\n      <td>0</td>\n      <td>90.0</td>\n      <td>[{\"iso_639_1\": \"en\", \"name\": \"English\"}]</td>\n      <td>Released</td>\n      <td>NaN</td>\n      <td>My Date with Drew</td>\n      <td>6.3</td>\n      <td>16</td>\n    </tr>\n  </tbody>\n</table>\n<p>4803 rows × 20 columns</p>\n</div>"
          },
          "execution_count": 222,
          "metadata": {},
          "output_type": "execute_result"
        }
      ],
      "source": [
        "movies"
      ]
    },
    {
      "cell_type": "code",
      "execution_count": null,
      "metadata": {
        "ExecuteTime": {
          "end_time": "2024-02-24T15:42:54.645126800Z",
          "start_time": "2024-02-24T15:42:54.353904700Z"
        },
        "id": "noPh-tskEFMW"
      },
      "outputs": [],
      "source": [
        "data = movies.merge(credits, how='inner', left_on='id', right_on='movie_id')"
      ]
    },
    {
      "cell_type": "code",
      "execution_count": null,
      "metadata": {
        "ExecuteTime": {
          "end_time": "2024-02-24T15:42:54.730897400Z",
          "start_time": "2024-02-24T15:42:54.403771700Z"
        },
        "id": "e4kT0ttyEFMW",
        "outputId": "31c318cb-6a0d-4fc0-ca94-3383a1e55aae"
      },
      "outputs": [
        {
          "data": {
            "text/plain": "      budget                                             genres  \\\n0  237000000  [{\"id\": 28, \"name\": \"Action\"}, {\"id\": 12, \"nam...   \n\n                      homepage     id  \\\n0  http://www.avatarmovie.com/  19995   \n\n                                            keywords original_language  \\\n0  [{\"id\": 1463, \"name\": \"culture clash\"}, {\"id\":...                en   \n\n  original_title                                           overview  \\\n0         Avatar  In the 22nd century, a paraplegic Marine is di...   \n\n   popularity                               production_companies  ...  \\\n0  150.437577  [{\"name\": \"Ingenious Film Partners\", \"id\": 289...  ...   \n\n                                    spoken_languages    status  \\\n0  [{\"iso_639_1\": \"en\", \"name\": \"English\"}, {\"iso...  Released   \n\n                       tagline  title_x vote_average vote_count movie_id  \\\n0  Enter the World of Pandora.   Avatar          7.2      11800    19995   \n\n  title_y                                               cast  \\\n0  Avatar  [{\"cast_id\": 242, \"character\": \"Jake Sully\", \"...   \n\n                                                crew  \n0  [{\"credit_id\": \"52fe48009251416c750aca23\", \"de...  \n\n[1 rows x 24 columns]",
            "text/html": "<div>\n<style scoped>\n    .dataframe tbody tr th:only-of-type {\n        vertical-align: middle;\n    }\n\n    .dataframe tbody tr th {\n        vertical-align: top;\n    }\n\n    .dataframe thead th {\n        text-align: right;\n    }\n</style>\n<table border=\"1\" class=\"dataframe\">\n  <thead>\n    <tr style=\"text-align: right;\">\n      <th></th>\n      <th>budget</th>\n      <th>genres</th>\n      <th>homepage</th>\n      <th>id</th>\n      <th>keywords</th>\n      <th>original_language</th>\n      <th>original_title</th>\n      <th>overview</th>\n      <th>popularity</th>\n      <th>production_companies</th>\n      <th>...</th>\n      <th>spoken_languages</th>\n      <th>status</th>\n      <th>tagline</th>\n      <th>title_x</th>\n      <th>vote_average</th>\n      <th>vote_count</th>\n      <th>movie_id</th>\n      <th>title_y</th>\n      <th>cast</th>\n      <th>crew</th>\n    </tr>\n  </thead>\n  <tbody>\n    <tr>\n      <th>0</th>\n      <td>237000000</td>\n      <td>[{\"id\": 28, \"name\": \"Action\"}, {\"id\": 12, \"nam...</td>\n      <td>http://www.avatarmovie.com/</td>\n      <td>19995</td>\n      <td>[{\"id\": 1463, \"name\": \"culture clash\"}, {\"id\":...</td>\n      <td>en</td>\n      <td>Avatar</td>\n      <td>In the 22nd century, a paraplegic Marine is di...</td>\n      <td>150.437577</td>\n      <td>[{\"name\": \"Ingenious Film Partners\", \"id\": 289...</td>\n      <td>...</td>\n      <td>[{\"iso_639_1\": \"en\", \"name\": \"English\"}, {\"iso...</td>\n      <td>Released</td>\n      <td>Enter the World of Pandora.</td>\n      <td>Avatar</td>\n      <td>7.2</td>\n      <td>11800</td>\n      <td>19995</td>\n      <td>Avatar</td>\n      <td>[{\"cast_id\": 242, \"character\": \"Jake Sully\", \"...</td>\n      <td>[{\"credit_id\": \"52fe48009251416c750aca23\", \"de...</td>\n    </tr>\n  </tbody>\n</table>\n<p>1 rows × 24 columns</p>\n</div>"
          },
          "execution_count": 224,
          "metadata": {},
          "output_type": "execute_result"
        }
      ],
      "source": [
        "data.head(1)"
      ]
    },
    {
      "cell_type": "code",
      "execution_count": null,
      "metadata": {
        "ExecuteTime": {
          "end_time": "2024-02-24T15:42:55.137809900Z",
          "start_time": "2024-02-24T15:42:54.706974100Z"
        },
        "id": "NoGi1MpsEFMX",
        "outputId": "518be5cf-6791-40d0-d83d-7d3002c5eac2"
      },
      "outputs": [
        {
          "data": {
            "text/plain": "original_language\nen    4505\nfr      70\nes      32\nzh      27\nde      27\nhi      19\nja      16\nit      14\ncn      12\nru      11\nko      11\npt       9\nda       7\nsv       5\nnl       4\nfa       4\nth       3\nhe       3\nta       2\ncs       2\nro       2\nid       2\nar       2\nvi       1\nsl       1\nps       1\nno       1\nky       1\nhu       1\npl       1\naf       1\nnb       1\ntr       1\nis       1\nxx       1\nte       1\nel       1\nName: count, dtype: int64"
          },
          "execution_count": 225,
          "metadata": {},
          "output_type": "execute_result"
        }
      ],
      "source": [
        "data['original_language'].value_counts()"
      ]
    },
    {
      "cell_type": "code",
      "execution_count": null,
      "metadata": {
        "ExecuteTime": {
          "end_time": "2024-02-24T15:42:55.425041800Z",
          "start_time": "2024-02-24T15:42:55.115868600Z"
        },
        "id": "3l1VpEu0EFMX",
        "outputId": "b03ce992-6a8b-4a3d-b014-368f3ad3b166"
      },
      "outputs": [
        {
          "data": {
            "text/plain": "Index(['budget', 'genres', 'homepage', 'id', 'keywords', 'original_language',\n       'original_title', 'overview', 'popularity', 'production_companies',\n       'production_countries', 'release_date', 'revenue', 'runtime',\n       'spoken_languages', 'status', 'tagline', 'title_x', 'vote_average',\n       'vote_count', 'movie_id', 'title_y', 'cast', 'crew'],\n      dtype='object')"
          },
          "execution_count": 226,
          "metadata": {},
          "output_type": "execute_result"
        }
      ],
      "source": [
        "data.columns"
      ]
    },
    {
      "cell_type": "code",
      "execution_count": null,
      "metadata": {
        "ExecuteTime": {
          "end_time": "2024-02-24T15:42:55.597581200Z",
          "start_time": "2024-02-24T15:42:55.357223100Z"
        },
        "id": "yt0PfnK0EFMX"
      },
      "outputs": [],
      "source": [
        "data = data[['movie_id', 'title_x', 'overview', 'genres', 'keywords', 'cast', 'crew']]\n"
      ]
    },
    {
      "cell_type": "code",
      "execution_count": null,
      "metadata": {
        "ExecuteTime": {
          "end_time": "2024-02-24T15:42:55.828963400Z",
          "start_time": "2024-02-24T15:42:55.600574Z"
        },
        "id": "85__uBq5EFMY"
      },
      "outputs": [],
      "source": [
        "data = data.rename(columns={'title_x': 'title'})"
      ]
    },
    {
      "cell_type": "code",
      "execution_count": null,
      "metadata": {
        "ExecuteTime": {
          "end_time": "2024-02-24T15:42:55.976566800Z",
          "start_time": "2024-02-24T15:42:55.822978100Z"
        },
        "id": "3ke4DigxEFMY",
        "outputId": "7d8c6a09-76f0-45ff-bd65-bd61ff6b97e0"
      },
      "outputs": [
        {
          "data": {
            "text/plain": "   movie_id                                     title  \\\n0     19995                                    Avatar   \n1       285  Pirates of the Caribbean: At World's End   \n\n                                            overview  \\\n0  In the 22nd century, a paraplegic Marine is di...   \n1  Captain Barbossa, long believed to be dead, ha...   \n\n                                              genres  \\\n0  [{\"id\": 28, \"name\": \"Action\"}, {\"id\": 12, \"nam...   \n1  [{\"id\": 12, \"name\": \"Adventure\"}, {\"id\": 14, \"...   \n\n                                            keywords  \\\n0  [{\"id\": 1463, \"name\": \"culture clash\"}, {\"id\":...   \n1  [{\"id\": 270, \"name\": \"ocean\"}, {\"id\": 726, \"na...   \n\n                                                cast  \\\n0  [{\"cast_id\": 242, \"character\": \"Jake Sully\", \"...   \n1  [{\"cast_id\": 4, \"character\": \"Captain Jack Spa...   \n\n                                                crew  \n0  [{\"credit_id\": \"52fe48009251416c750aca23\", \"de...  \n1  [{\"credit_id\": \"52fe4232c3a36847f800b579\", \"de...  ",
            "text/html": "<div>\n<style scoped>\n    .dataframe tbody tr th:only-of-type {\n        vertical-align: middle;\n    }\n\n    .dataframe tbody tr th {\n        vertical-align: top;\n    }\n\n    .dataframe thead th {\n        text-align: right;\n    }\n</style>\n<table border=\"1\" class=\"dataframe\">\n  <thead>\n    <tr style=\"text-align: right;\">\n      <th></th>\n      <th>movie_id</th>\n      <th>title</th>\n      <th>overview</th>\n      <th>genres</th>\n      <th>keywords</th>\n      <th>cast</th>\n      <th>crew</th>\n    </tr>\n  </thead>\n  <tbody>\n    <tr>\n      <th>0</th>\n      <td>19995</td>\n      <td>Avatar</td>\n      <td>In the 22nd century, a paraplegic Marine is di...</td>\n      <td>[{\"id\": 28, \"name\": \"Action\"}, {\"id\": 12, \"nam...</td>\n      <td>[{\"id\": 1463, \"name\": \"culture clash\"}, {\"id\":...</td>\n      <td>[{\"cast_id\": 242, \"character\": \"Jake Sully\", \"...</td>\n      <td>[{\"credit_id\": \"52fe48009251416c750aca23\", \"de...</td>\n    </tr>\n    <tr>\n      <th>1</th>\n      <td>285</td>\n      <td>Pirates of the Caribbean: At World's End</td>\n      <td>Captain Barbossa, long believed to be dead, ha...</td>\n      <td>[{\"id\": 12, \"name\": \"Adventure\"}, {\"id\": 14, \"...</td>\n      <td>[{\"id\": 270, \"name\": \"ocean\"}, {\"id\": 726, \"na...</td>\n      <td>[{\"cast_id\": 4, \"character\": \"Captain Jack Spa...</td>\n      <td>[{\"credit_id\": \"52fe4232c3a36847f800b579\", \"de...</td>\n    </tr>\n  </tbody>\n</table>\n</div>"
          },
          "execution_count": 229,
          "metadata": {},
          "output_type": "execute_result"
        }
      ],
      "source": [
        "data.head(2)"
      ]
    },
    {
      "cell_type": "code",
      "execution_count": null,
      "metadata": {
        "ExecuteTime": {
          "end_time": "2024-02-24T15:42:56.039401Z",
          "start_time": "2024-02-24T15:42:55.887806300Z"
        },
        "id": "lODYjNotEFMZ",
        "outputId": "974a52d6-f22c-4dc1-e884-91323343fbce"
      },
      "outputs": [
        {
          "data": {
            "text/plain": "movie_id    0\ntitle       0\noverview    3\ngenres      0\nkeywords    0\ncast        0\ncrew        0\ndtype: int64"
          },
          "execution_count": 230,
          "metadata": {},
          "output_type": "execute_result"
        }
      ],
      "source": [
        "data.isnull().sum()"
      ]
    },
    {
      "cell_type": "code",
      "execution_count": null,
      "metadata": {
        "ExecuteTime": {
          "end_time": "2024-02-24T15:42:56.232882100Z",
          "start_time": "2024-02-24T15:42:56.043391900Z"
        },
        "id": "0spv4qKCEFMZ"
      },
      "outputs": [],
      "source": [
        "#data.dropna(inplace=True) # usuwa wszystkie wiersza gdzie jest null"
      ]
    },
    {
      "cell_type": "code",
      "execution_count": null,
      "metadata": {
        "ExecuteTime": {
          "end_time": "2024-02-24T15:42:56.492189200Z",
          "start_time": "2024-02-24T15:42:56.187015600Z"
        },
        "id": "nguiyc4MEFMZ"
      },
      "outputs": [],
      "source": [
        "data['overview'] = data['overview'].fillna('')\n"
      ]
    },
    {
      "cell_type": "code",
      "execution_count": null,
      "metadata": {
        "ExecuteTime": {
          "end_time": "2024-02-24T15:42:56.754487800Z",
          "start_time": "2024-02-24T15:42:56.429356900Z"
        },
        "id": "OJf-ruHjEFMZ",
        "outputId": "65a5c709-8d8c-423d-dad8-6b5708cd79d8"
      },
      "outputs": [
        {
          "data": {
            "text/plain": "'[{\"id\": 28, \"name\": \"Action\"}, {\"id\": 12, \"name\": \"Adventure\"}, {\"id\": 14, \"name\": \"Fantasy\"}, {\"id\": 878, \"name\": \"Science Fiction\"}]'"
          },
          "execution_count": 233,
          "metadata": {},
          "output_type": "execute_result"
        }
      ],
      "source": [
        "data.iloc[0].genres"
      ]
    },
    {
      "cell_type": "code",
      "execution_count": null,
      "metadata": {
        "ExecuteTime": {
          "end_time": "2024-02-24T15:42:56.860208200Z",
          "start_time": "2024-02-24T15:42:56.669715200Z"
        },
        "id": "0_COivMYEFMa",
        "outputId": "6dc1cc54-91be-4836-c7a5-ed75dbaadeeb"
      },
      "outputs": [
        {
          "name": "stdout",
          "output_type": "stream",
          "text": [
            "[{'id': 28, 'name': 'Action'}, {'id': 12, 'name': 'Adventure'}, {'id': 14, 'name': 'Fantasy'}, {'id': 878, 'name': 'Science Fiction'}]\n"
          ]
        }
      ],
      "source": [
        "import ast\n",
        "#zamiana stringa w liste\n",
        "print(ast.literal_eval('[{\"id\": 28, \"name\": \"Action\"}, {\"id\": 12, \"name\": \"Adventure\"}, {\"id\": 14, \"name\": \"Fantasy\"}, {\"id\": 878, \"name\": \"Science Fiction\"}]'))\n",
        "def convert(text):\n",
        "    l = []\n",
        "    for i in ast.literal_eval(text):\n",
        "        l.append(i['name'])\n",
        "    return l"
      ]
    },
    {
      "cell_type": "markdown",
      "metadata": {
        "id": "iKxygUdaEFMa"
      },
      "source": [
        "Funkcja apply() w Pythonie jest używana do stosowania funkcji do elementów DataFrame lub serii w bibliotece pandas. Może być również używana do stosowania funkcji do elementów innych obiektów, takich jak listy."
      ]
    },
    {
      "cell_type": "code",
      "execution_count": null,
      "metadata": {
        "ExecuteTime": {
          "end_time": "2024-02-24T15:42:58.261468Z",
          "start_time": "2024-02-24T15:42:56.841257800Z"
        },
        "id": "V8lQyMOYEFMc"
      },
      "outputs": [],
      "source": [
        "data['genres'] = data['genres'].apply(convert)\n",
        "data['keywords'] = data['keywords'].apply(convert)"
      ]
    },
    {
      "cell_type": "code",
      "execution_count": null,
      "metadata": {
        "ExecuteTime": {
          "end_time": "2024-02-24T15:42:58.372163800Z",
          "start_time": "2024-02-24T15:42:58.239518800Z"
        },
        "id": "lMrFxA5wEFMc",
        "outputId": "fb53755c-446c-4e91-9f13-52fc297b1763"
      },
      "outputs": [
        {
          "data": {
            "text/plain": "      movie_id                                     title  \\\n0        19995                                    Avatar   \n1          285  Pirates of the Caribbean: At World's End   \n2       206647                                   Spectre   \n3        49026                     The Dark Knight Rises   \n4        49529                               John Carter   \n...        ...                                       ...   \n4798      9367                               El Mariachi   \n4799     72766                                 Newlyweds   \n4800    231617                 Signed, Sealed, Delivered   \n4801    126186                          Shanghai Calling   \n4802     25975                         My Date with Drew   \n\n                                               overview  \\\n0     In the 22nd century, a paraplegic Marine is di...   \n1     Captain Barbossa, long believed to be dead, ha...   \n2     A cryptic message from Bond’s past sends him o...   \n3     Following the death of District Attorney Harve...   \n4     John Carter is a war-weary, former military ca...   \n...                                                 ...   \n4798  El Mariachi just wants to play his guitar and ...   \n4799  A newlywed couple's honeymoon is upended by th...   \n4800  \"Signed, Sealed, Delivered\" introduces a dedic...   \n4801  When ambitious New York attorney Sam is sent t...   \n4802  Ever since the second grade when he first saw ...   \n\n                                             genres  \\\n0     [Action, Adventure, Fantasy, Science Fiction]   \n1                      [Adventure, Fantasy, Action]   \n2                        [Action, Adventure, Crime]   \n3                  [Action, Crime, Drama, Thriller]   \n4              [Action, Adventure, Science Fiction]   \n...                                             ...   \n4798                      [Action, Crime, Thriller]   \n4799                              [Comedy, Romance]   \n4800             [Comedy, Drama, Romance, TV Movie]   \n4801                                             []   \n4802                                  [Documentary]   \n\n                                               keywords  \\\n0     [culture clash, future, space war, space colon...   \n1     [ocean, drug abuse, exotic island, east india ...   \n2     [spy, based on novel, secret agent, sequel, mi...   \n3     [dc comics, crime fighter, terrorist, secret i...   \n4     [based on novel, mars, medallion, space travel...   \n...                                                 ...   \n4798  [united states–mexico barrier, legs, arms, pap...   \n4799                                                 []   \n4800  [date, love at first sight, narration, investi...   \n4801                                                 []   \n4802          [obsession, camcorder, crush, dream girl]   \n\n                                                   cast  \\\n0     [{\"cast_id\": 242, \"character\": \"Jake Sully\", \"...   \n1     [{\"cast_id\": 4, \"character\": \"Captain Jack Spa...   \n2     [{\"cast_id\": 1, \"character\": \"James Bond\", \"cr...   \n3     [{\"cast_id\": 2, \"character\": \"Bruce Wayne / Ba...   \n4     [{\"cast_id\": 5, \"character\": \"John Carter\", \"c...   \n...                                                 ...   \n4798  [{\"cast_id\": 1, \"character\": \"El Mariachi\", \"c...   \n4799  [{\"cast_id\": 1, \"character\": \"Buzzy\", \"credit_...   \n4800  [{\"cast_id\": 8, \"character\": \"Oliver O\\u2019To...   \n4801  [{\"cast_id\": 3, \"character\": \"Sam\", \"credit_id...   \n4802  [{\"cast_id\": 3, \"character\": \"Herself\", \"credi...   \n\n                                                   crew  \n0     [{\"credit_id\": \"52fe48009251416c750aca23\", \"de...  \n1     [{\"credit_id\": \"52fe4232c3a36847f800b579\", \"de...  \n2     [{\"credit_id\": \"54805967c3a36829b5002c41\", \"de...  \n3     [{\"credit_id\": \"52fe4781c3a36847f81398c3\", \"de...  \n4     [{\"credit_id\": \"52fe479ac3a36847f813eaa3\", \"de...  \n...                                                 ...  \n4798  [{\"credit_id\": \"52fe44eec3a36847f80b280b\", \"de...  \n4799  [{\"credit_id\": \"52fe487dc3a368484e0fb013\", \"de...  \n4800  [{\"credit_id\": \"52fe4df3c3a36847f8275ecf\", \"de...  \n4801  [{\"credit_id\": \"52fe4ad9c3a368484e16a36b\", \"de...  \n4802  [{\"credit_id\": \"58ce021b9251415a390165d9\", \"de...  \n\n[4803 rows x 7 columns]",
            "text/html": "<div>\n<style scoped>\n    .dataframe tbody tr th:only-of-type {\n        vertical-align: middle;\n    }\n\n    .dataframe tbody tr th {\n        vertical-align: top;\n    }\n\n    .dataframe thead th {\n        text-align: right;\n    }\n</style>\n<table border=\"1\" class=\"dataframe\">\n  <thead>\n    <tr style=\"text-align: right;\">\n      <th></th>\n      <th>movie_id</th>\n      <th>title</th>\n      <th>overview</th>\n      <th>genres</th>\n      <th>keywords</th>\n      <th>cast</th>\n      <th>crew</th>\n    </tr>\n  </thead>\n  <tbody>\n    <tr>\n      <th>0</th>\n      <td>19995</td>\n      <td>Avatar</td>\n      <td>In the 22nd century, a paraplegic Marine is di...</td>\n      <td>[Action, Adventure, Fantasy, Science Fiction]</td>\n      <td>[culture clash, future, space war, space colon...</td>\n      <td>[{\"cast_id\": 242, \"character\": \"Jake Sully\", \"...</td>\n      <td>[{\"credit_id\": \"52fe48009251416c750aca23\", \"de...</td>\n    </tr>\n    <tr>\n      <th>1</th>\n      <td>285</td>\n      <td>Pirates of the Caribbean: At World's End</td>\n      <td>Captain Barbossa, long believed to be dead, ha...</td>\n      <td>[Adventure, Fantasy, Action]</td>\n      <td>[ocean, drug abuse, exotic island, east india ...</td>\n      <td>[{\"cast_id\": 4, \"character\": \"Captain Jack Spa...</td>\n      <td>[{\"credit_id\": \"52fe4232c3a36847f800b579\", \"de...</td>\n    </tr>\n    <tr>\n      <th>2</th>\n      <td>206647</td>\n      <td>Spectre</td>\n      <td>A cryptic message from Bond’s past sends him o...</td>\n      <td>[Action, Adventure, Crime]</td>\n      <td>[spy, based on novel, secret agent, sequel, mi...</td>\n      <td>[{\"cast_id\": 1, \"character\": \"James Bond\", \"cr...</td>\n      <td>[{\"credit_id\": \"54805967c3a36829b5002c41\", \"de...</td>\n    </tr>\n    <tr>\n      <th>3</th>\n      <td>49026</td>\n      <td>The Dark Knight Rises</td>\n      <td>Following the death of District Attorney Harve...</td>\n      <td>[Action, Crime, Drama, Thriller]</td>\n      <td>[dc comics, crime fighter, terrorist, secret i...</td>\n      <td>[{\"cast_id\": 2, \"character\": \"Bruce Wayne / Ba...</td>\n      <td>[{\"credit_id\": \"52fe4781c3a36847f81398c3\", \"de...</td>\n    </tr>\n    <tr>\n      <th>4</th>\n      <td>49529</td>\n      <td>John Carter</td>\n      <td>John Carter is a war-weary, former military ca...</td>\n      <td>[Action, Adventure, Science Fiction]</td>\n      <td>[based on novel, mars, medallion, space travel...</td>\n      <td>[{\"cast_id\": 5, \"character\": \"John Carter\", \"c...</td>\n      <td>[{\"credit_id\": \"52fe479ac3a36847f813eaa3\", \"de...</td>\n    </tr>\n    <tr>\n      <th>...</th>\n      <td>...</td>\n      <td>...</td>\n      <td>...</td>\n      <td>...</td>\n      <td>...</td>\n      <td>...</td>\n      <td>...</td>\n    </tr>\n    <tr>\n      <th>4798</th>\n      <td>9367</td>\n      <td>El Mariachi</td>\n      <td>El Mariachi just wants to play his guitar and ...</td>\n      <td>[Action, Crime, Thriller]</td>\n      <td>[united states–mexico barrier, legs, arms, pap...</td>\n      <td>[{\"cast_id\": 1, \"character\": \"El Mariachi\", \"c...</td>\n      <td>[{\"credit_id\": \"52fe44eec3a36847f80b280b\", \"de...</td>\n    </tr>\n    <tr>\n      <th>4799</th>\n      <td>72766</td>\n      <td>Newlyweds</td>\n      <td>A newlywed couple's honeymoon is upended by th...</td>\n      <td>[Comedy, Romance]</td>\n      <td>[]</td>\n      <td>[{\"cast_id\": 1, \"character\": \"Buzzy\", \"credit_...</td>\n      <td>[{\"credit_id\": \"52fe487dc3a368484e0fb013\", \"de...</td>\n    </tr>\n    <tr>\n      <th>4800</th>\n      <td>231617</td>\n      <td>Signed, Sealed, Delivered</td>\n      <td>\"Signed, Sealed, Delivered\" introduces a dedic...</td>\n      <td>[Comedy, Drama, Romance, TV Movie]</td>\n      <td>[date, love at first sight, narration, investi...</td>\n      <td>[{\"cast_id\": 8, \"character\": \"Oliver O\\u2019To...</td>\n      <td>[{\"credit_id\": \"52fe4df3c3a36847f8275ecf\", \"de...</td>\n    </tr>\n    <tr>\n      <th>4801</th>\n      <td>126186</td>\n      <td>Shanghai Calling</td>\n      <td>When ambitious New York attorney Sam is sent t...</td>\n      <td>[]</td>\n      <td>[]</td>\n      <td>[{\"cast_id\": 3, \"character\": \"Sam\", \"credit_id...</td>\n      <td>[{\"credit_id\": \"52fe4ad9c3a368484e16a36b\", \"de...</td>\n    </tr>\n    <tr>\n      <th>4802</th>\n      <td>25975</td>\n      <td>My Date with Drew</td>\n      <td>Ever since the second grade when he first saw ...</td>\n      <td>[Documentary]</td>\n      <td>[obsession, camcorder, crush, dream girl]</td>\n      <td>[{\"cast_id\": 3, \"character\": \"Herself\", \"credi...</td>\n      <td>[{\"credit_id\": \"58ce021b9251415a390165d9\", \"de...</td>\n    </tr>\n  </tbody>\n</table>\n<p>4803 rows × 7 columns</p>\n</div>"
          },
          "execution_count": 236,
          "metadata": {},
          "output_type": "execute_result"
        }
      ],
      "source": [
        "data"
      ]
    },
    {
      "cell_type": "code",
      "outputs": [
        {
          "data": {
            "text/plain": "Index(['movie_id', 'title', 'overview', 'genres', 'keywords', 'cast', 'crew'], dtype='object')"
          },
          "execution_count": 237,
          "metadata": {},
          "output_type": "execute_result"
        }
      ],
      "source": [
        "data.columns"
      ],
      "metadata": {
        "ExecuteTime": {
          "end_time": "2024-02-24T15:42:58.423027600Z",
          "start_time": "2024-02-24T15:42:58.286392100Z"
        },
        "id": "xYP1i12BEFMd",
        "outputId": "719fdeff-1bc6-41bc-9b34-96fe6066d343"
      },
      "execution_count": null
    },
    {
      "cell_type": "code",
      "execution_count": null,
      "metadata": {
        "ExecuteTime": {
          "end_time": "2024-02-24T15:43:06.655024500Z",
          "start_time": "2024-02-24T15:42:58.315316900Z"
        },
        "id": "L4-__88-EFMd"
      },
      "outputs": [],
      "source": [
        "data['cast'] = data['cast'].apply(convert)"
      ]
    },
    {
      "cell_type": "code",
      "outputs": [
        {
          "data": {
            "text/plain": "      movie_id                                     title  \\\n0        19995                                    Avatar   \n1          285  Pirates of the Caribbean: At World's End   \n2       206647                                   Spectre   \n3        49026                     The Dark Knight Rises   \n4        49529                               John Carter   \n...        ...                                       ...   \n4798      9367                               El Mariachi   \n4799     72766                                 Newlyweds   \n4800    231617                 Signed, Sealed, Delivered   \n4801    126186                          Shanghai Calling   \n4802     25975                         My Date with Drew   \n\n                                               overview  \\\n0     In the 22nd century, a paraplegic Marine is di...   \n1     Captain Barbossa, long believed to be dead, ha...   \n2     A cryptic message from Bond’s past sends him o...   \n3     Following the death of District Attorney Harve...   \n4     John Carter is a war-weary, former military ca...   \n...                                                 ...   \n4798  El Mariachi just wants to play his guitar and ...   \n4799  A newlywed couple's honeymoon is upended by th...   \n4800  \"Signed, Sealed, Delivered\" introduces a dedic...   \n4801  When ambitious New York attorney Sam is sent t...   \n4802  Ever since the second grade when he first saw ...   \n\n                                             genres  \\\n0     [Action, Adventure, Fantasy, Science Fiction]   \n1                      [Adventure, Fantasy, Action]   \n2                        [Action, Adventure, Crime]   \n3                  [Action, Crime, Drama, Thriller]   \n4              [Action, Adventure, Science Fiction]   \n...                                             ...   \n4798                      [Action, Crime, Thriller]   \n4799                              [Comedy, Romance]   \n4800             [Comedy, Drama, Romance, TV Movie]   \n4801                                             []   \n4802                                  [Documentary]   \n\n                                               keywords  \\\n0     [culture clash, future, space war, space colon...   \n1     [ocean, drug abuse, exotic island, east india ...   \n2     [spy, based on novel, secret agent, sequel, mi...   \n3     [dc comics, crime fighter, terrorist, secret i...   \n4     [based on novel, mars, medallion, space travel...   \n...                                                 ...   \n4798  [united states–mexico barrier, legs, arms, pap...   \n4799                                                 []   \n4800  [date, love at first sight, narration, investi...   \n4801                                                 []   \n4802          [obsession, camcorder, crush, dream girl]   \n\n                                                   cast  \\\n0     [Sam Worthington, Zoe Saldana, Sigourney Weave...   \n1     [Johnny Depp, Orlando Bloom, Keira Knightley, ...   \n2     [Daniel Craig, Christoph Waltz, Léa Seydoux, R...   \n3     [Christian Bale, Michael Caine, Gary Oldman, A...   \n4     [Taylor Kitsch, Lynn Collins, Samantha Morton,...   \n...                                                 ...   \n4798  [Carlos Gallardo, Jaime de Hoyos, Peter Marqua...   \n4799  [Edward Burns, Kerry Bishé, Marsha Dietlein, C...   \n4800  [Eric Mabius, Kristin Booth, Crystal Lowe, Geo...   \n4801  [Daniel Henney, Eliza Coupe, Bill Paxton, Alan...   \n4802  [Drew Barrymore, Brian Herzlinger, Corey Feldm...   \n\n                                                   crew  \n0     [{\"credit_id\": \"52fe48009251416c750aca23\", \"de...  \n1     [{\"credit_id\": \"52fe4232c3a36847f800b579\", \"de...  \n2     [{\"credit_id\": \"54805967c3a36829b5002c41\", \"de...  \n3     [{\"credit_id\": \"52fe4781c3a36847f81398c3\", \"de...  \n4     [{\"credit_id\": \"52fe479ac3a36847f813eaa3\", \"de...  \n...                                                 ...  \n4798  [{\"credit_id\": \"52fe44eec3a36847f80b280b\", \"de...  \n4799  [{\"credit_id\": \"52fe487dc3a368484e0fb013\", \"de...  \n4800  [{\"credit_id\": \"52fe4df3c3a36847f8275ecf\", \"de...  \n4801  [{\"credit_id\": \"52fe4ad9c3a368484e16a36b\", \"de...  \n4802  [{\"credit_id\": \"58ce021b9251415a390165d9\", \"de...  \n\n[4803 rows x 7 columns]",
            "text/html": "<div>\n<style scoped>\n    .dataframe tbody tr th:only-of-type {\n        vertical-align: middle;\n    }\n\n    .dataframe tbody tr th {\n        vertical-align: top;\n    }\n\n    .dataframe thead th {\n        text-align: right;\n    }\n</style>\n<table border=\"1\" class=\"dataframe\">\n  <thead>\n    <tr style=\"text-align: right;\">\n      <th></th>\n      <th>movie_id</th>\n      <th>title</th>\n      <th>overview</th>\n      <th>genres</th>\n      <th>keywords</th>\n      <th>cast</th>\n      <th>crew</th>\n    </tr>\n  </thead>\n  <tbody>\n    <tr>\n      <th>0</th>\n      <td>19995</td>\n      <td>Avatar</td>\n      <td>In the 22nd century, a paraplegic Marine is di...</td>\n      <td>[Action, Adventure, Fantasy, Science Fiction]</td>\n      <td>[culture clash, future, space war, space colon...</td>\n      <td>[Sam Worthington, Zoe Saldana, Sigourney Weave...</td>\n      <td>[{\"credit_id\": \"52fe48009251416c750aca23\", \"de...</td>\n    </tr>\n    <tr>\n      <th>1</th>\n      <td>285</td>\n      <td>Pirates of the Caribbean: At World's End</td>\n      <td>Captain Barbossa, long believed to be dead, ha...</td>\n      <td>[Adventure, Fantasy, Action]</td>\n      <td>[ocean, drug abuse, exotic island, east india ...</td>\n      <td>[Johnny Depp, Orlando Bloom, Keira Knightley, ...</td>\n      <td>[{\"credit_id\": \"52fe4232c3a36847f800b579\", \"de...</td>\n    </tr>\n    <tr>\n      <th>2</th>\n      <td>206647</td>\n      <td>Spectre</td>\n      <td>A cryptic message from Bond’s past sends him o...</td>\n      <td>[Action, Adventure, Crime]</td>\n      <td>[spy, based on novel, secret agent, sequel, mi...</td>\n      <td>[Daniel Craig, Christoph Waltz, Léa Seydoux, R...</td>\n      <td>[{\"credit_id\": \"54805967c3a36829b5002c41\", \"de...</td>\n    </tr>\n    <tr>\n      <th>3</th>\n      <td>49026</td>\n      <td>The Dark Knight Rises</td>\n      <td>Following the death of District Attorney Harve...</td>\n      <td>[Action, Crime, Drama, Thriller]</td>\n      <td>[dc comics, crime fighter, terrorist, secret i...</td>\n      <td>[Christian Bale, Michael Caine, Gary Oldman, A...</td>\n      <td>[{\"credit_id\": \"52fe4781c3a36847f81398c3\", \"de...</td>\n    </tr>\n    <tr>\n      <th>4</th>\n      <td>49529</td>\n      <td>John Carter</td>\n      <td>John Carter is a war-weary, former military ca...</td>\n      <td>[Action, Adventure, Science Fiction]</td>\n      <td>[based on novel, mars, medallion, space travel...</td>\n      <td>[Taylor Kitsch, Lynn Collins, Samantha Morton,...</td>\n      <td>[{\"credit_id\": \"52fe479ac3a36847f813eaa3\", \"de...</td>\n    </tr>\n    <tr>\n      <th>...</th>\n      <td>...</td>\n      <td>...</td>\n      <td>...</td>\n      <td>...</td>\n      <td>...</td>\n      <td>...</td>\n      <td>...</td>\n    </tr>\n    <tr>\n      <th>4798</th>\n      <td>9367</td>\n      <td>El Mariachi</td>\n      <td>El Mariachi just wants to play his guitar and ...</td>\n      <td>[Action, Crime, Thriller]</td>\n      <td>[united states–mexico barrier, legs, arms, pap...</td>\n      <td>[Carlos Gallardo, Jaime de Hoyos, Peter Marqua...</td>\n      <td>[{\"credit_id\": \"52fe44eec3a36847f80b280b\", \"de...</td>\n    </tr>\n    <tr>\n      <th>4799</th>\n      <td>72766</td>\n      <td>Newlyweds</td>\n      <td>A newlywed couple's honeymoon is upended by th...</td>\n      <td>[Comedy, Romance]</td>\n      <td>[]</td>\n      <td>[Edward Burns, Kerry Bishé, Marsha Dietlein, C...</td>\n      <td>[{\"credit_id\": \"52fe487dc3a368484e0fb013\", \"de...</td>\n    </tr>\n    <tr>\n      <th>4800</th>\n      <td>231617</td>\n      <td>Signed, Sealed, Delivered</td>\n      <td>\"Signed, Sealed, Delivered\" introduces a dedic...</td>\n      <td>[Comedy, Drama, Romance, TV Movie]</td>\n      <td>[date, love at first sight, narration, investi...</td>\n      <td>[Eric Mabius, Kristin Booth, Crystal Lowe, Geo...</td>\n      <td>[{\"credit_id\": \"52fe4df3c3a36847f8275ecf\", \"de...</td>\n    </tr>\n    <tr>\n      <th>4801</th>\n      <td>126186</td>\n      <td>Shanghai Calling</td>\n      <td>When ambitious New York attorney Sam is sent t...</td>\n      <td>[]</td>\n      <td>[]</td>\n      <td>[Daniel Henney, Eliza Coupe, Bill Paxton, Alan...</td>\n      <td>[{\"credit_id\": \"52fe4ad9c3a368484e16a36b\", \"de...</td>\n    </tr>\n    <tr>\n      <th>4802</th>\n      <td>25975</td>\n      <td>My Date with Drew</td>\n      <td>Ever since the second grade when he first saw ...</td>\n      <td>[Documentary]</td>\n      <td>[obsession, camcorder, crush, dream girl]</td>\n      <td>[Drew Barrymore, Brian Herzlinger, Corey Feldm...</td>\n      <td>[{\"credit_id\": \"58ce021b9251415a390165d9\", \"de...</td>\n    </tr>\n  </tbody>\n</table>\n<p>4803 rows × 7 columns</p>\n</div>"
          },
          "execution_count": 239,
          "metadata": {},
          "output_type": "execute_result"
        }
      ],
      "source": [
        "data"
      ],
      "metadata": {
        "ExecuteTime": {
          "end_time": "2024-02-24T15:43:06.717857900Z",
          "start_time": "2024-02-24T15:43:06.661008300Z"
        },
        "id": "-A8-VDa-EFMe",
        "outputId": "8d6698eb-9536-4b13-a202-5a8520735761"
      },
      "execution_count": null
    },
    {
      "cell_type": "code",
      "outputs": [],
      "source": [
        "data2 = data.merge(movies[['popularity', 'id']], how='inner', left_on='movie_id', right_on='id')"
      ],
      "metadata": {
        "ExecuteTime": {
          "end_time": "2024-02-24T15:43:06.789662100Z",
          "start_time": "2024-02-24T15:43:06.715860800Z"
        },
        "id": "U5YdnTn5EFMe"
      },
      "execution_count": null
    },
    {
      "cell_type": "code",
      "outputs": [
        {
          "data": {
            "text/plain": "      movie_id                                     title  \\\n0        19995                                    Avatar   \n1          285  Pirates of the Caribbean: At World's End   \n2       206647                                   Spectre   \n3        49026                     The Dark Knight Rises   \n4        49529                               John Carter   \n...        ...                                       ...   \n4798      9367                               El Mariachi   \n4799     72766                                 Newlyweds   \n4800    231617                 Signed, Sealed, Delivered   \n4801    126186                          Shanghai Calling   \n4802     25975                         My Date with Drew   \n\n                                               overview  \\\n0     In the 22nd century, a paraplegic Marine is di...   \n1     Captain Barbossa, long believed to be dead, ha...   \n2     A cryptic message from Bond’s past sends him o...   \n3     Following the death of District Attorney Harve...   \n4     John Carter is a war-weary, former military ca...   \n...                                                 ...   \n4798  El Mariachi just wants to play his guitar and ...   \n4799  A newlywed couple's honeymoon is upended by th...   \n4800  \"Signed, Sealed, Delivered\" introduces a dedic...   \n4801  When ambitious New York attorney Sam is sent t...   \n4802  Ever since the second grade when he first saw ...   \n\n                                             genres  \\\n0     [Action, Adventure, Fantasy, Science Fiction]   \n1                      [Adventure, Fantasy, Action]   \n2                        [Action, Adventure, Crime]   \n3                  [Action, Crime, Drama, Thriller]   \n4              [Action, Adventure, Science Fiction]   \n...                                             ...   \n4798                      [Action, Crime, Thriller]   \n4799                              [Comedy, Romance]   \n4800             [Comedy, Drama, Romance, TV Movie]   \n4801                                             []   \n4802                                  [Documentary]   \n\n                                               keywords  \\\n0     [culture clash, future, space war, space colon...   \n1     [ocean, drug abuse, exotic island, east india ...   \n2     [spy, based on novel, secret agent, sequel, mi...   \n3     [dc comics, crime fighter, terrorist, secret i...   \n4     [based on novel, mars, medallion, space travel...   \n...                                                 ...   \n4798  [united states–mexico barrier, legs, arms, pap...   \n4799                                                 []   \n4800  [date, love at first sight, narration, investi...   \n4801                                                 []   \n4802          [obsession, camcorder, crush, dream girl]   \n\n                                                   cast  \\\n0     [Sam Worthington, Zoe Saldana, Sigourney Weave...   \n1     [Johnny Depp, Orlando Bloom, Keira Knightley, ...   \n2     [Daniel Craig, Christoph Waltz, Léa Seydoux, R...   \n3     [Christian Bale, Michael Caine, Gary Oldman, A...   \n4     [Taylor Kitsch, Lynn Collins, Samantha Morton,...   \n...                                                 ...   \n4798  [Carlos Gallardo, Jaime de Hoyos, Peter Marqua...   \n4799  [Edward Burns, Kerry Bishé, Marsha Dietlein, C...   \n4800  [Eric Mabius, Kristin Booth, Crystal Lowe, Geo...   \n4801  [Daniel Henney, Eliza Coupe, Bill Paxton, Alan...   \n4802  [Drew Barrymore, Brian Herzlinger, Corey Feldm...   \n\n                                                   crew  popularity      id  \n0     [{\"credit_id\": \"52fe48009251416c750aca23\", \"de...  150.437577   19995  \n1     [{\"credit_id\": \"52fe4232c3a36847f800b579\", \"de...  139.082615     285  \n2     [{\"credit_id\": \"54805967c3a36829b5002c41\", \"de...  107.376788  206647  \n3     [{\"credit_id\": \"52fe4781c3a36847f81398c3\", \"de...  112.312950   49026  \n4     [{\"credit_id\": \"52fe479ac3a36847f813eaa3\", \"de...   43.926995   49529  \n...                                                 ...         ...     ...  \n4798  [{\"credit_id\": \"52fe44eec3a36847f80b280b\", \"de...   14.269792    9367  \n4799  [{\"credit_id\": \"52fe487dc3a368484e0fb013\", \"de...    0.642552   72766  \n4800  [{\"credit_id\": \"52fe4df3c3a36847f8275ecf\", \"de...    1.444476  231617  \n4801  [{\"credit_id\": \"52fe4ad9c3a368484e16a36b\", \"de...    0.857008  126186  \n4802  [{\"credit_id\": \"58ce021b9251415a390165d9\", \"de...    1.929883   25975  \n\n[4803 rows x 9 columns]",
            "text/html": "<div>\n<style scoped>\n    .dataframe tbody tr th:only-of-type {\n        vertical-align: middle;\n    }\n\n    .dataframe tbody tr th {\n        vertical-align: top;\n    }\n\n    .dataframe thead th {\n        text-align: right;\n    }\n</style>\n<table border=\"1\" class=\"dataframe\">\n  <thead>\n    <tr style=\"text-align: right;\">\n      <th></th>\n      <th>movie_id</th>\n      <th>title</th>\n      <th>overview</th>\n      <th>genres</th>\n      <th>keywords</th>\n      <th>cast</th>\n      <th>crew</th>\n      <th>popularity</th>\n      <th>id</th>\n    </tr>\n  </thead>\n  <tbody>\n    <tr>\n      <th>0</th>\n      <td>19995</td>\n      <td>Avatar</td>\n      <td>In the 22nd century, a paraplegic Marine is di...</td>\n      <td>[Action, Adventure, Fantasy, Science Fiction]</td>\n      <td>[culture clash, future, space war, space colon...</td>\n      <td>[Sam Worthington, Zoe Saldana, Sigourney Weave...</td>\n      <td>[{\"credit_id\": \"52fe48009251416c750aca23\", \"de...</td>\n      <td>150.437577</td>\n      <td>19995</td>\n    </tr>\n    <tr>\n      <th>1</th>\n      <td>285</td>\n      <td>Pirates of the Caribbean: At World's End</td>\n      <td>Captain Barbossa, long believed to be dead, ha...</td>\n      <td>[Adventure, Fantasy, Action]</td>\n      <td>[ocean, drug abuse, exotic island, east india ...</td>\n      <td>[Johnny Depp, Orlando Bloom, Keira Knightley, ...</td>\n      <td>[{\"credit_id\": \"52fe4232c3a36847f800b579\", \"de...</td>\n      <td>139.082615</td>\n      <td>285</td>\n    </tr>\n    <tr>\n      <th>2</th>\n      <td>206647</td>\n      <td>Spectre</td>\n      <td>A cryptic message from Bond’s past sends him o...</td>\n      <td>[Action, Adventure, Crime]</td>\n      <td>[spy, based on novel, secret agent, sequel, mi...</td>\n      <td>[Daniel Craig, Christoph Waltz, Léa Seydoux, R...</td>\n      <td>[{\"credit_id\": \"54805967c3a36829b5002c41\", \"de...</td>\n      <td>107.376788</td>\n      <td>206647</td>\n    </tr>\n    <tr>\n      <th>3</th>\n      <td>49026</td>\n      <td>The Dark Knight Rises</td>\n      <td>Following the death of District Attorney Harve...</td>\n      <td>[Action, Crime, Drama, Thriller]</td>\n      <td>[dc comics, crime fighter, terrorist, secret i...</td>\n      <td>[Christian Bale, Michael Caine, Gary Oldman, A...</td>\n      <td>[{\"credit_id\": \"52fe4781c3a36847f81398c3\", \"de...</td>\n      <td>112.312950</td>\n      <td>49026</td>\n    </tr>\n    <tr>\n      <th>4</th>\n      <td>49529</td>\n      <td>John Carter</td>\n      <td>John Carter is a war-weary, former military ca...</td>\n      <td>[Action, Adventure, Science Fiction]</td>\n      <td>[based on novel, mars, medallion, space travel...</td>\n      <td>[Taylor Kitsch, Lynn Collins, Samantha Morton,...</td>\n      <td>[{\"credit_id\": \"52fe479ac3a36847f813eaa3\", \"de...</td>\n      <td>43.926995</td>\n      <td>49529</td>\n    </tr>\n    <tr>\n      <th>...</th>\n      <td>...</td>\n      <td>...</td>\n      <td>...</td>\n      <td>...</td>\n      <td>...</td>\n      <td>...</td>\n      <td>...</td>\n      <td>...</td>\n      <td>...</td>\n    </tr>\n    <tr>\n      <th>4798</th>\n      <td>9367</td>\n      <td>El Mariachi</td>\n      <td>El Mariachi just wants to play his guitar and ...</td>\n      <td>[Action, Crime, Thriller]</td>\n      <td>[united states–mexico barrier, legs, arms, pap...</td>\n      <td>[Carlos Gallardo, Jaime de Hoyos, Peter Marqua...</td>\n      <td>[{\"credit_id\": \"52fe44eec3a36847f80b280b\", \"de...</td>\n      <td>14.269792</td>\n      <td>9367</td>\n    </tr>\n    <tr>\n      <th>4799</th>\n      <td>72766</td>\n      <td>Newlyweds</td>\n      <td>A newlywed couple's honeymoon is upended by th...</td>\n      <td>[Comedy, Romance]</td>\n      <td>[]</td>\n      <td>[Edward Burns, Kerry Bishé, Marsha Dietlein, C...</td>\n      <td>[{\"credit_id\": \"52fe487dc3a368484e0fb013\", \"de...</td>\n      <td>0.642552</td>\n      <td>72766</td>\n    </tr>\n    <tr>\n      <th>4800</th>\n      <td>231617</td>\n      <td>Signed, Sealed, Delivered</td>\n      <td>\"Signed, Sealed, Delivered\" introduces a dedic...</td>\n      <td>[Comedy, Drama, Romance, TV Movie]</td>\n      <td>[date, love at first sight, narration, investi...</td>\n      <td>[Eric Mabius, Kristin Booth, Crystal Lowe, Geo...</td>\n      <td>[{\"credit_id\": \"52fe4df3c3a36847f8275ecf\", \"de...</td>\n      <td>1.444476</td>\n      <td>231617</td>\n    </tr>\n    <tr>\n      <th>4801</th>\n      <td>126186</td>\n      <td>Shanghai Calling</td>\n      <td>When ambitious New York attorney Sam is sent t...</td>\n      <td>[]</td>\n      <td>[]</td>\n      <td>[Daniel Henney, Eliza Coupe, Bill Paxton, Alan...</td>\n      <td>[{\"credit_id\": \"52fe4ad9c3a368484e16a36b\", \"de...</td>\n      <td>0.857008</td>\n      <td>126186</td>\n    </tr>\n    <tr>\n      <th>4802</th>\n      <td>25975</td>\n      <td>My Date with Drew</td>\n      <td>Ever since the second grade when he first saw ...</td>\n      <td>[Documentary]</td>\n      <td>[obsession, camcorder, crush, dream girl]</td>\n      <td>[Drew Barrymore, Brian Herzlinger, Corey Feldm...</td>\n      <td>[{\"credit_id\": \"58ce021b9251415a390165d9\", \"de...</td>\n      <td>1.929883</td>\n      <td>25975</td>\n    </tr>\n  </tbody>\n</table>\n<p>4803 rows × 9 columns</p>\n</div>"
          },
          "execution_count": 241,
          "metadata": {},
          "output_type": "execute_result"
        }
      ],
      "source": [
        "data2"
      ],
      "metadata": {
        "ExecuteTime": {
          "end_time": "2024-02-24T15:43:06.893386200Z",
          "start_time": "2024-02-24T15:43:06.746778500Z"
        },
        "id": "WbSuPMEiEFMe",
        "outputId": "826b53c8-aebd-4ec3-f9c3-9f7b56dea9d4"
      },
      "execution_count": null
    },
    {
      "cell_type": "code",
      "outputs": [],
      "source": [
        "gen = pd.DataFrame()\n",
        "genres = []\n",
        "for i in data2['genres']:\n",
        "    genres += i\n",
        "gen['genres'] = genres\n",
        "uniq_genres = gen['genres'].unique()\n",
        ""
      ],
      "metadata": {
        "ExecuteTime": {
          "end_time": "2024-02-24T16:29:41.641164Z",
          "start_time": "2024-02-24T16:29:41.500539900Z"
        },
        "id": "Mig_5U3WEFMf"
      },
      "execution_count": null
    },
    {
      "cell_type": "code",
      "outputs": [],
      "source": [
        "import pandas as pd\n",
        "\n",
        "def actor(name):\n",
        "    movies = []\n",
        "    for j in range(0, len(data2)):\n",
        "        if name in data2['cast'][j]:\n",
        "            movies.append(data2[['title', 'popularity', 'movie_id']].iloc[j].tolist())\n",
        "    movies_sorted = sorted(movies, reverse=True, key=lambda x: x[1])\n",
        "    title = []\n",
        "    popularity = []\n",
        "    ids = []\n",
        "    for i in movies_sorted[:6]:\n",
        "        title.append(i[0])\n",
        "        popularity.append(i[1])\n",
        "        ids.append(i[2])\n",
        "    df = pd.DataFrame()\n",
        "    df['title'] = title\n",
        "    df['popularity'] = popularity\n",
        "    df['movie_id'] = ids\n",
        "    return df\n",
        "\n"
      ],
      "metadata": {
        "ExecuteTime": {
          "end_time": "2024-02-24T15:43:06.979157400Z",
          "start_time": "2024-02-24T15:43:06.807615800Z"
        },
        "id": "I8RS1_dWEFMf"
      },
      "execution_count": null
    },
    {
      "cell_type": "code",
      "outputs": [],
      "source": [
        "def genres(kind):\n",
        "    movies2 = []\n",
        "    for j in range(0, len(data2)):\n",
        "        if kind in data2['genres'][j]:\n",
        "            movies2.append(data2[['title', 'popularity', 'movie_id']].iloc[j].tolist())\n",
        "    movies_sorted = sorted(movies2, reverse=True, key=lambda x: x[1])\n",
        "    title = []\n",
        "    popularity = []\n",
        "    ids = []\n",
        "    for i in movies_sorted[:6]:\n",
        "        title.append(i[0])\n",
        "        popularity.append(i[1])\n",
        "        ids.append(i[2])\n",
        "    df = pd.DataFrame()\n",
        "    df['title'] = title\n",
        "    df['popularity'] = popularity\n",
        "    df['movie_id'] = ids\n",
        "    return df\n"
      ],
      "metadata": {
        "id": "MrmcbPTbEFMf"
      },
      "execution_count": null
    },
    {
      "cell_type": "code",
      "outputs": [],
      "source": [
        "d = actor('Johnny Depp')"
      ],
      "metadata": {
        "ExecuteTime": {
          "end_time": "2024-02-24T15:43:07.092854400Z",
          "start_time": "2024-02-24T15:43:06.826572400Z"
        },
        "id": "TdzwkXmkEFMf"
      },
      "execution_count": null
    },
    {
      "cell_type": "code",
      "outputs": [
        {
          "data": {
            "text/plain": "['Pirates of the Caribbean: The Curse of the Black Pearl',\n \"Pirates of the Caribbean: Dead Man's Chest\",\n \"Pirates of the Caribbean: At World's End\",\n 'Pirates of the Caribbean: On Stranger Tides',\n 'Alice in Wonderland',\n 'Into the Woods']"
          },
          "execution_count": 244,
          "metadata": {},
          "output_type": "execute_result"
        }
      ],
      "source": [
        "pop_movie_names = d['title'].to_list()\n",
        "pop_movie_names\n"
      ],
      "metadata": {
        "ExecuteTime": {
          "end_time": "2024-02-24T15:43:07.163664600Z",
          "start_time": "2024-02-24T15:43:07.008080700Z"
        },
        "id": "a_6sdX7nEFMf",
        "outputId": "4813789f-2d38-4437-ebc7-8fc566405cf1"
      },
      "execution_count": null
    },
    {
      "cell_type": "code",
      "outputs": [
        {
          "data": {
            "text/plain": "title            Spectre\npopularity    107.376788\nName: 2, dtype: object"
          },
          "execution_count": 245,
          "metadata": {},
          "output_type": "execute_result"
        }
      ],
      "source": [
        "data2[['title', 'popularity']].iloc[2]"
      ],
      "metadata": {
        "ExecuteTime": {
          "end_time": "2024-02-24T15:43:07.209543600Z",
          "start_time": "2024-02-24T15:43:07.032015Z"
        },
        "id": "fJBnsa0oEFMg",
        "outputId": "038fce8f-8b84-4471-eb6e-9c78793ccbc8"
      },
      "execution_count": null
    },
    {
      "cell_type": "code",
      "execution_count": null,
      "metadata": {
        "ExecuteTime": {
          "end_time": "2024-02-24T15:43:07.243450300Z",
          "start_time": "2024-02-24T15:43:07.062933800Z"
        },
        "id": "pfXoJlaPEFMg"
      },
      "outputs": [],
      "source": [
        "def director(text):\n",
        "    l = []\n",
        "    for i in ast.literal_eval(text):\n",
        "        if i['job'] == 'Director':\n",
        "            l.append(i['name'])\n",
        "            break\n",
        "    return l\n"
      ]
    },
    {
      "cell_type": "code",
      "execution_count": null,
      "metadata": {
        "ExecuteTime": {
          "end_time": "2024-02-24T15:43:12.693881500Z",
          "start_time": "2024-02-24T15:43:07.080885300Z"
        },
        "id": "Um_HE-VCEFMg"
      },
      "outputs": [],
      "source": [
        "data['crew'] = data['crew'].apply(director)"
      ]
    },
    {
      "cell_type": "code",
      "execution_count": null,
      "metadata": {
        "ExecuteTime": {
          "end_time": "2024-02-24T15:43:12.720814Z",
          "start_time": "2024-02-24T15:43:12.699866400Z"
        },
        "id": "-ky1OhUVEFMh"
      },
      "outputs": [],
      "source": [
        "data.rename(columns={'crew': 'director'}, inplace=True)"
      ]
    },
    {
      "cell_type": "code",
      "execution_count": null,
      "metadata": {
        "ExecuteTime": {
          "end_time": "2024-02-24T15:43:12.761703900Z",
          "start_time": "2024-02-24T15:43:12.713827500Z"
        },
        "id": "Ndv_tgI7EFMh",
        "outputId": "847ef8d0-5525-4372-f00a-2749c0fab003"
      },
      "outputs": [
        {
          "data": {
            "text/plain": "      movie_id                                     title  \\\n0        19995                                    Avatar   \n1          285  Pirates of the Caribbean: At World's End   \n2       206647                                   Spectre   \n3        49026                     The Dark Knight Rises   \n4        49529                               John Carter   \n...        ...                                       ...   \n4798      9367                               El Mariachi   \n4799     72766                                 Newlyweds   \n4800    231617                 Signed, Sealed, Delivered   \n4801    126186                          Shanghai Calling   \n4802     25975                         My Date with Drew   \n\n                                               overview  \\\n0     In the 22nd century, a paraplegic Marine is di...   \n1     Captain Barbossa, long believed to be dead, ha...   \n2     A cryptic message from Bond’s past sends him o...   \n3     Following the death of District Attorney Harve...   \n4     John Carter is a war-weary, former military ca...   \n...                                                 ...   \n4798  El Mariachi just wants to play his guitar and ...   \n4799  A newlywed couple's honeymoon is upended by th...   \n4800  \"Signed, Sealed, Delivered\" introduces a dedic...   \n4801  When ambitious New York attorney Sam is sent t...   \n4802  Ever since the second grade when he first saw ...   \n\n                                             genres  \\\n0     [Action, Adventure, Fantasy, Science Fiction]   \n1                      [Adventure, Fantasy, Action]   \n2                        [Action, Adventure, Crime]   \n3                  [Action, Crime, Drama, Thriller]   \n4              [Action, Adventure, Science Fiction]   \n...                                             ...   \n4798                      [Action, Crime, Thriller]   \n4799                              [Comedy, Romance]   \n4800             [Comedy, Drama, Romance, TV Movie]   \n4801                                             []   \n4802                                  [Documentary]   \n\n                                               keywords  \\\n0     [culture clash, future, space war, space colon...   \n1     [ocean, drug abuse, exotic island, east india ...   \n2     [spy, based on novel, secret agent, sequel, mi...   \n3     [dc comics, crime fighter, terrorist, secret i...   \n4     [based on novel, mars, medallion, space travel...   \n...                                                 ...   \n4798  [united states–mexico barrier, legs, arms, pap...   \n4799                                                 []   \n4800  [date, love at first sight, narration, investi...   \n4801                                                 []   \n4802          [obsession, camcorder, crush, dream girl]   \n\n                                                   cast             director  \n0     [Sam Worthington, Zoe Saldana, Sigourney Weave...      [James Cameron]  \n1     [Johnny Depp, Orlando Bloom, Keira Knightley, ...     [Gore Verbinski]  \n2     [Daniel Craig, Christoph Waltz, Léa Seydoux, R...         [Sam Mendes]  \n3     [Christian Bale, Michael Caine, Gary Oldman, A...  [Christopher Nolan]  \n4     [Taylor Kitsch, Lynn Collins, Samantha Morton,...     [Andrew Stanton]  \n...                                                 ...                  ...  \n4798  [Carlos Gallardo, Jaime de Hoyos, Peter Marqua...   [Robert Rodriguez]  \n4799  [Edward Burns, Kerry Bishé, Marsha Dietlein, C...       [Edward Burns]  \n4800  [Eric Mabius, Kristin Booth, Crystal Lowe, Geo...        [Scott Smith]  \n4801  [Daniel Henney, Eliza Coupe, Bill Paxton, Alan...        [Daniel Hsia]  \n4802  [Drew Barrymore, Brian Herzlinger, Corey Feldm...   [Brian Herzlinger]  \n\n[4803 rows x 7 columns]",
            "text/html": "<div>\n<style scoped>\n    .dataframe tbody tr th:only-of-type {\n        vertical-align: middle;\n    }\n\n    .dataframe tbody tr th {\n        vertical-align: top;\n    }\n\n    .dataframe thead th {\n        text-align: right;\n    }\n</style>\n<table border=\"1\" class=\"dataframe\">\n  <thead>\n    <tr style=\"text-align: right;\">\n      <th></th>\n      <th>movie_id</th>\n      <th>title</th>\n      <th>overview</th>\n      <th>genres</th>\n      <th>keywords</th>\n      <th>cast</th>\n      <th>director</th>\n    </tr>\n  </thead>\n  <tbody>\n    <tr>\n      <th>0</th>\n      <td>19995</td>\n      <td>Avatar</td>\n      <td>In the 22nd century, a paraplegic Marine is di...</td>\n      <td>[Action, Adventure, Fantasy, Science Fiction]</td>\n      <td>[culture clash, future, space war, space colon...</td>\n      <td>[Sam Worthington, Zoe Saldana, Sigourney Weave...</td>\n      <td>[James Cameron]</td>\n    </tr>\n    <tr>\n      <th>1</th>\n      <td>285</td>\n      <td>Pirates of the Caribbean: At World's End</td>\n      <td>Captain Barbossa, long believed to be dead, ha...</td>\n      <td>[Adventure, Fantasy, Action]</td>\n      <td>[ocean, drug abuse, exotic island, east india ...</td>\n      <td>[Johnny Depp, Orlando Bloom, Keira Knightley, ...</td>\n      <td>[Gore Verbinski]</td>\n    </tr>\n    <tr>\n      <th>2</th>\n      <td>206647</td>\n      <td>Spectre</td>\n      <td>A cryptic message from Bond’s past sends him o...</td>\n      <td>[Action, Adventure, Crime]</td>\n      <td>[spy, based on novel, secret agent, sequel, mi...</td>\n      <td>[Daniel Craig, Christoph Waltz, Léa Seydoux, R...</td>\n      <td>[Sam Mendes]</td>\n    </tr>\n    <tr>\n      <th>3</th>\n      <td>49026</td>\n      <td>The Dark Knight Rises</td>\n      <td>Following the death of District Attorney Harve...</td>\n      <td>[Action, Crime, Drama, Thriller]</td>\n      <td>[dc comics, crime fighter, terrorist, secret i...</td>\n      <td>[Christian Bale, Michael Caine, Gary Oldman, A...</td>\n      <td>[Christopher Nolan]</td>\n    </tr>\n    <tr>\n      <th>4</th>\n      <td>49529</td>\n      <td>John Carter</td>\n      <td>John Carter is a war-weary, former military ca...</td>\n      <td>[Action, Adventure, Science Fiction]</td>\n      <td>[based on novel, mars, medallion, space travel...</td>\n      <td>[Taylor Kitsch, Lynn Collins, Samantha Morton,...</td>\n      <td>[Andrew Stanton]</td>\n    </tr>\n    <tr>\n      <th>...</th>\n      <td>...</td>\n      <td>...</td>\n      <td>...</td>\n      <td>...</td>\n      <td>...</td>\n      <td>...</td>\n      <td>...</td>\n    </tr>\n    <tr>\n      <th>4798</th>\n      <td>9367</td>\n      <td>El Mariachi</td>\n      <td>El Mariachi just wants to play his guitar and ...</td>\n      <td>[Action, Crime, Thriller]</td>\n      <td>[united states–mexico barrier, legs, arms, pap...</td>\n      <td>[Carlos Gallardo, Jaime de Hoyos, Peter Marqua...</td>\n      <td>[Robert Rodriguez]</td>\n    </tr>\n    <tr>\n      <th>4799</th>\n      <td>72766</td>\n      <td>Newlyweds</td>\n      <td>A newlywed couple's honeymoon is upended by th...</td>\n      <td>[Comedy, Romance]</td>\n      <td>[]</td>\n      <td>[Edward Burns, Kerry Bishé, Marsha Dietlein, C...</td>\n      <td>[Edward Burns]</td>\n    </tr>\n    <tr>\n      <th>4800</th>\n      <td>231617</td>\n      <td>Signed, Sealed, Delivered</td>\n      <td>\"Signed, Sealed, Delivered\" introduces a dedic...</td>\n      <td>[Comedy, Drama, Romance, TV Movie]</td>\n      <td>[date, love at first sight, narration, investi...</td>\n      <td>[Eric Mabius, Kristin Booth, Crystal Lowe, Geo...</td>\n      <td>[Scott Smith]</td>\n    </tr>\n    <tr>\n      <th>4801</th>\n      <td>126186</td>\n      <td>Shanghai Calling</td>\n      <td>When ambitious New York attorney Sam is sent t...</td>\n      <td>[]</td>\n      <td>[]</td>\n      <td>[Daniel Henney, Eliza Coupe, Bill Paxton, Alan...</td>\n      <td>[Daniel Hsia]</td>\n    </tr>\n    <tr>\n      <th>4802</th>\n      <td>25975</td>\n      <td>My Date with Drew</td>\n      <td>Ever since the second grade when he first saw ...</td>\n      <td>[Documentary]</td>\n      <td>[obsession, camcorder, crush, dream girl]</td>\n      <td>[Drew Barrymore, Brian Herzlinger, Corey Feldm...</td>\n      <td>[Brian Herzlinger]</td>\n    </tr>\n  </tbody>\n</table>\n<p>4803 rows × 7 columns</p>\n</div>"
          },
          "execution_count": 249,
          "metadata": {},
          "output_type": "execute_result"
        }
      ],
      "source": [
        "data"
      ]
    },
    {
      "cell_type": "code",
      "execution_count": null,
      "metadata": {
        "ExecuteTime": {
          "end_time": "2024-02-24T15:43:12.809597600Z",
          "start_time": "2024-02-24T15:43:12.761703900Z"
        },
        "id": "uupf2YaOEFMh",
        "outputId": "30e35a43-bb36-4572-a89c-f23b94bd5fe4"
      },
      "outputs": [
        {
          "data": {
            "text/plain": "'In the 22nd century, a paraplegic Marine is dispatched to the moon Pandora on a unique mission, but becomes torn between following orders and protecting an alien civilization.'"
          },
          "execution_count": 250,
          "metadata": {},
          "output_type": "execute_result"
        }
      ],
      "source": [
        "data.iloc[0].overview"
      ]
    },
    {
      "cell_type": "code",
      "execution_count": null,
      "metadata": {
        "ExecuteTime": {
          "end_time": "2024-02-24T15:43:12.918281900Z",
          "start_time": "2024-02-24T15:43:12.774677800Z"
        },
        "id": "q7KumPAdEFMh"
      },
      "outputs": [],
      "source": [
        "data['overview'] = data['overview'].apply(lambda x: x.split())"
      ]
    },
    {
      "cell_type": "code",
      "execution_count": null,
      "metadata": {
        "ExecuteTime": {
          "end_time": "2024-02-24T15:43:13.054916600Z",
          "start_time": "2024-02-24T15:43:12.840490200Z"
        },
        "id": "r8gtQsgvEFMh",
        "outputId": "21d6df46-909f-486d-c537-fce2acf7d511"
      },
      "outputs": [
        {
          "data": {
            "text/plain": "      movie_id                                     title  \\\n0        19995                                    Avatar   \n1          285  Pirates of the Caribbean: At World's End   \n2       206647                                   Spectre   \n3        49026                     The Dark Knight Rises   \n4        49529                               John Carter   \n...        ...                                       ...   \n4798      9367                               El Mariachi   \n4799     72766                                 Newlyweds   \n4800    231617                 Signed, Sealed, Delivered   \n4801    126186                          Shanghai Calling   \n4802     25975                         My Date with Drew   \n\n                                               overview  \\\n0     [In, the, 22nd, century,, a, paraplegic, Marin...   \n1     [Captain, Barbossa,, long, believed, to, be, d...   \n2     [A, cryptic, message, from, Bond’s, past, send...   \n3     [Following, the, death, of, District, Attorney...   \n4     [John, Carter, is, a, war-weary,, former, mili...   \n...                                                 ...   \n4798  [El, Mariachi, just, wants, to, play, his, gui...   \n4799  [A, newlywed, couple's, honeymoon, is, upended...   \n4800  [\"Signed,, Sealed,, Delivered\", introduces, a,...   \n4801  [When, ambitious, New, York, attorney, Sam, is...   \n4802  [Ever, since, the, second, grade, when, he, fi...   \n\n                                             genres  \\\n0     [Action, Adventure, Fantasy, Science Fiction]   \n1                      [Adventure, Fantasy, Action]   \n2                        [Action, Adventure, Crime]   \n3                  [Action, Crime, Drama, Thriller]   \n4              [Action, Adventure, Science Fiction]   \n...                                             ...   \n4798                      [Action, Crime, Thriller]   \n4799                              [Comedy, Romance]   \n4800             [Comedy, Drama, Romance, TV Movie]   \n4801                                             []   \n4802                                  [Documentary]   \n\n                                               keywords  \\\n0     [culture clash, future, space war, space colon...   \n1     [ocean, drug abuse, exotic island, east india ...   \n2     [spy, based on novel, secret agent, sequel, mi...   \n3     [dc comics, crime fighter, terrorist, secret i...   \n4     [based on novel, mars, medallion, space travel...   \n...                                                 ...   \n4798  [united states–mexico barrier, legs, arms, pap...   \n4799                                                 []   \n4800  [date, love at first sight, narration, investi...   \n4801                                                 []   \n4802          [obsession, camcorder, crush, dream girl]   \n\n                                                   cast             director  \n0     [Sam Worthington, Zoe Saldana, Sigourney Weave...      [James Cameron]  \n1     [Johnny Depp, Orlando Bloom, Keira Knightley, ...     [Gore Verbinski]  \n2     [Daniel Craig, Christoph Waltz, Léa Seydoux, R...         [Sam Mendes]  \n3     [Christian Bale, Michael Caine, Gary Oldman, A...  [Christopher Nolan]  \n4     [Taylor Kitsch, Lynn Collins, Samantha Morton,...     [Andrew Stanton]  \n...                                                 ...                  ...  \n4798  [Carlos Gallardo, Jaime de Hoyos, Peter Marqua...   [Robert Rodriguez]  \n4799  [Edward Burns, Kerry Bishé, Marsha Dietlein, C...       [Edward Burns]  \n4800  [Eric Mabius, Kristin Booth, Crystal Lowe, Geo...        [Scott Smith]  \n4801  [Daniel Henney, Eliza Coupe, Bill Paxton, Alan...        [Daniel Hsia]  \n4802  [Drew Barrymore, Brian Herzlinger, Corey Feldm...   [Brian Herzlinger]  \n\n[4803 rows x 7 columns]",
            "text/html": "<div>\n<style scoped>\n    .dataframe tbody tr th:only-of-type {\n        vertical-align: middle;\n    }\n\n    .dataframe tbody tr th {\n        vertical-align: top;\n    }\n\n    .dataframe thead th {\n        text-align: right;\n    }\n</style>\n<table border=\"1\" class=\"dataframe\">\n  <thead>\n    <tr style=\"text-align: right;\">\n      <th></th>\n      <th>movie_id</th>\n      <th>title</th>\n      <th>overview</th>\n      <th>genres</th>\n      <th>keywords</th>\n      <th>cast</th>\n      <th>director</th>\n    </tr>\n  </thead>\n  <tbody>\n    <tr>\n      <th>0</th>\n      <td>19995</td>\n      <td>Avatar</td>\n      <td>[In, the, 22nd, century,, a, paraplegic, Marin...</td>\n      <td>[Action, Adventure, Fantasy, Science Fiction]</td>\n      <td>[culture clash, future, space war, space colon...</td>\n      <td>[Sam Worthington, Zoe Saldana, Sigourney Weave...</td>\n      <td>[James Cameron]</td>\n    </tr>\n    <tr>\n      <th>1</th>\n      <td>285</td>\n      <td>Pirates of the Caribbean: At World's End</td>\n      <td>[Captain, Barbossa,, long, believed, to, be, d...</td>\n      <td>[Adventure, Fantasy, Action]</td>\n      <td>[ocean, drug abuse, exotic island, east india ...</td>\n      <td>[Johnny Depp, Orlando Bloom, Keira Knightley, ...</td>\n      <td>[Gore Verbinski]</td>\n    </tr>\n    <tr>\n      <th>2</th>\n      <td>206647</td>\n      <td>Spectre</td>\n      <td>[A, cryptic, message, from, Bond’s, past, send...</td>\n      <td>[Action, Adventure, Crime]</td>\n      <td>[spy, based on novel, secret agent, sequel, mi...</td>\n      <td>[Daniel Craig, Christoph Waltz, Léa Seydoux, R...</td>\n      <td>[Sam Mendes]</td>\n    </tr>\n    <tr>\n      <th>3</th>\n      <td>49026</td>\n      <td>The Dark Knight Rises</td>\n      <td>[Following, the, death, of, District, Attorney...</td>\n      <td>[Action, Crime, Drama, Thriller]</td>\n      <td>[dc comics, crime fighter, terrorist, secret i...</td>\n      <td>[Christian Bale, Michael Caine, Gary Oldman, A...</td>\n      <td>[Christopher Nolan]</td>\n    </tr>\n    <tr>\n      <th>4</th>\n      <td>49529</td>\n      <td>John Carter</td>\n      <td>[John, Carter, is, a, war-weary,, former, mili...</td>\n      <td>[Action, Adventure, Science Fiction]</td>\n      <td>[based on novel, mars, medallion, space travel...</td>\n      <td>[Taylor Kitsch, Lynn Collins, Samantha Morton,...</td>\n      <td>[Andrew Stanton]</td>\n    </tr>\n    <tr>\n      <th>...</th>\n      <td>...</td>\n      <td>...</td>\n      <td>...</td>\n      <td>...</td>\n      <td>...</td>\n      <td>...</td>\n      <td>...</td>\n    </tr>\n    <tr>\n      <th>4798</th>\n      <td>9367</td>\n      <td>El Mariachi</td>\n      <td>[El, Mariachi, just, wants, to, play, his, gui...</td>\n      <td>[Action, Crime, Thriller]</td>\n      <td>[united states–mexico barrier, legs, arms, pap...</td>\n      <td>[Carlos Gallardo, Jaime de Hoyos, Peter Marqua...</td>\n      <td>[Robert Rodriguez]</td>\n    </tr>\n    <tr>\n      <th>4799</th>\n      <td>72766</td>\n      <td>Newlyweds</td>\n      <td>[A, newlywed, couple's, honeymoon, is, upended...</td>\n      <td>[Comedy, Romance]</td>\n      <td>[]</td>\n      <td>[Edward Burns, Kerry Bishé, Marsha Dietlein, C...</td>\n      <td>[Edward Burns]</td>\n    </tr>\n    <tr>\n      <th>4800</th>\n      <td>231617</td>\n      <td>Signed, Sealed, Delivered</td>\n      <td>[\"Signed,, Sealed,, Delivered\", introduces, a,...</td>\n      <td>[Comedy, Drama, Romance, TV Movie]</td>\n      <td>[date, love at first sight, narration, investi...</td>\n      <td>[Eric Mabius, Kristin Booth, Crystal Lowe, Geo...</td>\n      <td>[Scott Smith]</td>\n    </tr>\n    <tr>\n      <th>4801</th>\n      <td>126186</td>\n      <td>Shanghai Calling</td>\n      <td>[When, ambitious, New, York, attorney, Sam, is...</td>\n      <td>[]</td>\n      <td>[]</td>\n      <td>[Daniel Henney, Eliza Coupe, Bill Paxton, Alan...</td>\n      <td>[Daniel Hsia]</td>\n    </tr>\n    <tr>\n      <th>4802</th>\n      <td>25975</td>\n      <td>My Date with Drew</td>\n      <td>[Ever, since, the, second, grade, when, he, fi...</td>\n      <td>[Documentary]</td>\n      <td>[obsession, camcorder, crush, dream girl]</td>\n      <td>[Drew Barrymore, Brian Herzlinger, Corey Feldm...</td>\n      <td>[Brian Herzlinger]</td>\n    </tr>\n  </tbody>\n</table>\n<p>4803 rows × 7 columns</p>\n</div>"
          },
          "execution_count": 252,
          "metadata": {},
          "output_type": "execute_result"
        }
      ],
      "source": [
        "data"
      ]
    },
    {
      "cell_type": "code",
      "execution_count": null,
      "metadata": {
        "ExecuteTime": {
          "end_time": "2024-02-24T15:43:13.057921900Z",
          "start_time": "2024-02-24T15:43:12.901327400Z"
        },
        "id": "NUyISRvhEFMi"
      },
      "outputs": [],
      "source": [
        "def remove_space(word):\n",
        "    l = []\n",
        "    for i in word:\n",
        "        l.append(i.replace(' ', ''))\n",
        "    return l"
      ]
    },
    {
      "cell_type": "code",
      "execution_count": null,
      "metadata": {
        "ExecuteTime": {
          "end_time": "2024-02-24T15:43:13.220473200Z",
          "start_time": "2024-02-24T15:43:12.917284600Z"
        },
        "id": "TG80osR7EFMi"
      },
      "outputs": [],
      "source": [
        "data['cast'] = data['cast'].apply(remove_space)\n",
        "data['director'] = data['director'].apply(remove_space)\n",
        "data['genres'] = data['genres'].apply(remove_space)\n",
        "data['keywords'] = data['keywords'].apply(remove_space)"
      ]
    },
    {
      "cell_type": "code",
      "execution_count": null,
      "metadata": {
        "ExecuteTime": {
          "end_time": "2024-02-24T15:43:13.294277600Z",
          "start_time": "2024-02-24T15:43:13.078852900Z"
        },
        "id": "FvAfHTaPEFMi"
      },
      "outputs": [],
      "source": [
        "data['tags'] = data['overview'] + data['genres'] + data['keywords'] + data['cast'] + data['director']"
      ]
    },
    {
      "cell_type": "code",
      "execution_count": null,
      "metadata": {
        "ExecuteTime": {
          "end_time": "2024-02-24T15:43:13.404980800Z",
          "start_time": "2024-02-24T15:43:13.197536100Z"
        },
        "id": "hoKgKU1_EFMt",
        "outputId": "a60a992a-a06a-4df0-fa01-2b417d60adf7"
      },
      "outputs": [
        {
          "data": {
            "text/plain": "['In',\n 'the',\n '22nd',\n 'century,',\n 'a',\n 'paraplegic',\n 'Marine',\n 'is',\n 'dispatched',\n 'to',\n 'the',\n 'moon',\n 'Pandora',\n 'on',\n 'a',\n 'unique',\n 'mission,',\n 'but',\n 'becomes',\n 'torn',\n 'between',\n 'following',\n 'orders',\n 'and',\n 'protecting',\n 'an',\n 'alien',\n 'civilization.',\n 'Action',\n 'Adventure',\n 'Fantasy',\n 'ScienceFiction',\n 'cultureclash',\n 'future',\n 'spacewar',\n 'spacecolony',\n 'society',\n 'spacetravel',\n 'futuristic',\n 'romance',\n 'space',\n 'alien',\n 'tribe',\n 'alienplanet',\n 'cgi',\n 'marine',\n 'soldier',\n 'battle',\n 'loveaffair',\n 'antiwar',\n 'powerrelations',\n 'mindandsoul',\n '3d',\n 'SamWorthington',\n 'ZoeSaldana',\n 'SigourneyWeaver',\n 'StephenLang',\n 'MichelleRodriguez',\n 'GiovanniRibisi',\n 'JoelDavidMoore',\n 'CCHPounder',\n 'WesStudi',\n 'LazAlonso',\n 'DileepRao',\n 'MattGerald',\n 'SeanAnthonyMoran',\n 'JasonWhyte',\n 'ScottLawrence',\n 'KellyKilgour',\n 'JamesPatrickPitt',\n 'SeanPatrickMurphy',\n 'PeterDillon',\n 'KevinDorman',\n 'KelsonHenderson',\n 'DavidVanHorn',\n 'JacobTomuri',\n 'MichaelBlain-Rozgay',\n 'JonCurry',\n 'LukeHawker',\n 'WoodySchultz',\n 'PeterMensah',\n 'SoniaYee',\n 'JahnelCurfman',\n 'IlramChoi',\n 'KylaWarren',\n 'LisaRoumain',\n 'DebraWilson',\n 'ChrisMala',\n 'TaylorKibby',\n 'JodieLandau',\n 'JulieLamm',\n 'CullenB.Madden',\n 'JosephBradyMadden',\n 'FrankieTorres',\n 'AustinWilson',\n 'SaraWilson',\n 'TamicaWashington-Miller',\n 'LucyBriant',\n 'NathanMeister',\n 'GerryBlair',\n 'MatthewChamberlain',\n 'PaulYates',\n 'WrayWilson',\n 'JamesGaylyn',\n 'MelvinLenoClarkIII',\n 'CarvonFutrell',\n 'BrandonJelkes',\n 'MicahMoch',\n 'HanniyahMuhammad',\n 'ChristopherNolen',\n 'ChristaOliver',\n 'AprilMarieThomas',\n 'BravitaA.Threatt',\n 'ColinBleasdale',\n 'MikeBodnar',\n 'MattClayton',\n 'NicoleDionne',\n 'JamieHarrison',\n 'AllanHenry',\n 'AnthonyIngruber',\n 'AshleyJeffery',\n 'DeanKnowsley',\n 'JosephMika-Hunt',\n 'TerryNotary',\n 'KaiPantano',\n 'LoganPithyou',\n 'StuartPollock',\n 'Raja',\n 'GarethRuck',\n 'RhianSheehan',\n 'T.J.Storm',\n 'JodieTaylor',\n 'AliciaVela-Bailey',\n 'RichardWhiteside',\n 'NikieZambo',\n 'JuleneRenee',\n 'JamesCameron']"
          },
          "execution_count": 256,
          "metadata": {},
          "output_type": "execute_result"
        }
      ],
      "source": [
        "data['tags'][0]"
      ]
    },
    {
      "cell_type": "code",
      "execution_count": null,
      "metadata": {
        "ExecuteTime": {
          "end_time": "2024-02-24T15:43:13.441882900Z",
          "start_time": "2024-02-24T15:43:13.234437800Z"
        },
        "id": "hh7uXAhZEFMt"
      },
      "outputs": [],
      "source": [
        "new_df = data[['movie_id', 'title', 'tags']]"
      ]
    },
    {
      "cell_type": "code",
      "execution_count": null,
      "metadata": {
        "ExecuteTime": {
          "end_time": "2024-02-24T15:43:13.611429100Z",
          "start_time": "2024-02-24T15:43:13.262361800Z"
        },
        "id": "LWFKsHCKEFMt",
        "outputId": "20bbd05b-8ebf-4209-dc8e-8cb7a02e92e9"
      },
      "outputs": [
        {
          "data": {
            "text/plain": "      movie_id                                     title  \\\n0        19995                                    Avatar   \n1          285  Pirates of the Caribbean: At World's End   \n2       206647                                   Spectre   \n3        49026                     The Dark Knight Rises   \n4        49529                               John Carter   \n...        ...                                       ...   \n4798      9367                               El Mariachi   \n4799     72766                                 Newlyweds   \n4800    231617                 Signed, Sealed, Delivered   \n4801    126186                          Shanghai Calling   \n4802     25975                         My Date with Drew   \n\n                                                   tags  \n0     [In, the, 22nd, century,, a, paraplegic, Marin...  \n1     [Captain, Barbossa,, long, believed, to, be, d...  \n2     [A, cryptic, message, from, Bond’s, past, send...  \n3     [Following, the, death, of, District, Attorney...  \n4     [John, Carter, is, a, war-weary,, former, mili...  \n...                                                 ...  \n4798  [El, Mariachi, just, wants, to, play, his, gui...  \n4799  [A, newlywed, couple's, honeymoon, is, upended...  \n4800  [\"Signed,, Sealed,, Delivered\", introduces, a,...  \n4801  [When, ambitious, New, York, attorney, Sam, is...  \n4802  [Ever, since, the, second, grade, when, he, fi...  \n\n[4803 rows x 3 columns]",
            "text/html": "<div>\n<style scoped>\n    .dataframe tbody tr th:only-of-type {\n        vertical-align: middle;\n    }\n\n    .dataframe tbody tr th {\n        vertical-align: top;\n    }\n\n    .dataframe thead th {\n        text-align: right;\n    }\n</style>\n<table border=\"1\" class=\"dataframe\">\n  <thead>\n    <tr style=\"text-align: right;\">\n      <th></th>\n      <th>movie_id</th>\n      <th>title</th>\n      <th>tags</th>\n    </tr>\n  </thead>\n  <tbody>\n    <tr>\n      <th>0</th>\n      <td>19995</td>\n      <td>Avatar</td>\n      <td>[In, the, 22nd, century,, a, paraplegic, Marin...</td>\n    </tr>\n    <tr>\n      <th>1</th>\n      <td>285</td>\n      <td>Pirates of the Caribbean: At World's End</td>\n      <td>[Captain, Barbossa,, long, believed, to, be, d...</td>\n    </tr>\n    <tr>\n      <th>2</th>\n      <td>206647</td>\n      <td>Spectre</td>\n      <td>[A, cryptic, message, from, Bond’s, past, send...</td>\n    </tr>\n    <tr>\n      <th>3</th>\n      <td>49026</td>\n      <td>The Dark Knight Rises</td>\n      <td>[Following, the, death, of, District, Attorney...</td>\n    </tr>\n    <tr>\n      <th>4</th>\n      <td>49529</td>\n      <td>John Carter</td>\n      <td>[John, Carter, is, a, war-weary,, former, mili...</td>\n    </tr>\n    <tr>\n      <th>...</th>\n      <td>...</td>\n      <td>...</td>\n      <td>...</td>\n    </tr>\n    <tr>\n      <th>4798</th>\n      <td>9367</td>\n      <td>El Mariachi</td>\n      <td>[El, Mariachi, just, wants, to, play, his, gui...</td>\n    </tr>\n    <tr>\n      <th>4799</th>\n      <td>72766</td>\n      <td>Newlyweds</td>\n      <td>[A, newlywed, couple's, honeymoon, is, upended...</td>\n    </tr>\n    <tr>\n      <th>4800</th>\n      <td>231617</td>\n      <td>Signed, Sealed, Delivered</td>\n      <td>[\"Signed,, Sealed,, Delivered\", introduces, a,...</td>\n    </tr>\n    <tr>\n      <th>4801</th>\n      <td>126186</td>\n      <td>Shanghai Calling</td>\n      <td>[When, ambitious, New, York, attorney, Sam, is...</td>\n    </tr>\n    <tr>\n      <th>4802</th>\n      <td>25975</td>\n      <td>My Date with Drew</td>\n      <td>[Ever, since, the, second, grade, when, he, fi...</td>\n    </tr>\n  </tbody>\n</table>\n<p>4803 rows × 3 columns</p>\n</div>"
          },
          "execution_count": 258,
          "metadata": {},
          "output_type": "execute_result"
        }
      ],
      "source": [
        "new_df"
      ]
    },
    {
      "cell_type": "code",
      "execution_count": null,
      "metadata": {
        "ExecuteTime": {
          "end_time": "2024-02-24T15:43:13.651322800Z",
          "start_time": "2024-02-24T15:43:13.307242500Z"
        },
        "id": "0kRxNvrbEFMt",
        "outputId": "09708051-e914-4f56-d002-065cc5010054"
      },
      "outputs": [
        {
          "name": "stderr",
          "output_type": "stream",
          "text": [
            "C:\\Users\\HP\\AppData\\Local\\Temp\\ipykernel_14580\\224074193.py:1: SettingWithCopyWarning: \n",
            "A value is trying to be set on a copy of a slice from a DataFrame.\n",
            "Try using .loc[row_indexer,col_indexer] = value instead\n",
            "\n",
            "See the caveats in the documentation: https://pandas.pydata.org/pandas-docs/stable/user_guide/indexing.html#returning-a-view-versus-a-copy\n",
            "  new_df['tags'] = new_df['tags'].apply(lambda x: \" \".join(x))\n"
          ]
        }
      ],
      "source": [
        "new_df['tags'] = new_df['tags'].apply(lambda x: \" \".join(x))"
      ]
    },
    {
      "cell_type": "code",
      "execution_count": null,
      "metadata": {
        "ExecuteTime": {
          "end_time": "2024-02-24T15:43:13.779978200Z",
          "start_time": "2024-02-24T15:43:13.372087900Z"
        },
        "id": "OybHfFIpEFMu",
        "outputId": "509c9a66-fa57-4da4-be8f-8935303ef69a"
      },
      "outputs": [
        {
          "data": {
            "text/plain": "      movie_id                                     title  \\\n0        19995                                    Avatar   \n1          285  Pirates of the Caribbean: At World's End   \n2       206647                                   Spectre   \n3        49026                     The Dark Knight Rises   \n4        49529                               John Carter   \n...        ...                                       ...   \n4798      9367                               El Mariachi   \n4799     72766                                 Newlyweds   \n4800    231617                 Signed, Sealed, Delivered   \n4801    126186                          Shanghai Calling   \n4802     25975                         My Date with Drew   \n\n                                                   tags  \n0     In the 22nd century, a paraplegic Marine is di...  \n1     Captain Barbossa, long believed to be dead, ha...  \n2     A cryptic message from Bond’s past sends him o...  \n3     Following the death of District Attorney Harve...  \n4     John Carter is a war-weary, former military ca...  \n...                                                 ...  \n4798  El Mariachi just wants to play his guitar and ...  \n4799  A newlywed couple's honeymoon is upended by th...  \n4800  \"Signed, Sealed, Delivered\" introduces a dedic...  \n4801  When ambitious New York attorney Sam is sent t...  \n4802  Ever since the second grade when he first saw ...  \n\n[4803 rows x 3 columns]",
            "text/html": "<div>\n<style scoped>\n    .dataframe tbody tr th:only-of-type {\n        vertical-align: middle;\n    }\n\n    .dataframe tbody tr th {\n        vertical-align: top;\n    }\n\n    .dataframe thead th {\n        text-align: right;\n    }\n</style>\n<table border=\"1\" class=\"dataframe\">\n  <thead>\n    <tr style=\"text-align: right;\">\n      <th></th>\n      <th>movie_id</th>\n      <th>title</th>\n      <th>tags</th>\n    </tr>\n  </thead>\n  <tbody>\n    <tr>\n      <th>0</th>\n      <td>19995</td>\n      <td>Avatar</td>\n      <td>In the 22nd century, a paraplegic Marine is di...</td>\n    </tr>\n    <tr>\n      <th>1</th>\n      <td>285</td>\n      <td>Pirates of the Caribbean: At World's End</td>\n      <td>Captain Barbossa, long believed to be dead, ha...</td>\n    </tr>\n    <tr>\n      <th>2</th>\n      <td>206647</td>\n      <td>Spectre</td>\n      <td>A cryptic message from Bond’s past sends him o...</td>\n    </tr>\n    <tr>\n      <th>3</th>\n      <td>49026</td>\n      <td>The Dark Knight Rises</td>\n      <td>Following the death of District Attorney Harve...</td>\n    </tr>\n    <tr>\n      <th>4</th>\n      <td>49529</td>\n      <td>John Carter</td>\n      <td>John Carter is a war-weary, former military ca...</td>\n    </tr>\n    <tr>\n      <th>...</th>\n      <td>...</td>\n      <td>...</td>\n      <td>...</td>\n    </tr>\n    <tr>\n      <th>4798</th>\n      <td>9367</td>\n      <td>El Mariachi</td>\n      <td>El Mariachi just wants to play his guitar and ...</td>\n    </tr>\n    <tr>\n      <th>4799</th>\n      <td>72766</td>\n      <td>Newlyweds</td>\n      <td>A newlywed couple's honeymoon is upended by th...</td>\n    </tr>\n    <tr>\n      <th>4800</th>\n      <td>231617</td>\n      <td>Signed, Sealed, Delivered</td>\n      <td>\"Signed, Sealed, Delivered\" introduces a dedic...</td>\n    </tr>\n    <tr>\n      <th>4801</th>\n      <td>126186</td>\n      <td>Shanghai Calling</td>\n      <td>When ambitious New York attorney Sam is sent t...</td>\n    </tr>\n    <tr>\n      <th>4802</th>\n      <td>25975</td>\n      <td>My Date with Drew</td>\n      <td>Ever since the second grade when he first saw ...</td>\n    </tr>\n  </tbody>\n</table>\n<p>4803 rows × 3 columns</p>\n</div>"
          },
          "execution_count": 260,
          "metadata": {},
          "output_type": "execute_result"
        }
      ],
      "source": [
        "new_df"
      ]
    },
    {
      "cell_type": "code",
      "execution_count": null,
      "metadata": {
        "ExecuteTime": {
          "end_time": "2024-02-24T15:43:13.858766900Z",
          "start_time": "2024-02-24T15:43:13.405979200Z"
        },
        "id": "40zs80HsEFMu",
        "outputId": "d2cb1058-fdad-4505-fcc9-7a40781e8d4d"
      },
      "outputs": [
        {
          "data": {
            "text/plain": "'In the 22nd century, a paraplegic Marine is dispatched to the moon Pandora on a unique mission, but becomes torn between following orders and protecting an alien civilization. Action Adventure Fantasy ScienceFiction cultureclash future spacewar spacecolony society spacetravel futuristic romance space alien tribe alienplanet cgi marine soldier battle loveaffair antiwar powerrelations mindandsoul 3d SamWorthington ZoeSaldana SigourneyWeaver StephenLang MichelleRodriguez GiovanniRibisi JoelDavidMoore CCHPounder WesStudi LazAlonso DileepRao MattGerald SeanAnthonyMoran JasonWhyte ScottLawrence KellyKilgour JamesPatrickPitt SeanPatrickMurphy PeterDillon KevinDorman KelsonHenderson DavidVanHorn JacobTomuri MichaelBlain-Rozgay JonCurry LukeHawker WoodySchultz PeterMensah SoniaYee JahnelCurfman IlramChoi KylaWarren LisaRoumain DebraWilson ChrisMala TaylorKibby JodieLandau JulieLamm CullenB.Madden JosephBradyMadden FrankieTorres AustinWilson SaraWilson TamicaWashington-Miller LucyBriant NathanMeister GerryBlair MatthewChamberlain PaulYates WrayWilson JamesGaylyn MelvinLenoClarkIII CarvonFutrell BrandonJelkes MicahMoch HanniyahMuhammad ChristopherNolen ChristaOliver AprilMarieThomas BravitaA.Threatt ColinBleasdale MikeBodnar MattClayton NicoleDionne JamieHarrison AllanHenry AnthonyIngruber AshleyJeffery DeanKnowsley JosephMika-Hunt TerryNotary KaiPantano LoganPithyou StuartPollock Raja GarethRuck RhianSheehan T.J.Storm JodieTaylor AliciaVela-Bailey RichardWhiteside NikieZambo JuleneRenee JamesCameron'"
          },
          "execution_count": 261,
          "metadata": {},
          "output_type": "execute_result"
        }
      ],
      "source": [
        "new_df.iloc[0]['tags']"
      ]
    },
    {
      "cell_type": "code",
      "execution_count": null,
      "metadata": {
        "ExecuteTime": {
          "end_time": "2024-02-24T15:43:13.885696500Z",
          "start_time": "2024-02-24T15:43:13.442881Z"
        },
        "id": "oiMVaLNvEFMu",
        "outputId": "f260e750-685e-4a36-8f52-db93e6f98750"
      },
      "outputs": [
        {
          "name": "stderr",
          "output_type": "stream",
          "text": [
            "C:\\Users\\HP\\AppData\\Local\\Temp\\ipykernel_14580\\1889842218.py:1: SettingWithCopyWarning: \n",
            "A value is trying to be set on a copy of a slice from a DataFrame.\n",
            "Try using .loc[row_indexer,col_indexer] = value instead\n",
            "\n",
            "See the caveats in the documentation: https://pandas.pydata.org/pandas-docs/stable/user_guide/indexing.html#returning-a-view-versus-a-copy\n",
            "  new_df['tags'] = new_df['tags'].apply(lambda x: x.lower())\n"
          ]
        }
      ],
      "source": [
        "new_df['tags'] = new_df['tags'].apply(lambda x: x.lower())"
      ]
    },
    {
      "cell_type": "code",
      "execution_count": null,
      "metadata": {
        "ExecuteTime": {
          "end_time": "2024-02-24T15:43:13.895668700Z",
          "start_time": "2024-02-24T15:43:13.528650500Z"
        },
        "id": "kImUThmgEFMv",
        "outputId": "22d2688b-9e32-4d55-dd31-863d9a0ba97f"
      },
      "outputs": [
        {
          "name": "stderr",
          "output_type": "stream",
          "text": [
            "[nltk_data] Downloading package stopwords to\n",
            "[nltk_data]     C:\\Users\\HP\\AppData\\Roaming\\nltk_data...\n",
            "[nltk_data]   Package stopwords is already up-to-date!\n"
          ]
        }
      ],
      "source": [
        "import nltk\n",
        "nltk.download('stopwords')\n",
        "from nltk.corpus import stopwords\n",
        "from nltk.stem.porter import PorterStemmer\n",
        "\n",
        "ps = PorterStemmer()\n",
        "\n",
        "def stems(text):\n",
        "    T = []\n",
        "\n",
        "    for i in text.split():\n",
        "        if not i in set(stopwords.words('english')):\n",
        "            T.append(ps.stem(i))\n",
        "\n",
        "    return ' '.join(T)\n"
      ]
    },
    {
      "cell_type": "markdown",
      "metadata": {
        "id": "6pet-75SEFMw"
      },
      "source": [
        "Stemming to proces normalizacji słów, w którym różne formy tego samego słowa są redukowane do jednej podstawowej formy (tzw. korzenia)."
      ]
    },
    {
      "cell_type": "markdown",
      "metadata": {
        "id": "zH_rM-hgEFMw"
      },
      "source": [
        "Stopwords (słowa-klucze) to słowa, które są powszechnie występujące w języku naturalnym, ale często nie niosą dużo informacji, ponieważ są używane do budowy zdania i struktury języka. W analizie tekstu czy przetwarzaniu języka naturalnego (NLP) stopwords są często usuwane podczas przetwarzania, ponieważ mogą wprowadzać szum i utrudniać ekstrakcję istotnych informacji z tekstu.\n",
        "\n",
        "Przykłady stopwords w języku angielskim obejmują słowa takie jak \"the\", \"and\", \"is\", \"in\", \"to\" itp. Stopwords różnią się między językami, i zazwyczaj są określane w ramach zbioru reguł danego języka."
      ]
    },
    {
      "cell_type": "code",
      "execution_count": null,
      "metadata": {
        "ExecuteTime": {
          "end_time": "2024-02-24T15:45:34.067985100Z",
          "start_time": "2024-02-24T15:43:13.569550700Z"
        },
        "id": "89HTg9QxEFMw",
        "outputId": "c9d589d6-3fff-4df3-8372-6a4a302ab9a1"
      },
      "outputs": [
        {
          "name": "stderr",
          "output_type": "stream",
          "text": [
            "C:\\Users\\HP\\AppData\\Local\\Temp\\ipykernel_14580\\2555563119.py:1: SettingWithCopyWarning: \n",
            "A value is trying to be set on a copy of a slice from a DataFrame.\n",
            "Try using .loc[row_indexer,col_indexer] = value instead\n",
            "\n",
            "See the caveats in the documentation: https://pandas.pydata.org/pandas-docs/stable/user_guide/indexing.html#returning-a-view-versus-a-copy\n",
            "  new_df['tags'] = new_df['tags'].apply(stems)\n"
          ]
        }
      ],
      "source": [
        "new_df['tags'] = new_df['tags'].apply(stems)"
      ]
    },
    {
      "cell_type": "code",
      "execution_count": null,
      "metadata": {
        "ExecuteTime": {
          "end_time": "2024-02-24T15:45:34.111866600Z",
          "start_time": "2024-02-24T15:45:34.072966200Z"
        },
        "id": "K8ydCy6KEFMw",
        "outputId": "40edbd93-d334-4bd3-83cc-175a0668afb8"
      },
      "outputs": [
        {
          "data": {
            "text/plain": "'22nd century, parapleg marin dispatch moon pandora uniqu mission, becom torn follow order protect alien civilization. action adventur fantasi sciencefict cultureclash futur spacewar spacecoloni societi spacetravel futurist romanc space alien tribe alienplanet cgi marin soldier battl loveaffair antiwar powerrel mindandsoul 3d samworthington zoesaldana sigourneyweav stephenlang michellerodriguez giovanniribisi joeldavidmoor cchpounder wesstudi lazalonso dileeprao mattgerald seananthonymoran jasonwhyt scottlawr kellykilgour jamespatrickpitt seanpatrickmurphi peterdillon kevindorman kelsonhenderson davidvanhorn jacobtomuri michaelblain-rozgay joncurri lukehawk woodyschultz petermensah soniaye jahnelcurfman ilramchoi kylawarren lisaroumain debrawilson chrismala taylorkibbi jodielandau julielamm cullenb.madden josephbradymadden frankietorr austinwilson sarawilson tamicawashington-mil lucybri nathanmeist gerryblair matthewchamberlain paulyat wraywilson jamesgaylyn melvinlenoclarkiii carvonfutrel brandonjelk micahmoch hanniyahmuhammad christophernolen christaoliv aprilmariethoma bravitaa.threatt colinbleasdal mikebodnar mattclayton nicoledionn jamieharrison allanhenri anthonyingrub ashleyjefferi deanknowsley josephmika-hunt terrynotari kaipantano loganpithy stuartpollock raja garethruck rhiansheehan t.j.storm jodietaylor aliciavela-bailey richardwhitesid nikiezambo julenerene jamescameron'"
          },
          "execution_count": 265,
          "metadata": {},
          "output_type": "execute_result"
        }
      ],
      "source": [
        "new_df.tags[0]"
      ]
    },
    {
      "cell_type": "code",
      "execution_count": null,
      "metadata": {
        "ExecuteTime": {
          "end_time": "2024-02-24T15:45:34.134799900Z",
          "start_time": "2024-02-24T15:45:34.087927Z"
        },
        "id": "uRxUWp3rEFMx",
        "outputId": "6ee68b32-2ce9-4c19-a87a-fe5d404a4664"
      },
      "outputs": [
        {
          "data": {
            "text/plain": "(4803, 3)"
          },
          "execution_count": 266,
          "metadata": {},
          "output_type": "execute_result"
        }
      ],
      "source": [
        "new_df.shape"
      ]
    },
    {
      "cell_type": "markdown",
      "metadata": {
        "id": "7T0BfwMsEFMx"
      },
      "source": [
        "W tym kroku tworzony jest obiekt CountVectorizer. CountVectorizer jest narzędziem do konwersji zbiorów tekstowych na macierze liczb, a max_features jest jednym z jego parametrów. Parametr ten określa maksymalną liczbę cech (słów lub tokenów), które zostaną wzięte pod uwagę podczas procesu przekształcania tekstu na liczbę.\n",
        "\n",
        "Na przykład, jeśli masz bardzo duży zbiór tekstów i chcesz ograniczyć się do najczęściej występujących 5000 słów, możesz ustawić max_features=5000. To ograniczenie ma sens, ponieważ bardzo rzadko używane słowa często nie przynoszą dodatkowej informacji i mogą być pomijane w celu zwiększenia efektywności analizy."
      ]
    },
    {
      "cell_type": "code",
      "execution_count": null,
      "metadata": {
        "ExecuteTime": {
          "end_time": "2024-02-24T15:45:34.918706700Z",
          "start_time": "2024-02-24T15:45:34.101888900Z"
        },
        "id": "Z4PaYpkHEFMx"
      },
      "outputs": [],
      "source": [
        "from sklearn.feature_extraction.text import CountVectorizer\n",
        "cv = CountVectorizer(max_features=5000)\n",
        "vector = cv.fit_transform(new_df['tags']).toarray()\n"
      ]
    },
    {
      "cell_type": "code",
      "execution_count": null,
      "metadata": {
        "ExecuteTime": {
          "end_time": "2024-02-24T15:45:34.945633400Z",
          "start_time": "2024-02-24T15:45:34.921698900Z"
        },
        "id": "UlSm4AXqEFMx",
        "outputId": "b5b5aba8-b597-420b-d7f0-baadf73e5a1b"
      },
      "outputs": [
        {
          "data": {
            "text/plain": "array([0, 0, 0, ..., 0, 0, 0], dtype=int64)"
          },
          "execution_count": 268,
          "metadata": {},
          "output_type": "execute_result"
        }
      ],
      "source": [
        "vector[0]"
      ]
    },
    {
      "cell_type": "code",
      "execution_count": null,
      "metadata": {
        "ExecuteTime": {
          "end_time": "2024-02-24T15:45:35.046365700Z",
          "start_time": "2024-02-24T15:45:34.941644800Z"
        },
        "id": "6z5cJ9t0EFMy",
        "outputId": "dfa428ef-b4c7-4f95-d1a1-6fbd7e819f68"
      },
      "outputs": [
        {
          "data": {
            "text/plain": "(4803, 5000)"
          },
          "execution_count": 269,
          "metadata": {},
          "output_type": "execute_result"
        }
      ],
      "source": [
        "vector.shape"
      ]
    },
    {
      "cell_type": "code",
      "execution_count": null,
      "metadata": {
        "ExecuteTime": {
          "end_time": "2024-02-24T15:45:38.021412300Z",
          "start_time": "2024-02-24T15:45:34.970569200Z"
        },
        "id": "HEJTWyqSEFMy",
        "outputId": "8255ecca-a480-4e86-c376-e9919faee9c0"
      },
      "outputs": [
        {
          "data": {
            "text/plain": "array([[1.        , 0.06745406, 0.07325794, ..., 0.04313311, 0.        ,\n        0.        ],\n       [0.06745406, 1.        , 0.09443843, ..., 0.02085144, 0.        ,\n        0.        ],\n       [0.07325794, 0.09443843, 1.        , ..., 0.02264554, 0.        ,\n        0.        ],\n       ...,\n       [0.04313311, 0.02085144, 0.02264554, ..., 1.        , 0.04313311,\n        0.04082483],\n       [0.        , 0.        , 0.        , ..., 0.04313311, 1.        ,\n        0.06603382],\n       [0.        , 0.        , 0.        , ..., 0.04082483, 0.06603382,\n        1.        ]])"
          },
          "execution_count": 270,
          "metadata": {},
          "output_type": "execute_result"
        }
      ],
      "source": [
        "from sklearn.metrics.pairwise import cosine_similarity\n",
        "similarity = cosine_similarity(vector)\n",
        "similarity"
      ]
    },
    {
      "cell_type": "code",
      "execution_count": null,
      "metadata": {
        "ExecuteTime": {
          "end_time": "2024-02-24T15:45:38.083245500Z",
          "start_time": "2024-02-24T15:45:38.018422600Z"
        },
        "id": "YdZBT2YPEFMy",
        "outputId": "b36d18de-071f-4fee-c462-1f8e37fabcc4"
      },
      "outputs": [
        {
          "data": {
            "text/plain": "(4803, 4803)"
          },
          "execution_count": 271,
          "metadata": {},
          "output_type": "execute_result"
        }
      ],
      "source": [
        "similarity.shape"
      ]
    },
    {
      "cell_type": "code",
      "outputs": [],
      "source": [
        "import pickle\n",
        "pickle.dump(new_df,open('b/movie_list.pkl','wb'))\n",
        "pickle.dump(similarity,open('b/similarity.pkl','wb'))"
      ],
      "metadata": {
        "ExecuteTime": {
          "end_time": "2024-02-24T15:47:57.260296Z",
          "start_time": "2024-02-24T15:47:55.860043800Z"
        },
        "id": "fpV_5GswEFMy"
      },
      "execution_count": null
    },
    {
      "cell_type": "code",
      "outputs": [],
      "source": [
        "pickle.dump(data2, open('b/pop_movie.pkl', 'wb'))"
      ],
      "metadata": {
        "ExecuteTime": {
          "end_time": "2024-02-24T15:47:58.677690200Z",
          "start_time": "2024-02-24T15:47:58.520112200Z"
        },
        "id": "YtkmduP6EFMz"
      },
      "execution_count": null
    },
    {
      "cell_type": "code",
      "outputs": [],
      "source": [
        "pickle.dump(uniq_genres, open('b/genres.pkl', 'wb'))"
      ],
      "metadata": {
        "ExecuteTime": {
          "end_time": "2024-02-24T16:30:56.959597500Z",
          "start_time": "2024-02-24T16:30:56.856871800Z"
        },
        "id": "urTz1MRXEFMz"
      },
      "execution_count": null
    }
  ],
  "metadata": {
    "kernelspec": {
      "display_name": "Python 3",
      "language": "python",
      "name": "python3"
    },
    "language_info": {
      "codemirror_mode": {
        "name": "ipython",
        "version": 3
      },
      "file_extension": ".py",
      "mimetype": "text/x-python",
      "name": "python",
      "nbconvert_exporter": "python",
      "pygments_lexer": "ipython3",
      "version": "3.9.6"
    },
    "colab": {
      "provenance": [],
      "include_colab_link": true
    }
  },
  "nbformat": 4,
  "nbformat_minor": 0
}