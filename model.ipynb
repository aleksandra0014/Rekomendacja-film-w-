{
 "cells": [
  {
   "cell_type": "code",
   "execution_count": 1,
   "metadata": {
    "ExecuteTime": {
     "end_time": "2024-02-22T12:10:10.447343600Z",
     "start_time": "2024-02-22T12:10:08.115577900Z"
    }
   },
   "outputs": [],
   "source": [
    "import pandas as pd \n",
    "movies = pd.read_csv('C:\\\\Users\\\\HP\\\\Desktop\\\\projekty\\\\movie reccomender\\\\tmdb_5000_movies.csv')\n",
    "credits = pd.read_csv('C:\\\\Users\\\\HP\\\\Desktop\\\\projekty\\\\movie reccomender\\\\tmdb_5000_credits.csv')"
   ]
  },
  {
   "cell_type": "code",
   "execution_count": 2,
   "metadata": {
    "ExecuteTime": {
     "end_time": "2024-02-22T12:10:10.507186800Z",
     "start_time": "2024-02-22T12:10:10.452331800Z"
    }
   },
   "outputs": [
    {
     "data": {
      "text/plain": "      movie_id                                     title  \\\n0        19995                                    Avatar   \n1          285  Pirates of the Caribbean: At World's End   \n2       206647                                   Spectre   \n3        49026                     The Dark Knight Rises   \n4        49529                               John Carter   \n...        ...                                       ...   \n4798      9367                               El Mariachi   \n4799     72766                                 Newlyweds   \n4800    231617                 Signed, Sealed, Delivered   \n4801    126186                          Shanghai Calling   \n4802     25975                         My Date with Drew   \n\n                                                   cast  \\\n0     [{\"cast_id\": 242, \"character\": \"Jake Sully\", \"...   \n1     [{\"cast_id\": 4, \"character\": \"Captain Jack Spa...   \n2     [{\"cast_id\": 1, \"character\": \"James Bond\", \"cr...   \n3     [{\"cast_id\": 2, \"character\": \"Bruce Wayne / Ba...   \n4     [{\"cast_id\": 5, \"character\": \"John Carter\", \"c...   \n...                                                 ...   \n4798  [{\"cast_id\": 1, \"character\": \"El Mariachi\", \"c...   \n4799  [{\"cast_id\": 1, \"character\": \"Buzzy\", \"credit_...   \n4800  [{\"cast_id\": 8, \"character\": \"Oliver O\\u2019To...   \n4801  [{\"cast_id\": 3, \"character\": \"Sam\", \"credit_id...   \n4802  [{\"cast_id\": 3, \"character\": \"Herself\", \"credi...   \n\n                                                   crew  \n0     [{\"credit_id\": \"52fe48009251416c750aca23\", \"de...  \n1     [{\"credit_id\": \"52fe4232c3a36847f800b579\", \"de...  \n2     [{\"credit_id\": \"54805967c3a36829b5002c41\", \"de...  \n3     [{\"credit_id\": \"52fe4781c3a36847f81398c3\", \"de...  \n4     [{\"credit_id\": \"52fe479ac3a36847f813eaa3\", \"de...  \n...                                                 ...  \n4798  [{\"credit_id\": \"52fe44eec3a36847f80b280b\", \"de...  \n4799  [{\"credit_id\": \"52fe487dc3a368484e0fb013\", \"de...  \n4800  [{\"credit_id\": \"52fe4df3c3a36847f8275ecf\", \"de...  \n4801  [{\"credit_id\": \"52fe4ad9c3a368484e16a36b\", \"de...  \n4802  [{\"credit_id\": \"58ce021b9251415a390165d9\", \"de...  \n\n[4803 rows x 4 columns]",
      "text/html": "<div>\n<style scoped>\n    .dataframe tbody tr th:only-of-type {\n        vertical-align: middle;\n    }\n\n    .dataframe tbody tr th {\n        vertical-align: top;\n    }\n\n    .dataframe thead th {\n        text-align: right;\n    }\n</style>\n<table border=\"1\" class=\"dataframe\">\n  <thead>\n    <tr style=\"text-align: right;\">\n      <th></th>\n      <th>movie_id</th>\n      <th>title</th>\n      <th>cast</th>\n      <th>crew</th>\n    </tr>\n  </thead>\n  <tbody>\n    <tr>\n      <th>0</th>\n      <td>19995</td>\n      <td>Avatar</td>\n      <td>[{\"cast_id\": 242, \"character\": \"Jake Sully\", \"...</td>\n      <td>[{\"credit_id\": \"52fe48009251416c750aca23\", \"de...</td>\n    </tr>\n    <tr>\n      <th>1</th>\n      <td>285</td>\n      <td>Pirates of the Caribbean: At World's End</td>\n      <td>[{\"cast_id\": 4, \"character\": \"Captain Jack Spa...</td>\n      <td>[{\"credit_id\": \"52fe4232c3a36847f800b579\", \"de...</td>\n    </tr>\n    <tr>\n      <th>2</th>\n      <td>206647</td>\n      <td>Spectre</td>\n      <td>[{\"cast_id\": 1, \"character\": \"James Bond\", \"cr...</td>\n      <td>[{\"credit_id\": \"54805967c3a36829b5002c41\", \"de...</td>\n    </tr>\n    <tr>\n      <th>3</th>\n      <td>49026</td>\n      <td>The Dark Knight Rises</td>\n      <td>[{\"cast_id\": 2, \"character\": \"Bruce Wayne / Ba...</td>\n      <td>[{\"credit_id\": \"52fe4781c3a36847f81398c3\", \"de...</td>\n    </tr>\n    <tr>\n      <th>4</th>\n      <td>49529</td>\n      <td>John Carter</td>\n      <td>[{\"cast_id\": 5, \"character\": \"John Carter\", \"c...</td>\n      <td>[{\"credit_id\": \"52fe479ac3a36847f813eaa3\", \"de...</td>\n    </tr>\n    <tr>\n      <th>...</th>\n      <td>...</td>\n      <td>...</td>\n      <td>...</td>\n      <td>...</td>\n    </tr>\n    <tr>\n      <th>4798</th>\n      <td>9367</td>\n      <td>El Mariachi</td>\n      <td>[{\"cast_id\": 1, \"character\": \"El Mariachi\", \"c...</td>\n      <td>[{\"credit_id\": \"52fe44eec3a36847f80b280b\", \"de...</td>\n    </tr>\n    <tr>\n      <th>4799</th>\n      <td>72766</td>\n      <td>Newlyweds</td>\n      <td>[{\"cast_id\": 1, \"character\": \"Buzzy\", \"credit_...</td>\n      <td>[{\"credit_id\": \"52fe487dc3a368484e0fb013\", \"de...</td>\n    </tr>\n    <tr>\n      <th>4800</th>\n      <td>231617</td>\n      <td>Signed, Sealed, Delivered</td>\n      <td>[{\"cast_id\": 8, \"character\": \"Oliver O\\u2019To...</td>\n      <td>[{\"credit_id\": \"52fe4df3c3a36847f8275ecf\", \"de...</td>\n    </tr>\n    <tr>\n      <th>4801</th>\n      <td>126186</td>\n      <td>Shanghai Calling</td>\n      <td>[{\"cast_id\": 3, \"character\": \"Sam\", \"credit_id...</td>\n      <td>[{\"credit_id\": \"52fe4ad9c3a368484e16a36b\", \"de...</td>\n    </tr>\n    <tr>\n      <th>4802</th>\n      <td>25975</td>\n      <td>My Date with Drew</td>\n      <td>[{\"cast_id\": 3, \"character\": \"Herself\", \"credi...</td>\n      <td>[{\"credit_id\": \"58ce021b9251415a390165d9\", \"de...</td>\n    </tr>\n  </tbody>\n</table>\n<p>4803 rows × 4 columns</p>\n</div>"
     },
     "execution_count": 2,
     "metadata": {},
     "output_type": "execute_result"
    }
   ],
   "source": [
    "credits"
   ]
  },
  {
   "cell_type": "code",
   "execution_count": 3,
   "metadata": {
    "ExecuteTime": {
     "end_time": "2024-02-22T12:10:10.640828Z",
     "start_time": "2024-02-22T12:10:10.500204900Z"
    }
   },
   "outputs": [
    {
     "data": {
      "text/plain": "         budget                                             genres  \\\n0     237000000  [{\"id\": 28, \"name\": \"Action\"}, {\"id\": 12, \"nam...   \n1     300000000  [{\"id\": 12, \"name\": \"Adventure\"}, {\"id\": 14, \"...   \n2     245000000  [{\"id\": 28, \"name\": \"Action\"}, {\"id\": 12, \"nam...   \n3     250000000  [{\"id\": 28, \"name\": \"Action\"}, {\"id\": 80, \"nam...   \n4     260000000  [{\"id\": 28, \"name\": \"Action\"}, {\"id\": 12, \"nam...   \n...         ...                                                ...   \n4798     220000  [{\"id\": 28, \"name\": \"Action\"}, {\"id\": 80, \"nam...   \n4799       9000  [{\"id\": 35, \"name\": \"Comedy\"}, {\"id\": 10749, \"...   \n4800          0  [{\"id\": 35, \"name\": \"Comedy\"}, {\"id\": 18, \"nam...   \n4801          0                                                 []   \n4802          0                [{\"id\": 99, \"name\": \"Documentary\"}]   \n\n                                               homepage      id  \\\n0                           http://www.avatarmovie.com/   19995   \n1          http://disney.go.com/disneypictures/pirates/     285   \n2           http://www.sonypictures.com/movies/spectre/  206647   \n3                    http://www.thedarkknightrises.com/   49026   \n4                  http://movies.disney.com/john-carter   49529   \n...                                                 ...     ...   \n4798                                                NaN    9367   \n4799                                                NaN   72766   \n4800  http://www.hallmarkchannel.com/signedsealeddel...  231617   \n4801                        http://shanghaicalling.com/  126186   \n4802                                                NaN   25975   \n\n                                               keywords original_language  \\\n0     [{\"id\": 1463, \"name\": \"culture clash\"}, {\"id\":...                en   \n1     [{\"id\": 270, \"name\": \"ocean\"}, {\"id\": 726, \"na...                en   \n2     [{\"id\": 470, \"name\": \"spy\"}, {\"id\": 818, \"name...                en   \n3     [{\"id\": 849, \"name\": \"dc comics\"}, {\"id\": 853,...                en   \n4     [{\"id\": 818, \"name\": \"based on novel\"}, {\"id\":...                en   \n...                                                 ...               ...   \n4798  [{\"id\": 5616, \"name\": \"united states\\u2013mexi...                es   \n4799                                                 []                en   \n4800  [{\"id\": 248, \"name\": \"date\"}, {\"id\": 699, \"nam...                en   \n4801                                                 []                en   \n4802  [{\"id\": 1523, \"name\": \"obsession\"}, {\"id\": 224...                en   \n\n                                original_title  \\\n0                                       Avatar   \n1     Pirates of the Caribbean: At World's End   \n2                                      Spectre   \n3                        The Dark Knight Rises   \n4                                  John Carter   \n...                                        ...   \n4798                               El Mariachi   \n4799                                 Newlyweds   \n4800                 Signed, Sealed, Delivered   \n4801                          Shanghai Calling   \n4802                         My Date with Drew   \n\n                                               overview  popularity  \\\n0     In the 22nd century, a paraplegic Marine is di...  150.437577   \n1     Captain Barbossa, long believed to be dead, ha...  139.082615   \n2     A cryptic message from Bond’s past sends him o...  107.376788   \n3     Following the death of District Attorney Harve...  112.312950   \n4     John Carter is a war-weary, former military ca...   43.926995   \n...                                                 ...         ...   \n4798  El Mariachi just wants to play his guitar and ...   14.269792   \n4799  A newlywed couple's honeymoon is upended by th...    0.642552   \n4800  \"Signed, Sealed, Delivered\" introduces a dedic...    1.444476   \n4801  When ambitious New York attorney Sam is sent t...    0.857008   \n4802  Ever since the second grade when he first saw ...    1.929883   \n\n                                   production_companies  \\\n0     [{\"name\": \"Ingenious Film Partners\", \"id\": 289...   \n1     [{\"name\": \"Walt Disney Pictures\", \"id\": 2}, {\"...   \n2     [{\"name\": \"Columbia Pictures\", \"id\": 5}, {\"nam...   \n3     [{\"name\": \"Legendary Pictures\", \"id\": 923}, {\"...   \n4           [{\"name\": \"Walt Disney Pictures\", \"id\": 2}]   \n...                                                 ...   \n4798           [{\"name\": \"Columbia Pictures\", \"id\": 5}]   \n4799                                                 []   \n4800  [{\"name\": \"Front Street Pictures\", \"id\": 3958}...   \n4801                                                 []   \n4802  [{\"name\": \"rusty bear entertainment\", \"id\": 87...   \n\n                                   production_countries release_date  \\\n0     [{\"iso_3166_1\": \"US\", \"name\": \"United States o...   2009-12-10   \n1     [{\"iso_3166_1\": \"US\", \"name\": \"United States o...   2007-05-19   \n2     [{\"iso_3166_1\": \"GB\", \"name\": \"United Kingdom\"...   2015-10-26   \n3     [{\"iso_3166_1\": \"US\", \"name\": \"United States o...   2012-07-16   \n4     [{\"iso_3166_1\": \"US\", \"name\": \"United States o...   2012-03-07   \n...                                                 ...          ...   \n4798  [{\"iso_3166_1\": \"MX\", \"name\": \"Mexico\"}, {\"iso...   1992-09-04   \n4799                                                 []   2011-12-26   \n4800  [{\"iso_3166_1\": \"US\", \"name\": \"United States o...   2013-10-13   \n4801  [{\"iso_3166_1\": \"US\", \"name\": \"United States o...   2012-05-03   \n4802  [{\"iso_3166_1\": \"US\", \"name\": \"United States o...   2005-08-05   \n\n         revenue  runtime                                   spoken_languages  \\\n0     2787965087    162.0  [{\"iso_639_1\": \"en\", \"name\": \"English\"}, {\"iso...   \n1      961000000    169.0           [{\"iso_639_1\": \"en\", \"name\": \"English\"}]   \n2      880674609    148.0  [{\"iso_639_1\": \"fr\", \"name\": \"Fran\\u00e7ais\"},...   \n3     1084939099    165.0           [{\"iso_639_1\": \"en\", \"name\": \"English\"}]   \n4      284139100    132.0           [{\"iso_639_1\": \"en\", \"name\": \"English\"}]   \n...          ...      ...                                                ...   \n4798     2040920     81.0      [{\"iso_639_1\": \"es\", \"name\": \"Espa\\u00f1ol\"}]   \n4799           0     85.0                                                 []   \n4800           0    120.0           [{\"iso_639_1\": \"en\", \"name\": \"English\"}]   \n4801           0     98.0           [{\"iso_639_1\": \"en\", \"name\": \"English\"}]   \n4802           0     90.0           [{\"iso_639_1\": \"en\", \"name\": \"English\"}]   \n\n        status                                            tagline  \\\n0     Released                        Enter the World of Pandora.   \n1     Released     At the end of the world, the adventure begins.   \n2     Released                              A Plan No One Escapes   \n3     Released                                    The Legend Ends   \n4     Released               Lost in our world, found in another.   \n...        ...                                                ...   \n4798  Released  He didn't come looking for trouble, but troubl...   \n4799  Released  A newlywed couple's honeymoon is upended by th...   \n4800  Released                                                NaN   \n4801  Released                           A New Yorker in Shanghai   \n4802  Released                                                NaN   \n\n                                         title  vote_average  vote_count  \n0                                       Avatar           7.2       11800  \n1     Pirates of the Caribbean: At World's End           6.9        4500  \n2                                      Spectre           6.3        4466  \n3                        The Dark Knight Rises           7.6        9106  \n4                                  John Carter           6.1        2124  \n...                                        ...           ...         ...  \n4798                               El Mariachi           6.6         238  \n4799                                 Newlyweds           5.9           5  \n4800                 Signed, Sealed, Delivered           7.0           6  \n4801                          Shanghai Calling           5.7           7  \n4802                         My Date with Drew           6.3          16  \n\n[4803 rows x 20 columns]",
      "text/html": "<div>\n<style scoped>\n    .dataframe tbody tr th:only-of-type {\n        vertical-align: middle;\n    }\n\n    .dataframe tbody tr th {\n        vertical-align: top;\n    }\n\n    .dataframe thead th {\n        text-align: right;\n    }\n</style>\n<table border=\"1\" class=\"dataframe\">\n  <thead>\n    <tr style=\"text-align: right;\">\n      <th></th>\n      <th>budget</th>\n      <th>genres</th>\n      <th>homepage</th>\n      <th>id</th>\n      <th>keywords</th>\n      <th>original_language</th>\n      <th>original_title</th>\n      <th>overview</th>\n      <th>popularity</th>\n      <th>production_companies</th>\n      <th>production_countries</th>\n      <th>release_date</th>\n      <th>revenue</th>\n      <th>runtime</th>\n      <th>spoken_languages</th>\n      <th>status</th>\n      <th>tagline</th>\n      <th>title</th>\n      <th>vote_average</th>\n      <th>vote_count</th>\n    </tr>\n  </thead>\n  <tbody>\n    <tr>\n      <th>0</th>\n      <td>237000000</td>\n      <td>[{\"id\": 28, \"name\": \"Action\"}, {\"id\": 12, \"nam...</td>\n      <td>http://www.avatarmovie.com/</td>\n      <td>19995</td>\n      <td>[{\"id\": 1463, \"name\": \"culture clash\"}, {\"id\":...</td>\n      <td>en</td>\n      <td>Avatar</td>\n      <td>In the 22nd century, a paraplegic Marine is di...</td>\n      <td>150.437577</td>\n      <td>[{\"name\": \"Ingenious Film Partners\", \"id\": 289...</td>\n      <td>[{\"iso_3166_1\": \"US\", \"name\": \"United States o...</td>\n      <td>2009-12-10</td>\n      <td>2787965087</td>\n      <td>162.0</td>\n      <td>[{\"iso_639_1\": \"en\", \"name\": \"English\"}, {\"iso...</td>\n      <td>Released</td>\n      <td>Enter the World of Pandora.</td>\n      <td>Avatar</td>\n      <td>7.2</td>\n      <td>11800</td>\n    </tr>\n    <tr>\n      <th>1</th>\n      <td>300000000</td>\n      <td>[{\"id\": 12, \"name\": \"Adventure\"}, {\"id\": 14, \"...</td>\n      <td>http://disney.go.com/disneypictures/pirates/</td>\n      <td>285</td>\n      <td>[{\"id\": 270, \"name\": \"ocean\"}, {\"id\": 726, \"na...</td>\n      <td>en</td>\n      <td>Pirates of the Caribbean: At World's End</td>\n      <td>Captain Barbossa, long believed to be dead, ha...</td>\n      <td>139.082615</td>\n      <td>[{\"name\": \"Walt Disney Pictures\", \"id\": 2}, {\"...</td>\n      <td>[{\"iso_3166_1\": \"US\", \"name\": \"United States o...</td>\n      <td>2007-05-19</td>\n      <td>961000000</td>\n      <td>169.0</td>\n      <td>[{\"iso_639_1\": \"en\", \"name\": \"English\"}]</td>\n      <td>Released</td>\n      <td>At the end of the world, the adventure begins.</td>\n      <td>Pirates of the Caribbean: At World's End</td>\n      <td>6.9</td>\n      <td>4500</td>\n    </tr>\n    <tr>\n      <th>2</th>\n      <td>245000000</td>\n      <td>[{\"id\": 28, \"name\": \"Action\"}, {\"id\": 12, \"nam...</td>\n      <td>http://www.sonypictures.com/movies/spectre/</td>\n      <td>206647</td>\n      <td>[{\"id\": 470, \"name\": \"spy\"}, {\"id\": 818, \"name...</td>\n      <td>en</td>\n      <td>Spectre</td>\n      <td>A cryptic message from Bond’s past sends him o...</td>\n      <td>107.376788</td>\n      <td>[{\"name\": \"Columbia Pictures\", \"id\": 5}, {\"nam...</td>\n      <td>[{\"iso_3166_1\": \"GB\", \"name\": \"United Kingdom\"...</td>\n      <td>2015-10-26</td>\n      <td>880674609</td>\n      <td>148.0</td>\n      <td>[{\"iso_639_1\": \"fr\", \"name\": \"Fran\\u00e7ais\"},...</td>\n      <td>Released</td>\n      <td>A Plan No One Escapes</td>\n      <td>Spectre</td>\n      <td>6.3</td>\n      <td>4466</td>\n    </tr>\n    <tr>\n      <th>3</th>\n      <td>250000000</td>\n      <td>[{\"id\": 28, \"name\": \"Action\"}, {\"id\": 80, \"nam...</td>\n      <td>http://www.thedarkknightrises.com/</td>\n      <td>49026</td>\n      <td>[{\"id\": 849, \"name\": \"dc comics\"}, {\"id\": 853,...</td>\n      <td>en</td>\n      <td>The Dark Knight Rises</td>\n      <td>Following the death of District Attorney Harve...</td>\n      <td>112.312950</td>\n      <td>[{\"name\": \"Legendary Pictures\", \"id\": 923}, {\"...</td>\n      <td>[{\"iso_3166_1\": \"US\", \"name\": \"United States o...</td>\n      <td>2012-07-16</td>\n      <td>1084939099</td>\n      <td>165.0</td>\n      <td>[{\"iso_639_1\": \"en\", \"name\": \"English\"}]</td>\n      <td>Released</td>\n      <td>The Legend Ends</td>\n      <td>The Dark Knight Rises</td>\n      <td>7.6</td>\n      <td>9106</td>\n    </tr>\n    <tr>\n      <th>4</th>\n      <td>260000000</td>\n      <td>[{\"id\": 28, \"name\": \"Action\"}, {\"id\": 12, \"nam...</td>\n      <td>http://movies.disney.com/john-carter</td>\n      <td>49529</td>\n      <td>[{\"id\": 818, \"name\": \"based on novel\"}, {\"id\":...</td>\n      <td>en</td>\n      <td>John Carter</td>\n      <td>John Carter is a war-weary, former military ca...</td>\n      <td>43.926995</td>\n      <td>[{\"name\": \"Walt Disney Pictures\", \"id\": 2}]</td>\n      <td>[{\"iso_3166_1\": \"US\", \"name\": \"United States o...</td>\n      <td>2012-03-07</td>\n      <td>284139100</td>\n      <td>132.0</td>\n      <td>[{\"iso_639_1\": \"en\", \"name\": \"English\"}]</td>\n      <td>Released</td>\n      <td>Lost in our world, found in another.</td>\n      <td>John Carter</td>\n      <td>6.1</td>\n      <td>2124</td>\n    </tr>\n    <tr>\n      <th>...</th>\n      <td>...</td>\n      <td>...</td>\n      <td>...</td>\n      <td>...</td>\n      <td>...</td>\n      <td>...</td>\n      <td>...</td>\n      <td>...</td>\n      <td>...</td>\n      <td>...</td>\n      <td>...</td>\n      <td>...</td>\n      <td>...</td>\n      <td>...</td>\n      <td>...</td>\n      <td>...</td>\n      <td>...</td>\n      <td>...</td>\n      <td>...</td>\n      <td>...</td>\n    </tr>\n    <tr>\n      <th>4798</th>\n      <td>220000</td>\n      <td>[{\"id\": 28, \"name\": \"Action\"}, {\"id\": 80, \"nam...</td>\n      <td>NaN</td>\n      <td>9367</td>\n      <td>[{\"id\": 5616, \"name\": \"united states\\u2013mexi...</td>\n      <td>es</td>\n      <td>El Mariachi</td>\n      <td>El Mariachi just wants to play his guitar and ...</td>\n      <td>14.269792</td>\n      <td>[{\"name\": \"Columbia Pictures\", \"id\": 5}]</td>\n      <td>[{\"iso_3166_1\": \"MX\", \"name\": \"Mexico\"}, {\"iso...</td>\n      <td>1992-09-04</td>\n      <td>2040920</td>\n      <td>81.0</td>\n      <td>[{\"iso_639_1\": \"es\", \"name\": \"Espa\\u00f1ol\"}]</td>\n      <td>Released</td>\n      <td>He didn't come looking for trouble, but troubl...</td>\n      <td>El Mariachi</td>\n      <td>6.6</td>\n      <td>238</td>\n    </tr>\n    <tr>\n      <th>4799</th>\n      <td>9000</td>\n      <td>[{\"id\": 35, \"name\": \"Comedy\"}, {\"id\": 10749, \"...</td>\n      <td>NaN</td>\n      <td>72766</td>\n      <td>[]</td>\n      <td>en</td>\n      <td>Newlyweds</td>\n      <td>A newlywed couple's honeymoon is upended by th...</td>\n      <td>0.642552</td>\n      <td>[]</td>\n      <td>[]</td>\n      <td>2011-12-26</td>\n      <td>0</td>\n      <td>85.0</td>\n      <td>[]</td>\n      <td>Released</td>\n      <td>A newlywed couple's honeymoon is upended by th...</td>\n      <td>Newlyweds</td>\n      <td>5.9</td>\n      <td>5</td>\n    </tr>\n    <tr>\n      <th>4800</th>\n      <td>0</td>\n      <td>[{\"id\": 35, \"name\": \"Comedy\"}, {\"id\": 18, \"nam...</td>\n      <td>http://www.hallmarkchannel.com/signedsealeddel...</td>\n      <td>231617</td>\n      <td>[{\"id\": 248, \"name\": \"date\"}, {\"id\": 699, \"nam...</td>\n      <td>en</td>\n      <td>Signed, Sealed, Delivered</td>\n      <td>\"Signed, Sealed, Delivered\" introduces a dedic...</td>\n      <td>1.444476</td>\n      <td>[{\"name\": \"Front Street Pictures\", \"id\": 3958}...</td>\n      <td>[{\"iso_3166_1\": \"US\", \"name\": \"United States o...</td>\n      <td>2013-10-13</td>\n      <td>0</td>\n      <td>120.0</td>\n      <td>[{\"iso_639_1\": \"en\", \"name\": \"English\"}]</td>\n      <td>Released</td>\n      <td>NaN</td>\n      <td>Signed, Sealed, Delivered</td>\n      <td>7.0</td>\n      <td>6</td>\n    </tr>\n    <tr>\n      <th>4801</th>\n      <td>0</td>\n      <td>[]</td>\n      <td>http://shanghaicalling.com/</td>\n      <td>126186</td>\n      <td>[]</td>\n      <td>en</td>\n      <td>Shanghai Calling</td>\n      <td>When ambitious New York attorney Sam is sent t...</td>\n      <td>0.857008</td>\n      <td>[]</td>\n      <td>[{\"iso_3166_1\": \"US\", \"name\": \"United States o...</td>\n      <td>2012-05-03</td>\n      <td>0</td>\n      <td>98.0</td>\n      <td>[{\"iso_639_1\": \"en\", \"name\": \"English\"}]</td>\n      <td>Released</td>\n      <td>A New Yorker in Shanghai</td>\n      <td>Shanghai Calling</td>\n      <td>5.7</td>\n      <td>7</td>\n    </tr>\n    <tr>\n      <th>4802</th>\n      <td>0</td>\n      <td>[{\"id\": 99, \"name\": \"Documentary\"}]</td>\n      <td>NaN</td>\n      <td>25975</td>\n      <td>[{\"id\": 1523, \"name\": \"obsession\"}, {\"id\": 224...</td>\n      <td>en</td>\n      <td>My Date with Drew</td>\n      <td>Ever since the second grade when he first saw ...</td>\n      <td>1.929883</td>\n      <td>[{\"name\": \"rusty bear entertainment\", \"id\": 87...</td>\n      <td>[{\"iso_3166_1\": \"US\", \"name\": \"United States o...</td>\n      <td>2005-08-05</td>\n      <td>0</td>\n      <td>90.0</td>\n      <td>[{\"iso_639_1\": \"en\", \"name\": \"English\"}]</td>\n      <td>Released</td>\n      <td>NaN</td>\n      <td>My Date with Drew</td>\n      <td>6.3</td>\n      <td>16</td>\n    </tr>\n  </tbody>\n</table>\n<p>4803 rows × 20 columns</p>\n</div>"
     },
     "execution_count": 3,
     "metadata": {},
     "output_type": "execute_result"
    }
   ],
   "source": [
    "movies"
   ]
  },
  {
   "cell_type": "code",
   "execution_count": 4,
   "metadata": {
    "ExecuteTime": {
     "end_time": "2024-02-22T12:10:10.763499300Z",
     "start_time": "2024-02-22T12:10:10.579009400Z"
    }
   },
   "outputs": [],
   "source": [
    "data = movies.merge(credits, how='inner', left_on='id', right_on='movie_id')"
   ]
  },
  {
   "cell_type": "code",
   "execution_count": 5,
   "metadata": {
    "ExecuteTime": {
     "end_time": "2024-02-22T12:10:10.846279Z",
     "start_time": "2024-02-22T12:10:10.609910900Z"
    }
   },
   "outputs": [
    {
     "data": {
      "text/plain": "      budget                                             genres  \\\n0  237000000  [{\"id\": 28, \"name\": \"Action\"}, {\"id\": 12, \"nam...   \n\n                      homepage     id  \\\n0  http://www.avatarmovie.com/  19995   \n\n                                            keywords original_language  \\\n0  [{\"id\": 1463, \"name\": \"culture clash\"}, {\"id\":...                en   \n\n  original_title                                           overview  \\\n0         Avatar  In the 22nd century, a paraplegic Marine is di...   \n\n   popularity                               production_companies  ...  \\\n0  150.437577  [{\"name\": \"Ingenious Film Partners\", \"id\": 289...  ...   \n\n                                    spoken_languages    status  \\\n0  [{\"iso_639_1\": \"en\", \"name\": \"English\"}, {\"iso...  Released   \n\n                       tagline  title_x vote_average vote_count movie_id  \\\n0  Enter the World of Pandora.   Avatar          7.2      11800    19995   \n\n  title_y                                               cast  \\\n0  Avatar  [{\"cast_id\": 242, \"character\": \"Jake Sully\", \"...   \n\n                                                crew  \n0  [{\"credit_id\": \"52fe48009251416c750aca23\", \"de...  \n\n[1 rows x 24 columns]",
      "text/html": "<div>\n<style scoped>\n    .dataframe tbody tr th:only-of-type {\n        vertical-align: middle;\n    }\n\n    .dataframe tbody tr th {\n        vertical-align: top;\n    }\n\n    .dataframe thead th {\n        text-align: right;\n    }\n</style>\n<table border=\"1\" class=\"dataframe\">\n  <thead>\n    <tr style=\"text-align: right;\">\n      <th></th>\n      <th>budget</th>\n      <th>genres</th>\n      <th>homepage</th>\n      <th>id</th>\n      <th>keywords</th>\n      <th>original_language</th>\n      <th>original_title</th>\n      <th>overview</th>\n      <th>popularity</th>\n      <th>production_companies</th>\n      <th>...</th>\n      <th>spoken_languages</th>\n      <th>status</th>\n      <th>tagline</th>\n      <th>title_x</th>\n      <th>vote_average</th>\n      <th>vote_count</th>\n      <th>movie_id</th>\n      <th>title_y</th>\n      <th>cast</th>\n      <th>crew</th>\n    </tr>\n  </thead>\n  <tbody>\n    <tr>\n      <th>0</th>\n      <td>237000000</td>\n      <td>[{\"id\": 28, \"name\": \"Action\"}, {\"id\": 12, \"nam...</td>\n      <td>http://www.avatarmovie.com/</td>\n      <td>19995</td>\n      <td>[{\"id\": 1463, \"name\": \"culture clash\"}, {\"id\":...</td>\n      <td>en</td>\n      <td>Avatar</td>\n      <td>In the 22nd century, a paraplegic Marine is di...</td>\n      <td>150.437577</td>\n      <td>[{\"name\": \"Ingenious Film Partners\", \"id\": 289...</td>\n      <td>...</td>\n      <td>[{\"iso_639_1\": \"en\", \"name\": \"English\"}, {\"iso...</td>\n      <td>Released</td>\n      <td>Enter the World of Pandora.</td>\n      <td>Avatar</td>\n      <td>7.2</td>\n      <td>11800</td>\n      <td>19995</td>\n      <td>Avatar</td>\n      <td>[{\"cast_id\": 242, \"character\": \"Jake Sully\", \"...</td>\n      <td>[{\"credit_id\": \"52fe48009251416c750aca23\", \"de...</td>\n    </tr>\n  </tbody>\n</table>\n<p>1 rows × 24 columns</p>\n</div>"
     },
     "execution_count": 5,
     "metadata": {},
     "output_type": "execute_result"
    }
   ],
   "source": [
    "data.head(1)"
   ]
  },
  {
   "cell_type": "code",
   "execution_count": 6,
   "metadata": {
    "ExecuteTime": {
     "end_time": "2024-02-22T12:10:10.864230900Z",
     "start_time": "2024-02-22T12:10:10.656785400Z"
    }
   },
   "outputs": [
    {
     "data": {
      "text/plain": "original_language\nen    4505\nfr      70\nes      32\nzh      27\nde      27\nhi      19\nja      16\nit      14\ncn      12\nru      11\nko      11\npt       9\nda       7\nsv       5\nnl       4\nfa       4\nth       3\nhe       3\nta       2\ncs       2\nro       2\nid       2\nar       2\nvi       1\nsl       1\nps       1\nno       1\nky       1\nhu       1\npl       1\naf       1\nnb       1\ntr       1\nis       1\nxx       1\nte       1\nel       1\nName: count, dtype: int64"
     },
     "execution_count": 6,
     "metadata": {},
     "output_type": "execute_result"
    }
   ],
   "source": [
    "data['original_language'].value_counts()"
   ]
  },
  {
   "cell_type": "code",
   "execution_count": 7,
   "metadata": {
    "ExecuteTime": {
     "end_time": "2024-02-22T12:10:10.924069700Z",
     "start_time": "2024-02-22T12:10:10.692693300Z"
    }
   },
   "outputs": [
    {
     "data": {
      "text/plain": "Index(['budget', 'genres', 'homepage', 'id', 'keywords', 'original_language',\n       'original_title', 'overview', 'popularity', 'production_companies',\n       'production_countries', 'release_date', 'revenue', 'runtime',\n       'spoken_languages', 'status', 'tagline', 'title_x', 'vote_average',\n       'vote_count', 'movie_id', 'title_y', 'cast', 'crew'],\n      dtype='object')"
     },
     "execution_count": 7,
     "metadata": {},
     "output_type": "execute_result"
    }
   ],
   "source": [
    "data.columns"
   ]
  },
  {
   "cell_type": "markdown",
   "source": [
    "# wykres z popularnymi \n",
    "# wykres z original language \n"
   ],
   "metadata": {
    "collapsed": false
   }
  },
  {
   "cell_type": "code",
   "execution_count": 8,
   "metadata": {
    "ExecuteTime": {
     "end_time": "2024-02-22T12:10:11.059710900Z",
     "start_time": "2024-02-22T12:10:10.745547600Z"
    }
   },
   "outputs": [],
   "source": [
    "data = data[['movie_id', 'title_x', 'overview', 'genres', 'keywords', 'cast', 'crew']]\n"
   ]
  },
  {
   "cell_type": "code",
   "execution_count": 9,
   "metadata": {
    "ExecuteTime": {
     "end_time": "2024-02-22T12:10:11.099602700Z",
     "start_time": "2024-02-22T12:10:10.797408200Z"
    }
   },
   "outputs": [],
   "source": [
    "data = data.rename(columns={'title_x': 'title'})"
   ]
  },
  {
   "cell_type": "code",
   "execution_count": 10,
   "metadata": {
    "ExecuteTime": {
     "end_time": "2024-02-22T12:10:11.156451300Z",
     "start_time": "2024-02-22T12:10:10.846279Z"
    }
   },
   "outputs": [
    {
     "data": {
      "text/plain": "   movie_id                                     title  \\\n0     19995                                    Avatar   \n1       285  Pirates of the Caribbean: At World's End   \n\n                                            overview  \\\n0  In the 22nd century, a paraplegic Marine is di...   \n1  Captain Barbossa, long believed to be dead, ha...   \n\n                                              genres  \\\n0  [{\"id\": 28, \"name\": \"Action\"}, {\"id\": 12, \"nam...   \n1  [{\"id\": 12, \"name\": \"Adventure\"}, {\"id\": 14, \"...   \n\n                                            keywords  \\\n0  [{\"id\": 1463, \"name\": \"culture clash\"}, {\"id\":...   \n1  [{\"id\": 270, \"name\": \"ocean\"}, {\"id\": 726, \"na...   \n\n                                                cast  \\\n0  [{\"cast_id\": 242, \"character\": \"Jake Sully\", \"...   \n1  [{\"cast_id\": 4, \"character\": \"Captain Jack Spa...   \n\n                                                crew  \n0  [{\"credit_id\": \"52fe48009251416c750aca23\", \"de...  \n1  [{\"credit_id\": \"52fe4232c3a36847f800b579\", \"de...  ",
      "text/html": "<div>\n<style scoped>\n    .dataframe tbody tr th:only-of-type {\n        vertical-align: middle;\n    }\n\n    .dataframe tbody tr th {\n        vertical-align: top;\n    }\n\n    .dataframe thead th {\n        text-align: right;\n    }\n</style>\n<table border=\"1\" class=\"dataframe\">\n  <thead>\n    <tr style=\"text-align: right;\">\n      <th></th>\n      <th>movie_id</th>\n      <th>title</th>\n      <th>overview</th>\n      <th>genres</th>\n      <th>keywords</th>\n      <th>cast</th>\n      <th>crew</th>\n    </tr>\n  </thead>\n  <tbody>\n    <tr>\n      <th>0</th>\n      <td>19995</td>\n      <td>Avatar</td>\n      <td>In the 22nd century, a paraplegic Marine is di...</td>\n      <td>[{\"id\": 28, \"name\": \"Action\"}, {\"id\": 12, \"nam...</td>\n      <td>[{\"id\": 1463, \"name\": \"culture clash\"}, {\"id\":...</td>\n      <td>[{\"cast_id\": 242, \"character\": \"Jake Sully\", \"...</td>\n      <td>[{\"credit_id\": \"52fe48009251416c750aca23\", \"de...</td>\n    </tr>\n    <tr>\n      <th>1</th>\n      <td>285</td>\n      <td>Pirates of the Caribbean: At World's End</td>\n      <td>Captain Barbossa, long believed to be dead, ha...</td>\n      <td>[{\"id\": 12, \"name\": \"Adventure\"}, {\"id\": 14, \"...</td>\n      <td>[{\"id\": 270, \"name\": \"ocean\"}, {\"id\": 726, \"na...</td>\n      <td>[{\"cast_id\": 4, \"character\": \"Captain Jack Spa...</td>\n      <td>[{\"credit_id\": \"52fe4232c3a36847f800b579\", \"de...</td>\n    </tr>\n  </tbody>\n</table>\n</div>"
     },
     "execution_count": 10,
     "metadata": {},
     "output_type": "execute_result"
    }
   ],
   "source": [
    "data.head(2)"
   ]
  },
  {
   "cell_type": "code",
   "execution_count": 11,
   "metadata": {
    "ExecuteTime": {
     "end_time": "2024-02-22T12:10:11.194346400Z",
     "start_time": "2024-02-22T12:10:10.895147800Z"
    }
   },
   "outputs": [
    {
     "data": {
      "text/plain": "movie_id    0\ntitle       0\noverview    3\ngenres      0\nkeywords    0\ncast        0\ncrew        0\ndtype: int64"
     },
     "execution_count": 11,
     "metadata": {},
     "output_type": "execute_result"
    }
   ],
   "source": [
    "data.isnull().sum()"
   ]
  },
  {
   "cell_type": "code",
   "execution_count": 12,
   "metadata": {
    "ExecuteTime": {
     "end_time": "2024-02-22T12:10:11.220278Z",
     "start_time": "2024-02-22T12:10:10.938033Z"
    }
   },
   "outputs": [],
   "source": [
    "#data.dropna(inplace=True) # usuwa wszystkie wiersza gdzie jest null "
   ]
  },
  {
   "cell_type": "code",
   "execution_count": 13,
   "metadata": {
    "ExecuteTime": {
     "end_time": "2024-02-22T12:10:11.338961200Z",
     "start_time": "2024-02-22T12:10:10.965958500Z"
    }
   },
   "outputs": [],
   "source": [
    "data['overview'] = data['overview'].fillna('')\n"
   ]
  },
  {
   "cell_type": "code",
   "execution_count": 14,
   "metadata": {
    "ExecuteTime": {
     "end_time": "2024-02-22T12:10:11.341952Z",
     "start_time": "2024-02-22T12:10:11.012833900Z"
    }
   },
   "outputs": [
    {
     "data": {
      "text/plain": "'[{\"id\": 28, \"name\": \"Action\"}, {\"id\": 12, \"name\": \"Adventure\"}, {\"id\": 14, \"name\": \"Fantasy\"}, {\"id\": 878, \"name\": \"Science Fiction\"}]'"
     },
     "execution_count": 14,
     "metadata": {},
     "output_type": "execute_result"
    }
   ],
   "source": [
    "data.iloc[0].genres"
   ]
  },
  {
   "cell_type": "code",
   "execution_count": 47,
   "metadata": {
    "ExecuteTime": {
     "end_time": "2024-02-22T20:59:53.127614200Z",
     "start_time": "2024-02-22T20:59:52.865319Z"
    }
   },
   "outputs": [
    {
     "name": "stdout",
     "output_type": "stream",
     "text": [
      "[{'id': 28, 'name': 'Action'}, {'id': 12, 'name': 'Adventure'}, {'id': 14, 'name': 'Fantasy'}, {'id': 878, 'name': 'Science Fiction'}]\n"
     ]
    }
   ],
   "source": [
    "import ast\n",
    "#zamiana stringa w liste\n",
    "print(ast.literal_eval('[{\"id\": 28, \"name\": \"Action\"}, {\"id\": 12, \"name\": \"Adventure\"}, {\"id\": 14, \"name\": \"Fantasy\"}, {\"id\": 878, \"name\": \"Science Fiction\"}]'))\n",
    "def convert(text):\n",
    "    l = []\n",
    "    for i in ast.literal_eval(text):\n",
    "        l.append(i['name'])\n",
    "    return l "
   ]
  },
  {
   "cell_type": "markdown",
   "metadata": {},
   "source": [
    "Funkcja apply() w Pythonie jest używana do stosowania funkcji do elementów DataFrame lub serii w bibliotece pandas. Może być również używana do stosowania funkcji do elementów innych obiektów, takich jak listy."
   ]
  },
  {
   "cell_type": "code",
   "execution_count": 16,
   "metadata": {
    "ExecuteTime": {
     "end_time": "2024-02-22T12:10:13.532098900Z",
     "start_time": "2024-02-22T12:10:11.094614700Z"
    }
   },
   "outputs": [],
   "source": [
    "data['genres'] = data['genres'].apply(convert)\n",
    "data['keywords'] = data['keywords'].apply(convert)"
   ]
  },
  {
   "cell_type": "code",
   "execution_count": 17,
   "metadata": {
    "ExecuteTime": {
     "end_time": "2024-02-22T12:10:13.613881Z",
     "start_time": "2024-02-22T12:10:13.537086500Z"
    }
   },
   "outputs": [
    {
     "data": {
      "text/plain": "      movie_id                                     title  \\\n0        19995                                    Avatar   \n1          285  Pirates of the Caribbean: At World's End   \n2       206647                                   Spectre   \n3        49026                     The Dark Knight Rises   \n4        49529                               John Carter   \n...        ...                                       ...   \n4798      9367                               El Mariachi   \n4799     72766                                 Newlyweds   \n4800    231617                 Signed, Sealed, Delivered   \n4801    126186                          Shanghai Calling   \n4802     25975                         My Date with Drew   \n\n                                               overview  \\\n0     In the 22nd century, a paraplegic Marine is di...   \n1     Captain Barbossa, long believed to be dead, ha...   \n2     A cryptic message from Bond’s past sends him o...   \n3     Following the death of District Attorney Harve...   \n4     John Carter is a war-weary, former military ca...   \n...                                                 ...   \n4798  El Mariachi just wants to play his guitar and ...   \n4799  A newlywed couple's honeymoon is upended by th...   \n4800  \"Signed, Sealed, Delivered\" introduces a dedic...   \n4801  When ambitious New York attorney Sam is sent t...   \n4802  Ever since the second grade when he first saw ...   \n\n                                             genres  \\\n0     [Action, Adventure, Fantasy, Science Fiction]   \n1                      [Adventure, Fantasy, Action]   \n2                        [Action, Adventure, Crime]   \n3                  [Action, Crime, Drama, Thriller]   \n4              [Action, Adventure, Science Fiction]   \n...                                             ...   \n4798                      [Action, Crime, Thriller]   \n4799                              [Comedy, Romance]   \n4800             [Comedy, Drama, Romance, TV Movie]   \n4801                                             []   \n4802                                  [Documentary]   \n\n                                               keywords  \\\n0     [culture clash, future, space war, space colon...   \n1     [ocean, drug abuse, exotic island, east india ...   \n2     [spy, based on novel, secret agent, sequel, mi...   \n3     [dc comics, crime fighter, terrorist, secret i...   \n4     [based on novel, mars, medallion, space travel...   \n...                                                 ...   \n4798  [united states–mexico barrier, legs, arms, pap...   \n4799                                                 []   \n4800  [date, love at first sight, narration, investi...   \n4801                                                 []   \n4802          [obsession, camcorder, crush, dream girl]   \n\n                                                   cast  \\\n0     [{\"cast_id\": 242, \"character\": \"Jake Sully\", \"...   \n1     [{\"cast_id\": 4, \"character\": \"Captain Jack Spa...   \n2     [{\"cast_id\": 1, \"character\": \"James Bond\", \"cr...   \n3     [{\"cast_id\": 2, \"character\": \"Bruce Wayne / Ba...   \n4     [{\"cast_id\": 5, \"character\": \"John Carter\", \"c...   \n...                                                 ...   \n4798  [{\"cast_id\": 1, \"character\": \"El Mariachi\", \"c...   \n4799  [{\"cast_id\": 1, \"character\": \"Buzzy\", \"credit_...   \n4800  [{\"cast_id\": 8, \"character\": \"Oliver O\\u2019To...   \n4801  [{\"cast_id\": 3, \"character\": \"Sam\", \"credit_id...   \n4802  [{\"cast_id\": 3, \"character\": \"Herself\", \"credi...   \n\n                                                   crew  \n0     [{\"credit_id\": \"52fe48009251416c750aca23\", \"de...  \n1     [{\"credit_id\": \"52fe4232c3a36847f800b579\", \"de...  \n2     [{\"credit_id\": \"54805967c3a36829b5002c41\", \"de...  \n3     [{\"credit_id\": \"52fe4781c3a36847f81398c3\", \"de...  \n4     [{\"credit_id\": \"52fe479ac3a36847f813eaa3\", \"de...  \n...                                                 ...  \n4798  [{\"credit_id\": \"52fe44eec3a36847f80b280b\", \"de...  \n4799  [{\"credit_id\": \"52fe487dc3a368484e0fb013\", \"de...  \n4800  [{\"credit_id\": \"52fe4df3c3a36847f8275ecf\", \"de...  \n4801  [{\"credit_id\": \"52fe4ad9c3a368484e16a36b\", \"de...  \n4802  [{\"credit_id\": \"58ce021b9251415a390165d9\", \"de...  \n\n[4803 rows x 7 columns]",
      "text/html": "<div>\n<style scoped>\n    .dataframe tbody tr th:only-of-type {\n        vertical-align: middle;\n    }\n\n    .dataframe tbody tr th {\n        vertical-align: top;\n    }\n\n    .dataframe thead th {\n        text-align: right;\n    }\n</style>\n<table border=\"1\" class=\"dataframe\">\n  <thead>\n    <tr style=\"text-align: right;\">\n      <th></th>\n      <th>movie_id</th>\n      <th>title</th>\n      <th>overview</th>\n      <th>genres</th>\n      <th>keywords</th>\n      <th>cast</th>\n      <th>crew</th>\n    </tr>\n  </thead>\n  <tbody>\n    <tr>\n      <th>0</th>\n      <td>19995</td>\n      <td>Avatar</td>\n      <td>In the 22nd century, a paraplegic Marine is di...</td>\n      <td>[Action, Adventure, Fantasy, Science Fiction]</td>\n      <td>[culture clash, future, space war, space colon...</td>\n      <td>[{\"cast_id\": 242, \"character\": \"Jake Sully\", \"...</td>\n      <td>[{\"credit_id\": \"52fe48009251416c750aca23\", \"de...</td>\n    </tr>\n    <tr>\n      <th>1</th>\n      <td>285</td>\n      <td>Pirates of the Caribbean: At World's End</td>\n      <td>Captain Barbossa, long believed to be dead, ha...</td>\n      <td>[Adventure, Fantasy, Action]</td>\n      <td>[ocean, drug abuse, exotic island, east india ...</td>\n      <td>[{\"cast_id\": 4, \"character\": \"Captain Jack Spa...</td>\n      <td>[{\"credit_id\": \"52fe4232c3a36847f800b579\", \"de...</td>\n    </tr>\n    <tr>\n      <th>2</th>\n      <td>206647</td>\n      <td>Spectre</td>\n      <td>A cryptic message from Bond’s past sends him o...</td>\n      <td>[Action, Adventure, Crime]</td>\n      <td>[spy, based on novel, secret agent, sequel, mi...</td>\n      <td>[{\"cast_id\": 1, \"character\": \"James Bond\", \"cr...</td>\n      <td>[{\"credit_id\": \"54805967c3a36829b5002c41\", \"de...</td>\n    </tr>\n    <tr>\n      <th>3</th>\n      <td>49026</td>\n      <td>The Dark Knight Rises</td>\n      <td>Following the death of District Attorney Harve...</td>\n      <td>[Action, Crime, Drama, Thriller]</td>\n      <td>[dc comics, crime fighter, terrorist, secret i...</td>\n      <td>[{\"cast_id\": 2, \"character\": \"Bruce Wayne / Ba...</td>\n      <td>[{\"credit_id\": \"52fe4781c3a36847f81398c3\", \"de...</td>\n    </tr>\n    <tr>\n      <th>4</th>\n      <td>49529</td>\n      <td>John Carter</td>\n      <td>John Carter is a war-weary, former military ca...</td>\n      <td>[Action, Adventure, Science Fiction]</td>\n      <td>[based on novel, mars, medallion, space travel...</td>\n      <td>[{\"cast_id\": 5, \"character\": \"John Carter\", \"c...</td>\n      <td>[{\"credit_id\": \"52fe479ac3a36847f813eaa3\", \"de...</td>\n    </tr>\n    <tr>\n      <th>...</th>\n      <td>...</td>\n      <td>...</td>\n      <td>...</td>\n      <td>...</td>\n      <td>...</td>\n      <td>...</td>\n      <td>...</td>\n    </tr>\n    <tr>\n      <th>4798</th>\n      <td>9367</td>\n      <td>El Mariachi</td>\n      <td>El Mariachi just wants to play his guitar and ...</td>\n      <td>[Action, Crime, Thriller]</td>\n      <td>[united states–mexico barrier, legs, arms, pap...</td>\n      <td>[{\"cast_id\": 1, \"character\": \"El Mariachi\", \"c...</td>\n      <td>[{\"credit_id\": \"52fe44eec3a36847f80b280b\", \"de...</td>\n    </tr>\n    <tr>\n      <th>4799</th>\n      <td>72766</td>\n      <td>Newlyweds</td>\n      <td>A newlywed couple's honeymoon is upended by th...</td>\n      <td>[Comedy, Romance]</td>\n      <td>[]</td>\n      <td>[{\"cast_id\": 1, \"character\": \"Buzzy\", \"credit_...</td>\n      <td>[{\"credit_id\": \"52fe487dc3a368484e0fb013\", \"de...</td>\n    </tr>\n    <tr>\n      <th>4800</th>\n      <td>231617</td>\n      <td>Signed, Sealed, Delivered</td>\n      <td>\"Signed, Sealed, Delivered\" introduces a dedic...</td>\n      <td>[Comedy, Drama, Romance, TV Movie]</td>\n      <td>[date, love at first sight, narration, investi...</td>\n      <td>[{\"cast_id\": 8, \"character\": \"Oliver O\\u2019To...</td>\n      <td>[{\"credit_id\": \"52fe4df3c3a36847f8275ecf\", \"de...</td>\n    </tr>\n    <tr>\n      <th>4801</th>\n      <td>126186</td>\n      <td>Shanghai Calling</td>\n      <td>When ambitious New York attorney Sam is sent t...</td>\n      <td>[]</td>\n      <td>[]</td>\n      <td>[{\"cast_id\": 3, \"character\": \"Sam\", \"credit_id...</td>\n      <td>[{\"credit_id\": \"52fe4ad9c3a368484e16a36b\", \"de...</td>\n    </tr>\n    <tr>\n      <th>4802</th>\n      <td>25975</td>\n      <td>My Date with Drew</td>\n      <td>Ever since the second grade when he first saw ...</td>\n      <td>[Documentary]</td>\n      <td>[obsession, camcorder, crush, dream girl]</td>\n      <td>[{\"cast_id\": 3, \"character\": \"Herself\", \"credi...</td>\n      <td>[{\"credit_id\": \"58ce021b9251415a390165d9\", \"de...</td>\n    </tr>\n  </tbody>\n</table>\n<p>4803 rows × 7 columns</p>\n</div>"
     },
     "execution_count": 17,
     "metadata": {},
     "output_type": "execute_result"
    }
   ],
   "source": [
    "data"
   ]
  },
  {
   "cell_type": "code",
   "outputs": [
    {
     "data": {
      "text/plain": "Index(['movie_id', 'title', 'overview', 'genres', 'keywords', 'cast',\n       'director', 'tags'],\n      dtype='object')"
     },
     "execution_count": 48,
     "metadata": {},
     "output_type": "execute_result"
    }
   ],
   "source": [
    "data.columns"
   ],
   "metadata": {
    "collapsed": false,
    "ExecuteTime": {
     "end_time": "2024-02-22T21:00:47.787266800Z",
     "start_time": "2024-02-22T21:00:47.724434600Z"
    }
   },
   "execution_count": 48
  },
  {
   "cell_type": "code",
   "execution_count": 18,
   "metadata": {
    "ExecuteTime": {
     "end_time": "2024-02-22T12:10:18.552678200Z",
     "start_time": "2024-02-22T12:10:13.614878400Z"
    }
   },
   "outputs": [],
   "source": [
    "data['cast'] = data['cast'].apply(convert)"
   ]
  },
  {
   "cell_type": "code",
   "execution_count": 19,
   "metadata": {
    "ExecuteTime": {
     "end_time": "2024-02-22T12:10:18.570630600Z",
     "start_time": "2024-02-22T12:10:18.560668400Z"
    }
   },
   "outputs": [],
   "source": [
    "def director(text):\n",
    "    l = []\n",
    "    for i in ast.literal_eval(text):\n",
    "        if i['job'] == 'Director':\n",
    "            l.append(i['name'])\n",
    "            break \n",
    "    return l\n"
   ]
  },
  {
   "cell_type": "code",
   "execution_count": 20,
   "metadata": {
    "ExecuteTime": {
     "end_time": "2024-02-22T12:10:22.827254100Z",
     "start_time": "2024-02-22T12:10:18.572625600Z"
    }
   },
   "outputs": [],
   "source": [
    "data['crew'] = data['crew'].apply(director)"
   ]
  },
  {
   "cell_type": "code",
   "execution_count": 21,
   "metadata": {
    "ExecuteTime": {
     "end_time": "2024-02-22T12:10:22.843211Z",
     "start_time": "2024-02-22T12:10:22.833236700Z"
    }
   },
   "outputs": [],
   "source": [
    "data.rename(columns={'crew': 'director'}, inplace=True)"
   ]
  },
  {
   "cell_type": "code",
   "execution_count": 22,
   "metadata": {
    "ExecuteTime": {
     "end_time": "2024-02-22T12:10:22.894109Z",
     "start_time": "2024-02-22T12:10:22.847200300Z"
    }
   },
   "outputs": [
    {
     "data": {
      "text/plain": "      movie_id                                     title  \\\n0        19995                                    Avatar   \n1          285  Pirates of the Caribbean: At World's End   \n2       206647                                   Spectre   \n3        49026                     The Dark Knight Rises   \n4        49529                               John Carter   \n...        ...                                       ...   \n4798      9367                               El Mariachi   \n4799     72766                                 Newlyweds   \n4800    231617                 Signed, Sealed, Delivered   \n4801    126186                          Shanghai Calling   \n4802     25975                         My Date with Drew   \n\n                                               overview  \\\n0     In the 22nd century, a paraplegic Marine is di...   \n1     Captain Barbossa, long believed to be dead, ha...   \n2     A cryptic message from Bond’s past sends him o...   \n3     Following the death of District Attorney Harve...   \n4     John Carter is a war-weary, former military ca...   \n...                                                 ...   \n4798  El Mariachi just wants to play his guitar and ...   \n4799  A newlywed couple's honeymoon is upended by th...   \n4800  \"Signed, Sealed, Delivered\" introduces a dedic...   \n4801  When ambitious New York attorney Sam is sent t...   \n4802  Ever since the second grade when he first saw ...   \n\n                                             genres  \\\n0     [Action, Adventure, Fantasy, Science Fiction]   \n1                      [Adventure, Fantasy, Action]   \n2                        [Action, Adventure, Crime]   \n3                  [Action, Crime, Drama, Thriller]   \n4              [Action, Adventure, Science Fiction]   \n...                                             ...   \n4798                      [Action, Crime, Thriller]   \n4799                              [Comedy, Romance]   \n4800             [Comedy, Drama, Romance, TV Movie]   \n4801                                             []   \n4802                                  [Documentary]   \n\n                                               keywords  \\\n0     [culture clash, future, space war, space colon...   \n1     [ocean, drug abuse, exotic island, east india ...   \n2     [spy, based on novel, secret agent, sequel, mi...   \n3     [dc comics, crime fighter, terrorist, secret i...   \n4     [based on novel, mars, medallion, space travel...   \n...                                                 ...   \n4798  [united states–mexico barrier, legs, arms, pap...   \n4799                                                 []   \n4800  [date, love at first sight, narration, investi...   \n4801                                                 []   \n4802          [obsession, camcorder, crush, dream girl]   \n\n                                                   cast             director  \n0     [Sam Worthington, Zoe Saldana, Sigourney Weave...      [James Cameron]  \n1     [Johnny Depp, Orlando Bloom, Keira Knightley, ...     [Gore Verbinski]  \n2     [Daniel Craig, Christoph Waltz, Léa Seydoux, R...         [Sam Mendes]  \n3     [Christian Bale, Michael Caine, Gary Oldman, A...  [Christopher Nolan]  \n4     [Taylor Kitsch, Lynn Collins, Samantha Morton,...     [Andrew Stanton]  \n...                                                 ...                  ...  \n4798  [Carlos Gallardo, Jaime de Hoyos, Peter Marqua...   [Robert Rodriguez]  \n4799  [Edward Burns, Kerry Bishé, Marsha Dietlein, C...       [Edward Burns]  \n4800  [Eric Mabius, Kristin Booth, Crystal Lowe, Geo...        [Scott Smith]  \n4801  [Daniel Henney, Eliza Coupe, Bill Paxton, Alan...        [Daniel Hsia]  \n4802  [Drew Barrymore, Brian Herzlinger, Corey Feldm...   [Brian Herzlinger]  \n\n[4803 rows x 7 columns]",
      "text/html": "<div>\n<style scoped>\n    .dataframe tbody tr th:only-of-type {\n        vertical-align: middle;\n    }\n\n    .dataframe tbody tr th {\n        vertical-align: top;\n    }\n\n    .dataframe thead th {\n        text-align: right;\n    }\n</style>\n<table border=\"1\" class=\"dataframe\">\n  <thead>\n    <tr style=\"text-align: right;\">\n      <th></th>\n      <th>movie_id</th>\n      <th>title</th>\n      <th>overview</th>\n      <th>genres</th>\n      <th>keywords</th>\n      <th>cast</th>\n      <th>director</th>\n    </tr>\n  </thead>\n  <tbody>\n    <tr>\n      <th>0</th>\n      <td>19995</td>\n      <td>Avatar</td>\n      <td>In the 22nd century, a paraplegic Marine is di...</td>\n      <td>[Action, Adventure, Fantasy, Science Fiction]</td>\n      <td>[culture clash, future, space war, space colon...</td>\n      <td>[Sam Worthington, Zoe Saldana, Sigourney Weave...</td>\n      <td>[James Cameron]</td>\n    </tr>\n    <tr>\n      <th>1</th>\n      <td>285</td>\n      <td>Pirates of the Caribbean: At World's End</td>\n      <td>Captain Barbossa, long believed to be dead, ha...</td>\n      <td>[Adventure, Fantasy, Action]</td>\n      <td>[ocean, drug abuse, exotic island, east india ...</td>\n      <td>[Johnny Depp, Orlando Bloom, Keira Knightley, ...</td>\n      <td>[Gore Verbinski]</td>\n    </tr>\n    <tr>\n      <th>2</th>\n      <td>206647</td>\n      <td>Spectre</td>\n      <td>A cryptic message from Bond’s past sends him o...</td>\n      <td>[Action, Adventure, Crime]</td>\n      <td>[spy, based on novel, secret agent, sequel, mi...</td>\n      <td>[Daniel Craig, Christoph Waltz, Léa Seydoux, R...</td>\n      <td>[Sam Mendes]</td>\n    </tr>\n    <tr>\n      <th>3</th>\n      <td>49026</td>\n      <td>The Dark Knight Rises</td>\n      <td>Following the death of District Attorney Harve...</td>\n      <td>[Action, Crime, Drama, Thriller]</td>\n      <td>[dc comics, crime fighter, terrorist, secret i...</td>\n      <td>[Christian Bale, Michael Caine, Gary Oldman, A...</td>\n      <td>[Christopher Nolan]</td>\n    </tr>\n    <tr>\n      <th>4</th>\n      <td>49529</td>\n      <td>John Carter</td>\n      <td>John Carter is a war-weary, former military ca...</td>\n      <td>[Action, Adventure, Science Fiction]</td>\n      <td>[based on novel, mars, medallion, space travel...</td>\n      <td>[Taylor Kitsch, Lynn Collins, Samantha Morton,...</td>\n      <td>[Andrew Stanton]</td>\n    </tr>\n    <tr>\n      <th>...</th>\n      <td>...</td>\n      <td>...</td>\n      <td>...</td>\n      <td>...</td>\n      <td>...</td>\n      <td>...</td>\n      <td>...</td>\n    </tr>\n    <tr>\n      <th>4798</th>\n      <td>9367</td>\n      <td>El Mariachi</td>\n      <td>El Mariachi just wants to play his guitar and ...</td>\n      <td>[Action, Crime, Thriller]</td>\n      <td>[united states–mexico barrier, legs, arms, pap...</td>\n      <td>[Carlos Gallardo, Jaime de Hoyos, Peter Marqua...</td>\n      <td>[Robert Rodriguez]</td>\n    </tr>\n    <tr>\n      <th>4799</th>\n      <td>72766</td>\n      <td>Newlyweds</td>\n      <td>A newlywed couple's honeymoon is upended by th...</td>\n      <td>[Comedy, Romance]</td>\n      <td>[]</td>\n      <td>[Edward Burns, Kerry Bishé, Marsha Dietlein, C...</td>\n      <td>[Edward Burns]</td>\n    </tr>\n    <tr>\n      <th>4800</th>\n      <td>231617</td>\n      <td>Signed, Sealed, Delivered</td>\n      <td>\"Signed, Sealed, Delivered\" introduces a dedic...</td>\n      <td>[Comedy, Drama, Romance, TV Movie]</td>\n      <td>[date, love at first sight, narration, investi...</td>\n      <td>[Eric Mabius, Kristin Booth, Crystal Lowe, Geo...</td>\n      <td>[Scott Smith]</td>\n    </tr>\n    <tr>\n      <th>4801</th>\n      <td>126186</td>\n      <td>Shanghai Calling</td>\n      <td>When ambitious New York attorney Sam is sent t...</td>\n      <td>[]</td>\n      <td>[]</td>\n      <td>[Daniel Henney, Eliza Coupe, Bill Paxton, Alan...</td>\n      <td>[Daniel Hsia]</td>\n    </tr>\n    <tr>\n      <th>4802</th>\n      <td>25975</td>\n      <td>My Date with Drew</td>\n      <td>Ever since the second grade when he first saw ...</td>\n      <td>[Documentary]</td>\n      <td>[obsession, camcorder, crush, dream girl]</td>\n      <td>[Drew Barrymore, Brian Herzlinger, Corey Feldm...</td>\n      <td>[Brian Herzlinger]</td>\n    </tr>\n  </tbody>\n</table>\n<p>4803 rows × 7 columns</p>\n</div>"
     },
     "execution_count": 22,
     "metadata": {},
     "output_type": "execute_result"
    }
   ],
   "source": [
    "data"
   ]
  },
  {
   "cell_type": "code",
   "execution_count": 23,
   "metadata": {
    "ExecuteTime": {
     "end_time": "2024-02-22T12:10:22.954911Z",
     "start_time": "2024-02-22T12:10:22.893076900Z"
    }
   },
   "outputs": [
    {
     "data": {
      "text/plain": "'In the 22nd century, a paraplegic Marine is dispatched to the moon Pandora on a unique mission, but becomes torn between following orders and protecting an alien civilization.'"
     },
     "execution_count": 23,
     "metadata": {},
     "output_type": "execute_result"
    }
   ],
   "source": [
    "data.iloc[0].overview"
   ]
  },
  {
   "cell_type": "code",
   "execution_count": 24,
   "metadata": {
    "ExecuteTime": {
     "end_time": "2024-02-22T12:10:23.146398Z",
     "start_time": "2024-02-22T12:10:22.924991500Z"
    }
   },
   "outputs": [],
   "source": [
    "data['overview'] = data['overview'].apply(lambda x: x.split())"
   ]
  },
  {
   "cell_type": "code",
   "execution_count": 25,
   "metadata": {
    "ExecuteTime": {
     "end_time": "2024-02-22T12:10:23.197263Z",
     "start_time": "2024-02-22T12:10:23.038689300Z"
    }
   },
   "outputs": [
    {
     "data": {
      "text/plain": "      movie_id                                     title  \\\n0        19995                                    Avatar   \n1          285  Pirates of the Caribbean: At World's End   \n2       206647                                   Spectre   \n3        49026                     The Dark Knight Rises   \n4        49529                               John Carter   \n...        ...                                       ...   \n4798      9367                               El Mariachi   \n4799     72766                                 Newlyweds   \n4800    231617                 Signed, Sealed, Delivered   \n4801    126186                          Shanghai Calling   \n4802     25975                         My Date with Drew   \n\n                                               overview  \\\n0     [In, the, 22nd, century,, a, paraplegic, Marin...   \n1     [Captain, Barbossa,, long, believed, to, be, d...   \n2     [A, cryptic, message, from, Bond’s, past, send...   \n3     [Following, the, death, of, District, Attorney...   \n4     [John, Carter, is, a, war-weary,, former, mili...   \n...                                                 ...   \n4798  [El, Mariachi, just, wants, to, play, his, gui...   \n4799  [A, newlywed, couple's, honeymoon, is, upended...   \n4800  [\"Signed,, Sealed,, Delivered\", introduces, a,...   \n4801  [When, ambitious, New, York, attorney, Sam, is...   \n4802  [Ever, since, the, second, grade, when, he, fi...   \n\n                                             genres  \\\n0     [Action, Adventure, Fantasy, Science Fiction]   \n1                      [Adventure, Fantasy, Action]   \n2                        [Action, Adventure, Crime]   \n3                  [Action, Crime, Drama, Thriller]   \n4              [Action, Adventure, Science Fiction]   \n...                                             ...   \n4798                      [Action, Crime, Thriller]   \n4799                              [Comedy, Romance]   \n4800             [Comedy, Drama, Romance, TV Movie]   \n4801                                             []   \n4802                                  [Documentary]   \n\n                                               keywords  \\\n0     [culture clash, future, space war, space colon...   \n1     [ocean, drug abuse, exotic island, east india ...   \n2     [spy, based on novel, secret agent, sequel, mi...   \n3     [dc comics, crime fighter, terrorist, secret i...   \n4     [based on novel, mars, medallion, space travel...   \n...                                                 ...   \n4798  [united states–mexico barrier, legs, arms, pap...   \n4799                                                 []   \n4800  [date, love at first sight, narration, investi...   \n4801                                                 []   \n4802          [obsession, camcorder, crush, dream girl]   \n\n                                                   cast             director  \n0     [Sam Worthington, Zoe Saldana, Sigourney Weave...      [James Cameron]  \n1     [Johnny Depp, Orlando Bloom, Keira Knightley, ...     [Gore Verbinski]  \n2     [Daniel Craig, Christoph Waltz, Léa Seydoux, R...         [Sam Mendes]  \n3     [Christian Bale, Michael Caine, Gary Oldman, A...  [Christopher Nolan]  \n4     [Taylor Kitsch, Lynn Collins, Samantha Morton,...     [Andrew Stanton]  \n...                                                 ...                  ...  \n4798  [Carlos Gallardo, Jaime de Hoyos, Peter Marqua...   [Robert Rodriguez]  \n4799  [Edward Burns, Kerry Bishé, Marsha Dietlein, C...       [Edward Burns]  \n4800  [Eric Mabius, Kristin Booth, Crystal Lowe, Geo...        [Scott Smith]  \n4801  [Daniel Henney, Eliza Coupe, Bill Paxton, Alan...        [Daniel Hsia]  \n4802  [Drew Barrymore, Brian Herzlinger, Corey Feldm...   [Brian Herzlinger]  \n\n[4803 rows x 7 columns]",
      "text/html": "<div>\n<style scoped>\n    .dataframe tbody tr th:only-of-type {\n        vertical-align: middle;\n    }\n\n    .dataframe tbody tr th {\n        vertical-align: top;\n    }\n\n    .dataframe thead th {\n        text-align: right;\n    }\n</style>\n<table border=\"1\" class=\"dataframe\">\n  <thead>\n    <tr style=\"text-align: right;\">\n      <th></th>\n      <th>movie_id</th>\n      <th>title</th>\n      <th>overview</th>\n      <th>genres</th>\n      <th>keywords</th>\n      <th>cast</th>\n      <th>director</th>\n    </tr>\n  </thead>\n  <tbody>\n    <tr>\n      <th>0</th>\n      <td>19995</td>\n      <td>Avatar</td>\n      <td>[In, the, 22nd, century,, a, paraplegic, Marin...</td>\n      <td>[Action, Adventure, Fantasy, Science Fiction]</td>\n      <td>[culture clash, future, space war, space colon...</td>\n      <td>[Sam Worthington, Zoe Saldana, Sigourney Weave...</td>\n      <td>[James Cameron]</td>\n    </tr>\n    <tr>\n      <th>1</th>\n      <td>285</td>\n      <td>Pirates of the Caribbean: At World's End</td>\n      <td>[Captain, Barbossa,, long, believed, to, be, d...</td>\n      <td>[Adventure, Fantasy, Action]</td>\n      <td>[ocean, drug abuse, exotic island, east india ...</td>\n      <td>[Johnny Depp, Orlando Bloom, Keira Knightley, ...</td>\n      <td>[Gore Verbinski]</td>\n    </tr>\n    <tr>\n      <th>2</th>\n      <td>206647</td>\n      <td>Spectre</td>\n      <td>[A, cryptic, message, from, Bond’s, past, send...</td>\n      <td>[Action, Adventure, Crime]</td>\n      <td>[spy, based on novel, secret agent, sequel, mi...</td>\n      <td>[Daniel Craig, Christoph Waltz, Léa Seydoux, R...</td>\n      <td>[Sam Mendes]</td>\n    </tr>\n    <tr>\n      <th>3</th>\n      <td>49026</td>\n      <td>The Dark Knight Rises</td>\n      <td>[Following, the, death, of, District, Attorney...</td>\n      <td>[Action, Crime, Drama, Thriller]</td>\n      <td>[dc comics, crime fighter, terrorist, secret i...</td>\n      <td>[Christian Bale, Michael Caine, Gary Oldman, A...</td>\n      <td>[Christopher Nolan]</td>\n    </tr>\n    <tr>\n      <th>4</th>\n      <td>49529</td>\n      <td>John Carter</td>\n      <td>[John, Carter, is, a, war-weary,, former, mili...</td>\n      <td>[Action, Adventure, Science Fiction]</td>\n      <td>[based on novel, mars, medallion, space travel...</td>\n      <td>[Taylor Kitsch, Lynn Collins, Samantha Morton,...</td>\n      <td>[Andrew Stanton]</td>\n    </tr>\n    <tr>\n      <th>...</th>\n      <td>...</td>\n      <td>...</td>\n      <td>...</td>\n      <td>...</td>\n      <td>...</td>\n      <td>...</td>\n      <td>...</td>\n    </tr>\n    <tr>\n      <th>4798</th>\n      <td>9367</td>\n      <td>El Mariachi</td>\n      <td>[El, Mariachi, just, wants, to, play, his, gui...</td>\n      <td>[Action, Crime, Thriller]</td>\n      <td>[united states–mexico barrier, legs, arms, pap...</td>\n      <td>[Carlos Gallardo, Jaime de Hoyos, Peter Marqua...</td>\n      <td>[Robert Rodriguez]</td>\n    </tr>\n    <tr>\n      <th>4799</th>\n      <td>72766</td>\n      <td>Newlyweds</td>\n      <td>[A, newlywed, couple's, honeymoon, is, upended...</td>\n      <td>[Comedy, Romance]</td>\n      <td>[]</td>\n      <td>[Edward Burns, Kerry Bishé, Marsha Dietlein, C...</td>\n      <td>[Edward Burns]</td>\n    </tr>\n    <tr>\n      <th>4800</th>\n      <td>231617</td>\n      <td>Signed, Sealed, Delivered</td>\n      <td>[\"Signed,, Sealed,, Delivered\", introduces, a,...</td>\n      <td>[Comedy, Drama, Romance, TV Movie]</td>\n      <td>[date, love at first sight, narration, investi...</td>\n      <td>[Eric Mabius, Kristin Booth, Crystal Lowe, Geo...</td>\n      <td>[Scott Smith]</td>\n    </tr>\n    <tr>\n      <th>4801</th>\n      <td>126186</td>\n      <td>Shanghai Calling</td>\n      <td>[When, ambitious, New, York, attorney, Sam, is...</td>\n      <td>[]</td>\n      <td>[]</td>\n      <td>[Daniel Henney, Eliza Coupe, Bill Paxton, Alan...</td>\n      <td>[Daniel Hsia]</td>\n    </tr>\n    <tr>\n      <th>4802</th>\n      <td>25975</td>\n      <td>My Date with Drew</td>\n      <td>[Ever, since, the, second, grade, when, he, fi...</td>\n      <td>[Documentary]</td>\n      <td>[obsession, camcorder, crush, dream girl]</td>\n      <td>[Drew Barrymore, Brian Herzlinger, Corey Feldm...</td>\n      <td>[Brian Herzlinger]</td>\n    </tr>\n  </tbody>\n</table>\n<p>4803 rows × 7 columns</p>\n</div>"
     },
     "execution_count": 25,
     "metadata": {},
     "output_type": "execute_result"
    }
   ],
   "source": [
    "data"
   ]
  },
  {
   "cell_type": "code",
   "execution_count": 26,
   "metadata": {
    "ExecuteTime": {
     "end_time": "2024-02-22T12:10:23.207235800Z",
     "start_time": "2024-02-22T12:10:23.128447500Z"
    }
   },
   "outputs": [],
   "source": [
    "def remove_space(word):\n",
    "    l = []\n",
    "    for i in word:\n",
    "        l.append(i.replace(' ', ''))\n",
    "    return l "
   ]
  },
  {
   "cell_type": "code",
   "execution_count": 27,
   "metadata": {
    "ExecuteTime": {
     "end_time": "2024-02-22T12:10:23.440613900Z",
     "start_time": "2024-02-22T12:10:23.158368100Z"
    }
   },
   "outputs": [],
   "source": [
    "data['cast'] = data['cast'].apply(remove_space)\n",
    "data['director'] = data['director'].apply(remove_space)\n",
    "data['genres'] = data['genres'].apply(remove_space)\n",
    "data['keywords'] = data['keywords'].apply(remove_space)"
   ]
  },
  {
   "cell_type": "code",
   "execution_count": 28,
   "metadata": {
    "ExecuteTime": {
     "end_time": "2024-02-22T12:10:23.530375Z",
     "start_time": "2024-02-22T12:10:23.353845500Z"
    }
   },
   "outputs": [
    {
     "data": {
      "text/plain": "      movie_id                                     title  \\\n0        19995                                    Avatar   \n1          285  Pirates of the Caribbean: At World's End   \n2       206647                                   Spectre   \n3        49026                     The Dark Knight Rises   \n4        49529                               John Carter   \n...        ...                                       ...   \n4798      9367                               El Mariachi   \n4799     72766                                 Newlyweds   \n4800    231617                 Signed, Sealed, Delivered   \n4801    126186                          Shanghai Calling   \n4802     25975                         My Date with Drew   \n\n                                               overview  \\\n0     [In, the, 22nd, century,, a, paraplegic, Marin...   \n1     [Captain, Barbossa,, long, believed, to, be, d...   \n2     [A, cryptic, message, from, Bond’s, past, send...   \n3     [Following, the, death, of, District, Attorney...   \n4     [John, Carter, is, a, war-weary,, former, mili...   \n...                                                 ...   \n4798  [El, Mariachi, just, wants, to, play, his, gui...   \n4799  [A, newlywed, couple's, honeymoon, is, upended...   \n4800  [\"Signed,, Sealed,, Delivered\", introduces, a,...   \n4801  [When, ambitious, New, York, attorney, Sam, is...   \n4802  [Ever, since, the, second, grade, when, he, fi...   \n\n                                            genres  \\\n0     [Action, Adventure, Fantasy, ScienceFiction]   \n1                     [Adventure, Fantasy, Action]   \n2                       [Action, Adventure, Crime]   \n3                 [Action, Crime, Drama, Thriller]   \n4              [Action, Adventure, ScienceFiction]   \n...                                            ...   \n4798                     [Action, Crime, Thriller]   \n4799                             [Comedy, Romance]   \n4800             [Comedy, Drama, Romance, TVMovie]   \n4801                                            []   \n4802                                 [Documentary]   \n\n                                               keywords  \\\n0     [cultureclash, future, spacewar, spacecolony, ...   \n1     [ocean, drugabuse, exoticisland, eastindiatrad...   \n2     [spy, basedonnovel, secretagent, sequel, mi6, ...   \n3     [dccomics, crimefighter, terrorist, secretiden...   \n4     [basedonnovel, mars, medallion, spacetravel, p...   \n...                                                 ...   \n4798  [unitedstates–mexicobarrier, legs, arms, paper...   \n4799                                                 []   \n4800  [date, loveatfirstsight, narration, investigat...   \n4801                                                 []   \n4802           [obsession, camcorder, crush, dreamgirl]   \n\n                                                   cast            director  \n0     [SamWorthington, ZoeSaldana, SigourneyWeaver, ...      [JamesCameron]  \n1     [JohnnyDepp, OrlandoBloom, KeiraKnightley, Ste...     [GoreVerbinski]  \n2     [DanielCraig, ChristophWaltz, LéaSeydoux, Ralp...         [SamMendes]  \n3     [ChristianBale, MichaelCaine, GaryOldman, Anne...  [ChristopherNolan]  \n4     [TaylorKitsch, LynnCollins, SamanthaMorton, Wi...     [AndrewStanton]  \n...                                                 ...                 ...  \n4798  [CarlosGallardo, JaimedeHoyos, PeterMarquardt,...   [RobertRodriguez]  \n4799  [EdwardBurns, KerryBishé, MarshaDietlein, Cait...       [EdwardBurns]  \n4800  [EricMabius, KristinBooth, CrystalLowe, GeoffG...        [ScottSmith]  \n4801  [DanielHenney, ElizaCoupe, BillPaxton, AlanRuc...        [DanielHsia]  \n4802  [DrewBarrymore, BrianHerzlinger, CoreyFeldman,...   [BrianHerzlinger]  \n\n[4803 rows x 7 columns]",
      "text/html": "<div>\n<style scoped>\n    .dataframe tbody tr th:only-of-type {\n        vertical-align: middle;\n    }\n\n    .dataframe tbody tr th {\n        vertical-align: top;\n    }\n\n    .dataframe thead th {\n        text-align: right;\n    }\n</style>\n<table border=\"1\" class=\"dataframe\">\n  <thead>\n    <tr style=\"text-align: right;\">\n      <th></th>\n      <th>movie_id</th>\n      <th>title</th>\n      <th>overview</th>\n      <th>genres</th>\n      <th>keywords</th>\n      <th>cast</th>\n      <th>director</th>\n    </tr>\n  </thead>\n  <tbody>\n    <tr>\n      <th>0</th>\n      <td>19995</td>\n      <td>Avatar</td>\n      <td>[In, the, 22nd, century,, a, paraplegic, Marin...</td>\n      <td>[Action, Adventure, Fantasy, ScienceFiction]</td>\n      <td>[cultureclash, future, spacewar, spacecolony, ...</td>\n      <td>[SamWorthington, ZoeSaldana, SigourneyWeaver, ...</td>\n      <td>[JamesCameron]</td>\n    </tr>\n    <tr>\n      <th>1</th>\n      <td>285</td>\n      <td>Pirates of the Caribbean: At World's End</td>\n      <td>[Captain, Barbossa,, long, believed, to, be, d...</td>\n      <td>[Adventure, Fantasy, Action]</td>\n      <td>[ocean, drugabuse, exoticisland, eastindiatrad...</td>\n      <td>[JohnnyDepp, OrlandoBloom, KeiraKnightley, Ste...</td>\n      <td>[GoreVerbinski]</td>\n    </tr>\n    <tr>\n      <th>2</th>\n      <td>206647</td>\n      <td>Spectre</td>\n      <td>[A, cryptic, message, from, Bond’s, past, send...</td>\n      <td>[Action, Adventure, Crime]</td>\n      <td>[spy, basedonnovel, secretagent, sequel, mi6, ...</td>\n      <td>[DanielCraig, ChristophWaltz, LéaSeydoux, Ralp...</td>\n      <td>[SamMendes]</td>\n    </tr>\n    <tr>\n      <th>3</th>\n      <td>49026</td>\n      <td>The Dark Knight Rises</td>\n      <td>[Following, the, death, of, District, Attorney...</td>\n      <td>[Action, Crime, Drama, Thriller]</td>\n      <td>[dccomics, crimefighter, terrorist, secretiden...</td>\n      <td>[ChristianBale, MichaelCaine, GaryOldman, Anne...</td>\n      <td>[ChristopherNolan]</td>\n    </tr>\n    <tr>\n      <th>4</th>\n      <td>49529</td>\n      <td>John Carter</td>\n      <td>[John, Carter, is, a, war-weary,, former, mili...</td>\n      <td>[Action, Adventure, ScienceFiction]</td>\n      <td>[basedonnovel, mars, medallion, spacetravel, p...</td>\n      <td>[TaylorKitsch, LynnCollins, SamanthaMorton, Wi...</td>\n      <td>[AndrewStanton]</td>\n    </tr>\n    <tr>\n      <th>...</th>\n      <td>...</td>\n      <td>...</td>\n      <td>...</td>\n      <td>...</td>\n      <td>...</td>\n      <td>...</td>\n      <td>...</td>\n    </tr>\n    <tr>\n      <th>4798</th>\n      <td>9367</td>\n      <td>El Mariachi</td>\n      <td>[El, Mariachi, just, wants, to, play, his, gui...</td>\n      <td>[Action, Crime, Thriller]</td>\n      <td>[unitedstates–mexicobarrier, legs, arms, paper...</td>\n      <td>[CarlosGallardo, JaimedeHoyos, PeterMarquardt,...</td>\n      <td>[RobertRodriguez]</td>\n    </tr>\n    <tr>\n      <th>4799</th>\n      <td>72766</td>\n      <td>Newlyweds</td>\n      <td>[A, newlywed, couple's, honeymoon, is, upended...</td>\n      <td>[Comedy, Romance]</td>\n      <td>[]</td>\n      <td>[EdwardBurns, KerryBishé, MarshaDietlein, Cait...</td>\n      <td>[EdwardBurns]</td>\n    </tr>\n    <tr>\n      <th>4800</th>\n      <td>231617</td>\n      <td>Signed, Sealed, Delivered</td>\n      <td>[\"Signed,, Sealed,, Delivered\", introduces, a,...</td>\n      <td>[Comedy, Drama, Romance, TVMovie]</td>\n      <td>[date, loveatfirstsight, narration, investigat...</td>\n      <td>[EricMabius, KristinBooth, CrystalLowe, GeoffG...</td>\n      <td>[ScottSmith]</td>\n    </tr>\n    <tr>\n      <th>4801</th>\n      <td>126186</td>\n      <td>Shanghai Calling</td>\n      <td>[When, ambitious, New, York, attorney, Sam, is...</td>\n      <td>[]</td>\n      <td>[]</td>\n      <td>[DanielHenney, ElizaCoupe, BillPaxton, AlanRuc...</td>\n      <td>[DanielHsia]</td>\n    </tr>\n    <tr>\n      <th>4802</th>\n      <td>25975</td>\n      <td>My Date with Drew</td>\n      <td>[Ever, since, the, second, grade, when, he, fi...</td>\n      <td>[Documentary]</td>\n      <td>[obsession, camcorder, crush, dreamgirl]</td>\n      <td>[DrewBarrymore, BrianHerzlinger, CoreyFeldman,...</td>\n      <td>[BrianHerzlinger]</td>\n    </tr>\n  </tbody>\n</table>\n<p>4803 rows × 7 columns</p>\n</div>"
     },
     "execution_count": 28,
     "metadata": {},
     "output_type": "execute_result"
    }
   ],
   "source": [
    "data"
   ]
  },
  {
   "cell_type": "code",
   "execution_count": 29,
   "metadata": {
    "ExecuteTime": {
     "end_time": "2024-02-22T12:10:23.798655700Z",
     "start_time": "2024-02-22T12:10:23.470534800Z"
    }
   },
   "outputs": [],
   "source": [
    "data['tags'] = data['overview'] + data['genres'] + data['keywords'] + data['cast'] + data['director']"
   ]
  },
  {
   "cell_type": "code",
   "execution_count": 30,
   "metadata": {
    "ExecuteTime": {
     "end_time": "2024-02-22T12:10:23.876447500Z",
     "start_time": "2024-02-22T12:10:23.803643600Z"
    }
   },
   "outputs": [
    {
     "data": {
      "text/plain": "['In',\n 'the',\n '22nd',\n 'century,',\n 'a',\n 'paraplegic',\n 'Marine',\n 'is',\n 'dispatched',\n 'to',\n 'the',\n 'moon',\n 'Pandora',\n 'on',\n 'a',\n 'unique',\n 'mission,',\n 'but',\n 'becomes',\n 'torn',\n 'between',\n 'following',\n 'orders',\n 'and',\n 'protecting',\n 'an',\n 'alien',\n 'civilization.',\n 'Action',\n 'Adventure',\n 'Fantasy',\n 'ScienceFiction',\n 'cultureclash',\n 'future',\n 'spacewar',\n 'spacecolony',\n 'society',\n 'spacetravel',\n 'futuristic',\n 'romance',\n 'space',\n 'alien',\n 'tribe',\n 'alienplanet',\n 'cgi',\n 'marine',\n 'soldier',\n 'battle',\n 'loveaffair',\n 'antiwar',\n 'powerrelations',\n 'mindandsoul',\n '3d',\n 'SamWorthington',\n 'ZoeSaldana',\n 'SigourneyWeaver',\n 'StephenLang',\n 'MichelleRodriguez',\n 'GiovanniRibisi',\n 'JoelDavidMoore',\n 'CCHPounder',\n 'WesStudi',\n 'LazAlonso',\n 'DileepRao',\n 'MattGerald',\n 'SeanAnthonyMoran',\n 'JasonWhyte',\n 'ScottLawrence',\n 'KellyKilgour',\n 'JamesPatrickPitt',\n 'SeanPatrickMurphy',\n 'PeterDillon',\n 'KevinDorman',\n 'KelsonHenderson',\n 'DavidVanHorn',\n 'JacobTomuri',\n 'MichaelBlain-Rozgay',\n 'JonCurry',\n 'LukeHawker',\n 'WoodySchultz',\n 'PeterMensah',\n 'SoniaYee',\n 'JahnelCurfman',\n 'IlramChoi',\n 'KylaWarren',\n 'LisaRoumain',\n 'DebraWilson',\n 'ChrisMala',\n 'TaylorKibby',\n 'JodieLandau',\n 'JulieLamm',\n 'CullenB.Madden',\n 'JosephBradyMadden',\n 'FrankieTorres',\n 'AustinWilson',\n 'SaraWilson',\n 'TamicaWashington-Miller',\n 'LucyBriant',\n 'NathanMeister',\n 'GerryBlair',\n 'MatthewChamberlain',\n 'PaulYates',\n 'WrayWilson',\n 'JamesGaylyn',\n 'MelvinLenoClarkIII',\n 'CarvonFutrell',\n 'BrandonJelkes',\n 'MicahMoch',\n 'HanniyahMuhammad',\n 'ChristopherNolen',\n 'ChristaOliver',\n 'AprilMarieThomas',\n 'BravitaA.Threatt',\n 'ColinBleasdale',\n 'MikeBodnar',\n 'MattClayton',\n 'NicoleDionne',\n 'JamieHarrison',\n 'AllanHenry',\n 'AnthonyIngruber',\n 'AshleyJeffery',\n 'DeanKnowsley',\n 'JosephMika-Hunt',\n 'TerryNotary',\n 'KaiPantano',\n 'LoganPithyou',\n 'StuartPollock',\n 'Raja',\n 'GarethRuck',\n 'RhianSheehan',\n 'T.J.Storm',\n 'JodieTaylor',\n 'AliciaVela-Bailey',\n 'RichardWhiteside',\n 'NikieZambo',\n 'JuleneRenee',\n 'JamesCameron']"
     },
     "execution_count": 30,
     "metadata": {},
     "output_type": "execute_result"
    }
   ],
   "source": [
    "data['tags'][0]"
   ]
  },
  {
   "cell_type": "code",
   "execution_count": 31,
   "metadata": {
    "ExecuteTime": {
     "end_time": "2024-02-22T12:10:23.980170900Z",
     "start_time": "2024-02-22T12:10:23.853509400Z"
    }
   },
   "outputs": [],
   "source": [
    "new_df = data[['movie_id', 'title', 'tags']]"
   ]
  },
  {
   "cell_type": "code",
   "execution_count": 32,
   "metadata": {
    "ExecuteTime": {
     "end_time": "2024-02-22T12:10:24.003119900Z",
     "start_time": "2024-02-22T12:10:23.885424200Z"
    }
   },
   "outputs": [
    {
     "data": {
      "text/plain": "      movie_id                                     title  \\\n0        19995                                    Avatar   \n1          285  Pirates of the Caribbean: At World's End   \n2       206647                                   Spectre   \n3        49026                     The Dark Knight Rises   \n4        49529                               John Carter   \n...        ...                                       ...   \n4798      9367                               El Mariachi   \n4799     72766                                 Newlyweds   \n4800    231617                 Signed, Sealed, Delivered   \n4801    126186                          Shanghai Calling   \n4802     25975                         My Date with Drew   \n\n                                                   tags  \n0     [In, the, 22nd, century,, a, paraplegic, Marin...  \n1     [Captain, Barbossa,, long, believed, to, be, d...  \n2     [A, cryptic, message, from, Bond’s, past, send...  \n3     [Following, the, death, of, District, Attorney...  \n4     [John, Carter, is, a, war-weary,, former, mili...  \n...                                                 ...  \n4798  [El, Mariachi, just, wants, to, play, his, gui...  \n4799  [A, newlywed, couple's, honeymoon, is, upended...  \n4800  [\"Signed,, Sealed,, Delivered\", introduces, a,...  \n4801  [When, ambitious, New, York, attorney, Sam, is...  \n4802  [Ever, since, the, second, grade, when, he, fi...  \n\n[4803 rows x 3 columns]",
      "text/html": "<div>\n<style scoped>\n    .dataframe tbody tr th:only-of-type {\n        vertical-align: middle;\n    }\n\n    .dataframe tbody tr th {\n        vertical-align: top;\n    }\n\n    .dataframe thead th {\n        text-align: right;\n    }\n</style>\n<table border=\"1\" class=\"dataframe\">\n  <thead>\n    <tr style=\"text-align: right;\">\n      <th></th>\n      <th>movie_id</th>\n      <th>title</th>\n      <th>tags</th>\n    </tr>\n  </thead>\n  <tbody>\n    <tr>\n      <th>0</th>\n      <td>19995</td>\n      <td>Avatar</td>\n      <td>[In, the, 22nd, century,, a, paraplegic, Marin...</td>\n    </tr>\n    <tr>\n      <th>1</th>\n      <td>285</td>\n      <td>Pirates of the Caribbean: At World's End</td>\n      <td>[Captain, Barbossa,, long, believed, to, be, d...</td>\n    </tr>\n    <tr>\n      <th>2</th>\n      <td>206647</td>\n      <td>Spectre</td>\n      <td>[A, cryptic, message, from, Bond’s, past, send...</td>\n    </tr>\n    <tr>\n      <th>3</th>\n      <td>49026</td>\n      <td>The Dark Knight Rises</td>\n      <td>[Following, the, death, of, District, Attorney...</td>\n    </tr>\n    <tr>\n      <th>4</th>\n      <td>49529</td>\n      <td>John Carter</td>\n      <td>[John, Carter, is, a, war-weary,, former, mili...</td>\n    </tr>\n    <tr>\n      <th>...</th>\n      <td>...</td>\n      <td>...</td>\n      <td>...</td>\n    </tr>\n    <tr>\n      <th>4798</th>\n      <td>9367</td>\n      <td>El Mariachi</td>\n      <td>[El, Mariachi, just, wants, to, play, his, gui...</td>\n    </tr>\n    <tr>\n      <th>4799</th>\n      <td>72766</td>\n      <td>Newlyweds</td>\n      <td>[A, newlywed, couple's, honeymoon, is, upended...</td>\n    </tr>\n    <tr>\n      <th>4800</th>\n      <td>231617</td>\n      <td>Signed, Sealed, Delivered</td>\n      <td>[\"Signed,, Sealed,, Delivered\", introduces, a,...</td>\n    </tr>\n    <tr>\n      <th>4801</th>\n      <td>126186</td>\n      <td>Shanghai Calling</td>\n      <td>[When, ambitious, New, York, attorney, Sam, is...</td>\n    </tr>\n    <tr>\n      <th>4802</th>\n      <td>25975</td>\n      <td>My Date with Drew</td>\n      <td>[Ever, since, the, second, grade, when, he, fi...</td>\n    </tr>\n  </tbody>\n</table>\n<p>4803 rows × 3 columns</p>\n</div>"
     },
     "execution_count": 32,
     "metadata": {},
     "output_type": "execute_result"
    }
   ],
   "source": [
    "new_df"
   ]
  },
  {
   "cell_type": "code",
   "execution_count": 33,
   "metadata": {
    "ExecuteTime": {
     "end_time": "2024-02-22T12:10:24.092870200Z",
     "start_time": "2024-02-22T12:10:23.931302900Z"
    }
   },
   "outputs": [
    {
     "name": "stderr",
     "output_type": "stream",
     "text": [
      "C:\\Users\\HP\\AppData\\Local\\Temp\\ipykernel_20280\\224074193.py:1: SettingWithCopyWarning: \n",
      "A value is trying to be set on a copy of a slice from a DataFrame.\n",
      "Try using .loc[row_indexer,col_indexer] = value instead\n",
      "\n",
      "See the caveats in the documentation: https://pandas.pydata.org/pandas-docs/stable/user_guide/indexing.html#returning-a-view-versus-a-copy\n",
      "  new_df['tags'] = new_df['tags'].apply(lambda x: \" \".join(x))\n"
     ]
    }
   ],
   "source": [
    "new_df['tags'] = new_df['tags'].apply(lambda x: \" \".join(x))"
   ]
  },
  {
   "cell_type": "code",
   "execution_count": 34,
   "metadata": {
    "ExecuteTime": {
     "end_time": "2024-02-22T12:10:24.207562100Z",
     "start_time": "2024-02-22T12:10:24.023056500Z"
    }
   },
   "outputs": [
    {
     "data": {
      "text/plain": "      movie_id                                     title  \\\n0        19995                                    Avatar   \n1          285  Pirates of the Caribbean: At World's End   \n2       206647                                   Spectre   \n3        49026                     The Dark Knight Rises   \n4        49529                               John Carter   \n...        ...                                       ...   \n4798      9367                               El Mariachi   \n4799     72766                                 Newlyweds   \n4800    231617                 Signed, Sealed, Delivered   \n4801    126186                          Shanghai Calling   \n4802     25975                         My Date with Drew   \n\n                                                   tags  \n0     In the 22nd century, a paraplegic Marine is di...  \n1     Captain Barbossa, long believed to be dead, ha...  \n2     A cryptic message from Bond’s past sends him o...  \n3     Following the death of District Attorney Harve...  \n4     John Carter is a war-weary, former military ca...  \n...                                                 ...  \n4798  El Mariachi just wants to play his guitar and ...  \n4799  A newlywed couple's honeymoon is upended by th...  \n4800  \"Signed, Sealed, Delivered\" introduces a dedic...  \n4801  When ambitious New York attorney Sam is sent t...  \n4802  Ever since the second grade when he first saw ...  \n\n[4803 rows x 3 columns]",
      "text/html": "<div>\n<style scoped>\n    .dataframe tbody tr th:only-of-type {\n        vertical-align: middle;\n    }\n\n    .dataframe tbody tr th {\n        vertical-align: top;\n    }\n\n    .dataframe thead th {\n        text-align: right;\n    }\n</style>\n<table border=\"1\" class=\"dataframe\">\n  <thead>\n    <tr style=\"text-align: right;\">\n      <th></th>\n      <th>movie_id</th>\n      <th>title</th>\n      <th>tags</th>\n    </tr>\n  </thead>\n  <tbody>\n    <tr>\n      <th>0</th>\n      <td>19995</td>\n      <td>Avatar</td>\n      <td>In the 22nd century, a paraplegic Marine is di...</td>\n    </tr>\n    <tr>\n      <th>1</th>\n      <td>285</td>\n      <td>Pirates of the Caribbean: At World's End</td>\n      <td>Captain Barbossa, long believed to be dead, ha...</td>\n    </tr>\n    <tr>\n      <th>2</th>\n      <td>206647</td>\n      <td>Spectre</td>\n      <td>A cryptic message from Bond’s past sends him o...</td>\n    </tr>\n    <tr>\n      <th>3</th>\n      <td>49026</td>\n      <td>The Dark Knight Rises</td>\n      <td>Following the death of District Attorney Harve...</td>\n    </tr>\n    <tr>\n      <th>4</th>\n      <td>49529</td>\n      <td>John Carter</td>\n      <td>John Carter is a war-weary, former military ca...</td>\n    </tr>\n    <tr>\n      <th>...</th>\n      <td>...</td>\n      <td>...</td>\n      <td>...</td>\n    </tr>\n    <tr>\n      <th>4798</th>\n      <td>9367</td>\n      <td>El Mariachi</td>\n      <td>El Mariachi just wants to play his guitar and ...</td>\n    </tr>\n    <tr>\n      <th>4799</th>\n      <td>72766</td>\n      <td>Newlyweds</td>\n      <td>A newlywed couple's honeymoon is upended by th...</td>\n    </tr>\n    <tr>\n      <th>4800</th>\n      <td>231617</td>\n      <td>Signed, Sealed, Delivered</td>\n      <td>\"Signed, Sealed, Delivered\" introduces a dedic...</td>\n    </tr>\n    <tr>\n      <th>4801</th>\n      <td>126186</td>\n      <td>Shanghai Calling</td>\n      <td>When ambitious New York attorney Sam is sent t...</td>\n    </tr>\n    <tr>\n      <th>4802</th>\n      <td>25975</td>\n      <td>My Date with Drew</td>\n      <td>Ever since the second grade when he first saw ...</td>\n    </tr>\n  </tbody>\n</table>\n<p>4803 rows × 3 columns</p>\n</div>"
     },
     "execution_count": 34,
     "metadata": {},
     "output_type": "execute_result"
    }
   ],
   "source": [
    "new_df"
   ]
  },
  {
   "cell_type": "code",
   "execution_count": 35,
   "metadata": {
    "ExecuteTime": {
     "end_time": "2024-02-22T12:10:24.392071800Z",
     "start_time": "2024-02-22T12:10:24.083910900Z"
    }
   },
   "outputs": [
    {
     "data": {
      "text/plain": "'In the 22nd century, a paraplegic Marine is dispatched to the moon Pandora on a unique mission, but becomes torn between following orders and protecting an alien civilization. Action Adventure Fantasy ScienceFiction cultureclash future spacewar spacecolony society spacetravel futuristic romance space alien tribe alienplanet cgi marine soldier battle loveaffair antiwar powerrelations mindandsoul 3d SamWorthington ZoeSaldana SigourneyWeaver StephenLang MichelleRodriguez GiovanniRibisi JoelDavidMoore CCHPounder WesStudi LazAlonso DileepRao MattGerald SeanAnthonyMoran JasonWhyte ScottLawrence KellyKilgour JamesPatrickPitt SeanPatrickMurphy PeterDillon KevinDorman KelsonHenderson DavidVanHorn JacobTomuri MichaelBlain-Rozgay JonCurry LukeHawker WoodySchultz PeterMensah SoniaYee JahnelCurfman IlramChoi KylaWarren LisaRoumain DebraWilson ChrisMala TaylorKibby JodieLandau JulieLamm CullenB.Madden JosephBradyMadden FrankieTorres AustinWilson SaraWilson TamicaWashington-Miller LucyBriant NathanMeister GerryBlair MatthewChamberlain PaulYates WrayWilson JamesGaylyn MelvinLenoClarkIII CarvonFutrell BrandonJelkes MicahMoch HanniyahMuhammad ChristopherNolen ChristaOliver AprilMarieThomas BravitaA.Threatt ColinBleasdale MikeBodnar MattClayton NicoleDionne JamieHarrison AllanHenry AnthonyIngruber AshleyJeffery DeanKnowsley JosephMika-Hunt TerryNotary KaiPantano LoganPithyou StuartPollock Raja GarethRuck RhianSheehan T.J.Storm JodieTaylor AliciaVela-Bailey RichardWhiteside NikieZambo JuleneRenee JamesCameron'"
     },
     "execution_count": 35,
     "metadata": {},
     "output_type": "execute_result"
    }
   ],
   "source": [
    "new_df.iloc[0]['tags']"
   ]
  },
  {
   "cell_type": "code",
   "execution_count": 36,
   "metadata": {
    "ExecuteTime": {
     "end_time": "2024-02-22T12:10:24.526708600Z",
     "start_time": "2024-02-22T12:10:24.156700900Z"
    }
   },
   "outputs": [
    {
     "name": "stderr",
     "output_type": "stream",
     "text": [
      "C:\\Users\\HP\\AppData\\Local\\Temp\\ipykernel_20280\\1889842218.py:1: SettingWithCopyWarning: \n",
      "A value is trying to be set on a copy of a slice from a DataFrame.\n",
      "Try using .loc[row_indexer,col_indexer] = value instead\n",
      "\n",
      "See the caveats in the documentation: https://pandas.pydata.org/pandas-docs/stable/user_guide/indexing.html#returning-a-view-versus-a-copy\n",
      "  new_df['tags'] = new_df['tags'].apply(lambda x: x.lower())\n"
     ]
    }
   ],
   "source": [
    "new_df['tags'] = new_df['tags'].apply(lambda x: x.lower())"
   ]
  },
  {
   "cell_type": "code",
   "execution_count": 37,
   "metadata": {
    "ExecuteTime": {
     "end_time": "2024-02-22T12:10:29.820820700Z",
     "start_time": "2024-02-22T12:10:24.266407100Z"
    }
   },
   "outputs": [
    {
     "name": "stderr",
     "output_type": "stream",
     "text": [
      "[nltk_data] Downloading package stopwords to\n",
      "[nltk_data]     C:\\Users\\HP\\AppData\\Roaming\\nltk_data...\n",
      "[nltk_data]   Package stopwords is already up-to-date!\n"
     ]
    }
   ],
   "source": [
    "import nltk\n",
    "nltk.download('stopwords')\n",
    "from nltk.corpus import stopwords\n",
    "from nltk.stem.porter import PorterStemmer \n",
    "\n",
    "ps = PorterStemmer()\n",
    "\n",
    "def stems(text):\n",
    "    T = []\n",
    "\n",
    "    for i in text.split():\n",
    "        if not i in set(stopwords.words('english')):\n",
    "            T.append(ps.stem(i))\n",
    "    \n",
    "    return ' '.join(T)\n"
   ]
  },
  {
   "cell_type": "markdown",
   "metadata": {},
   "source": [
    "Stemming to proces normalizacji słów, w którym różne formy tego samego słowa są redukowane do jednej podstawowej formy (tzw. korzenia)."
   ]
  },
  {
   "cell_type": "markdown",
   "metadata": {},
   "source": [
    "Stopwords (słowa-klucze) to słowa, które są powszechnie występujące w języku naturalnym, ale często nie niosą dużo informacji, ponieważ są używane do budowy zdania i struktury języka. W analizie tekstu czy przetwarzaniu języka naturalnego (NLP) stopwords są często usuwane podczas przetwarzania, ponieważ mogą wprowadzać szum i utrudniać ekstrakcję istotnych informacji z tekstu.\n",
    "\n",
    "Przykłady stopwords w języku angielskim obejmują słowa takie jak \"the\", \"and\", \"is\", \"in\", \"to\" itp. Stopwords różnią się między językami, i zazwyczaj są określane w ramach zbioru reguł danego języka."
   ]
  },
  {
   "cell_type": "code",
   "execution_count": 38,
   "metadata": {
    "ExecuteTime": {
     "end_time": "2024-02-22T12:13:09.935823500Z",
     "start_time": "2024-02-22T12:10:29.825807200Z"
    }
   },
   "outputs": [
    {
     "name": "stderr",
     "output_type": "stream",
     "text": [
      "C:\\Users\\HP\\AppData\\Local\\Temp\\ipykernel_20280\\2555563119.py:1: SettingWithCopyWarning: \n",
      "A value is trying to be set on a copy of a slice from a DataFrame.\n",
      "Try using .loc[row_indexer,col_indexer] = value instead\n",
      "\n",
      "See the caveats in the documentation: https://pandas.pydata.org/pandas-docs/stable/user_guide/indexing.html#returning-a-view-versus-a-copy\n",
      "  new_df['tags'] = new_df['tags'].apply(stems)\n"
     ]
    }
   ],
   "source": [
    "new_df['tags'] = new_df['tags'].apply(stems)"
   ]
  },
  {
   "cell_type": "code",
   "execution_count": 39,
   "metadata": {
    "ExecuteTime": {
     "end_time": "2024-02-22T12:13:09.953776900Z",
     "start_time": "2024-02-22T12:13:09.930840100Z"
    }
   },
   "outputs": [
    {
     "data": {
      "text/plain": "'22nd century, parapleg marin dispatch moon pandora uniqu mission, becom torn follow order protect alien civilization. action adventur fantasi sciencefict cultureclash futur spacewar spacecoloni societi spacetravel futurist romanc space alien tribe alienplanet cgi marin soldier battl loveaffair antiwar powerrel mindandsoul 3d samworthington zoesaldana sigourneyweav stephenlang michellerodriguez giovanniribisi joeldavidmoor cchpounder wesstudi lazalonso dileeprao mattgerald seananthonymoran jasonwhyt scottlawr kellykilgour jamespatrickpitt seanpatrickmurphi peterdillon kevindorman kelsonhenderson davidvanhorn jacobtomuri michaelblain-rozgay joncurri lukehawk woodyschultz petermensah soniaye jahnelcurfman ilramchoi kylawarren lisaroumain debrawilson chrismala taylorkibbi jodielandau julielamm cullenb.madden josephbradymadden frankietorr austinwilson sarawilson tamicawashington-mil lucybri nathanmeist gerryblair matthewchamberlain paulyat wraywilson jamesgaylyn melvinlenoclarkiii carvonfutrel brandonjelk micahmoch hanniyahmuhammad christophernolen christaoliv aprilmariethoma bravitaa.threatt colinbleasdal mikebodnar mattclayton nicoledionn jamieharrison allanhenri anthonyingrub ashleyjefferi deanknowsley josephmika-hunt terrynotari kaipantano loganpithy stuartpollock raja garethruck rhiansheehan t.j.storm jodietaylor aliciavela-bailey richardwhitesid nikiezambo julenerene jamescameron'"
     },
     "execution_count": 39,
     "metadata": {},
     "output_type": "execute_result"
    }
   ],
   "source": [
    "new_df.tags[0]"
   ]
  },
  {
   "cell_type": "code",
   "execution_count": 40,
   "metadata": {
    "ExecuteTime": {
     "end_time": "2024-02-22T12:13:10.061487400Z",
     "start_time": "2024-02-22T12:13:09.950784900Z"
    }
   },
   "outputs": [
    {
     "data": {
      "text/plain": "(4803, 3)"
     },
     "execution_count": 40,
     "metadata": {},
     "output_type": "execute_result"
    }
   ],
   "source": [
    "new_df.shape"
   ]
  },
  {
   "cell_type": "markdown",
   "metadata": {},
   "source": [
    "W tym kroku tworzony jest obiekt CountVectorizer. CountVectorizer jest narzędziem do konwersji zbiorów tekstowych na macierze liczb, a max_features jest jednym z jego parametrów. Parametr ten określa maksymalną liczbę cech (słów lub tokenów), które zostaną wzięte pod uwagę podczas procesu przekształcania tekstu na liczbę.\n",
    "\n",
    "Na przykład, jeśli masz bardzo duży zbiór tekstów i chcesz ograniczyć się do najczęściej występujących 5000 słów, możesz ustawić max_features=5000. To ograniczenie ma sens, ponieważ bardzo rzadko używane słowa często nie przynoszą dodatkowej informacji i mogą być pomijane w celu zwiększenia efektywności analizy."
   ]
  },
  {
   "cell_type": "code",
   "execution_count": 41,
   "metadata": {
    "ExecuteTime": {
     "end_time": "2024-02-22T12:13:11.022919700Z",
     "start_time": "2024-02-22T12:13:09.994683100Z"
    }
   },
   "outputs": [],
   "source": [
    "from sklearn.feature_extraction.text import CountVectorizer\n",
    "cv = CountVectorizer(max_features=5000)\n",
    "vector = cv.fit_transform(new_df['tags']).toarray()\n"
   ]
  },
  {
   "cell_type": "code",
   "execution_count": 42,
   "metadata": {
    "ExecuteTime": {
     "end_time": "2024-02-22T12:13:11.043864800Z",
     "start_time": "2024-02-22T12:13:11.023916100Z"
    }
   },
   "outputs": [
    {
     "data": {
      "text/plain": "array([0, 0, 0, ..., 0, 0, 0], dtype=int64)"
     },
     "execution_count": 42,
     "metadata": {},
     "output_type": "execute_result"
    }
   ],
   "source": [
    "vector[0]"
   ]
  },
  {
   "cell_type": "code",
   "execution_count": 43,
   "metadata": {
    "ExecuteTime": {
     "end_time": "2024-02-22T12:13:11.098754Z",
     "start_time": "2024-02-22T12:13:11.043864800Z"
    }
   },
   "outputs": [
    {
     "data": {
      "text/plain": "(4803, 5000)"
     },
     "execution_count": 43,
     "metadata": {},
     "output_type": "execute_result"
    }
   ],
   "source": [
    "vector.shape"
   ]
  },
  {
   "cell_type": "code",
   "execution_count": 44,
   "metadata": {
    "ExecuteTime": {
     "end_time": "2024-02-22T12:13:15.440214Z",
     "start_time": "2024-02-22T12:13:11.074818600Z"
    }
   },
   "outputs": [
    {
     "data": {
      "text/plain": "array([[1.        , 0.06745406, 0.07325794, ..., 0.04313311, 0.        ,\n        0.        ],\n       [0.06745406, 1.        , 0.09443843, ..., 0.02085144, 0.        ,\n        0.        ],\n       [0.07325794, 0.09443843, 1.        , ..., 0.02264554, 0.        ,\n        0.        ],\n       ...,\n       [0.04313311, 0.02085144, 0.02264554, ..., 1.        , 0.04313311,\n        0.04082483],\n       [0.        , 0.        , 0.        , ..., 0.04313311, 1.        ,\n        0.06603382],\n       [0.        , 0.        , 0.        , ..., 0.04082483, 0.06603382,\n        1.        ]])"
     },
     "execution_count": 44,
     "metadata": {},
     "output_type": "execute_result"
    }
   ],
   "source": [
    "from sklearn.metrics.pairwise import cosine_similarity\n",
    "similarity = cosine_similarity(vector)\n",
    "similarity"
   ]
  },
  {
   "cell_type": "code",
   "execution_count": 2,
   "metadata": {
    "ExecuteTime": {
     "end_time": "2024-02-23T11:04:43.088265100Z",
     "start_time": "2024-02-23T11:04:42.967570600Z"
    }
   },
   "outputs": [
    {
     "ename": "NameError",
     "evalue": "name 'similarity' is not defined",
     "output_type": "error",
     "traceback": [
      "\u001B[1;31m---------------------------------------------------------------------------\u001B[0m",
      "\u001B[1;31mNameError\u001B[0m                                 Traceback (most recent call last)",
      "Cell \u001B[1;32mIn[2], line 1\u001B[0m\n\u001B[1;32m----> 1\u001B[0m \u001B[43msimilarity\u001B[49m\u001B[38;5;241m.\u001B[39mshape\n",
      "\u001B[1;31mNameError\u001B[0m: name 'similarity' is not defined"
     ]
    }
   ],
   "source": [
    "similarity.shape"
   ]
  },
  {
   "cell_type": "code",
   "execution_count": 46,
   "metadata": {
    "ExecuteTime": {
     "end_time": "2024-02-22T12:13:15.534954200Z",
     "start_time": "2024-02-22T12:13:15.469131900Z"
    }
   },
   "outputs": [],
   "source": [
    "def recommend(movie):\n",
    "    index = new_df[new_df['title'] == movie].index[0]\n",
    "    "
   ]
  },
  {
   "cell_type": "code",
   "outputs": [
    {
     "ename": "NameError",
     "evalue": "name 'new_df' is not defined",
     "output_type": "error",
     "traceback": [
      "\u001B[1;31m---------------------------------------------------------------------------\u001B[0m",
      "\u001B[1;31mNameError\u001B[0m                                 Traceback (most recent call last)",
      "Cell \u001B[1;32mIn[1], line 1\u001B[0m\n\u001B[1;32m----> 1\u001B[0m \u001B[43mnew_df\u001B[49m\n",
      "\u001B[1;31mNameError\u001B[0m: name 'new_df' is not defined"
     ]
    }
   ],
   "source": [
    "new_df"
   ],
   "metadata": {
    "collapsed": false,
    "ExecuteTime": {
     "end_time": "2024-02-23T11:01:20.696631Z",
     "start_time": "2024-02-23T11:01:20.210930Z"
    }
   },
   "execution_count": 1
  },
  {
   "cell_type": "code",
   "outputs": [],
   "source": [],
   "metadata": {
    "collapsed": false
   }
  }
 ],
 "metadata": {
  "kernelspec": {
   "display_name": "Python 3",
   "language": "python",
   "name": "python3"
  },
  "language_info": {
   "codemirror_mode": {
    "name": "ipython",
    "version": 3
   },
   "file_extension": ".py",
   "mimetype": "text/x-python",
   "name": "python",
   "nbconvert_exporter": "python",
   "pygments_lexer": "ipython3",
   "version": "3.9.6"
  }
 },
 "nbformat": 4,
 "nbformat_minor": 2
}
